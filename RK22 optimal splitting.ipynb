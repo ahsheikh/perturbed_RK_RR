{
 "cells": [
  {
   "cell_type": "code",
   "execution_count": 2,
   "metadata": {
    "collapsed": false
   },
   "outputs": [],
   "source": [
    "from sympy import var, Matrix, Rational, eye, init_printing,simplify, solve, sqrt, evalf\n",
    "init_printing()"
   ]
  },
  {
   "cell_type": "markdown",
   "metadata": {},
   "source": [
    "#Optimal splittings for 2-stage, 2nd-order RK methods"
   ]
  },
  {
   "cell_type": "markdown",
   "metadata": {},
   "source": [
    "Here is a parameterization of the whole family of methods."
   ]
  },
  {
   "cell_type": "code",
   "execution_count": 3,
   "metadata": {
    "collapsed": false
   },
   "outputs": [
    {
     "data": {
      "image/png": "[encoded data removed]",
      "text/latex": [
       "$$\\left[\\begin{matrix}0 & 0 & 0\\\\a & 0 & 0\\\\1 - \\frac{1}{2 a} & \\frac{1}{2 a} & 0\\end{matrix}\\right]$$"
      ],
      "text/plain": [
       "⎡   0      0   0⎤\n",
       "⎢               ⎥\n",
       "⎢   a      0   0⎥\n",
       "⎢               ⎥\n",
       "⎢     1    1    ⎥\n",
       "⎢1 - ───  ───  0⎥\n",
       "⎣    2⋅a  2⋅a   ⎦"
      ]
     },
     "execution_count": 3,
     "metadata": {},
     "output_type": "execute_result"
    }
   ],
   "source": [
    "r=var('r')\n",
    "a = var('a')\n",
    "one = Rational(1)\n",
    "K = Matrix( [[0,0,0],[a,0,0],[one - one/(2*a),1/(2*a),0]])\n",
    "I = eye(3)\n",
    "e = Matrix( [[1],[1],[1]] )\n",
    "K"
   ]
  },
  {
   "cell_type": "markdown",
   "metadata": {},
   "source": [
    "Next we compute the canonical Shu-Osher form:"
   ]
  },
  {
   "cell_type": "code",
   "execution_count": 4,
   "metadata": {
    "collapsed": false
   },
   "outputs": [],
   "source": [
    "G = I+r*K\n",
    "Ginv = G.inv()\n",
    "alpha_r = Ginv*K\n",
    "d_r = Ginv*e"
   ]
  },
  {
   "cell_type": "code",
   "execution_count": 5,
   "metadata": {
    "collapsed": false
   },
   "outputs": [
    {
     "data": {
      "image/png": "[encoded data removed]",
      "text/latex": [
       "$$\\left[\\begin{matrix}0 & 0 & 0\\\\a & 0 & 0\\\\- \\frac{r}{2} + 1 - \\frac{1}{2 a} & \\frac{1}{2 a} & 0\\end{matrix}\\right]$$"
      ],
      "text/plain": [
       "⎡      0         0   0⎤\n",
       "⎢                     ⎥\n",
       "⎢      a         0   0⎥\n",
       "⎢                     ⎥\n",
       "⎢  r        1    1    ⎥\n",
       "⎢- ─ + 1 - ───  ───  0⎥\n",
       "⎣  2       2⋅a  2⋅a   ⎦"
      ]
     },
     "execution_count": 5,
     "metadata": {},
     "output_type": "execute_result"
    }
   ],
   "source": [
    "alpha_r"
   ]
  },
  {
   "cell_type": "code",
   "execution_count": 6,
   "metadata": {
    "collapsed": false
   },
   "outputs": [
    {
     "data": {
      "image/png": "[encoded data removed]",
      "text/latex": [
       "$$\\left[\\begin{matrix}1\\\\- a r + 1\\\\\\frac{r^{2}}{2} - r \\left(1 - \\frac{1}{2 a}\\right) + 1 - \\frac{r}{2 a}\\end{matrix}\\right]$$"
      ],
      "text/plain": [
       "⎡            1             ⎤\n",
       "⎢                          ⎥\n",
       "⎢         -a⋅r + 1         ⎥\n",
       "⎢                          ⎥\n",
       "⎢ 2                        ⎥\n",
       "⎢r      ⎛     1 ⎞        r ⎥\n",
       "⎢── - r⋅⎜1 - ───⎟ + 1 - ───⎥\n",
       "⎣2      ⎝    2⋅a⎠       2⋅a⎦"
      ]
     },
     "execution_count": 6,
     "metadata": {},
     "output_type": "execute_result"
    }
   ],
   "source": [
    "d_r"
   ]
  },
  {
   "cell_type": "code",
   "execution_count": 7,
   "metadata": {
    "collapsed": false
   },
   "outputs": [
    {
     "data": {
      "image/png": "[encoded data removed]",
      "text/latex": [
       "$$\\frac{r^{2}}{2} - r + 1$$"
      ],
      "text/plain": [
       " 2        \n",
       "r         \n",
       "── - r + 1\n",
       "2         "
      ]
     },
     "execution_count": 7,
     "metadata": {},
     "output_type": "execute_result"
    }
   ],
   "source": [
    "simplify(d_r[-1])"
   ]
  },
  {
   "cell_type": "markdown",
   "metadata": {},
   "source": [
    "Now we have different cases depending on the sign of alpha_r[3,1].  First we do the case where it is negative (which happens certainly for $0\\le a \\le 1/2$).  We follow Algorithm 2."
   ]
  },
  {
   "cell_type": "code",
   "execution_count": 10,
   "metadata": {
    "collapsed": false
   },
   "outputs": [
    {
     "data": {
      "image/png": "[encoded data removed]",
      "text/latex": [
       "$$\\left[\\begin{matrix}0 & 0 & 0\\\\a & 0 & 0\\\\0 & \\frac{1}{2 a} & 0\\end{matrix}\\right]$$"
      ],
      "text/plain": [
       "⎡0   0   0⎤\n",
       "⎢         ⎥\n",
       "⎢a   0   0⎥\n",
       "⎢         ⎥\n",
       "⎢    1    ⎥\n",
       "⎢0  ───  0⎥\n",
       "⎣   2⋅a   ⎦"
      ]
     },
     "execution_count": 10,
     "metadata": {},
     "output_type": "execute_result"
    }
   ],
   "source": [
    "alpha_r_p = alpha_r.copy()\n",
    "alpha_r_p[2,0] = 0\n",
    "alpha_r_m = 0*alpha_r\n",
    "alpha_r_m[2,0] = -alpha_r[2,0]\n",
    "alpha_r_p"
   ]
  },
  {
   "cell_type": "code",
   "execution_count": 11,
   "metadata": {
    "collapsed": false
   },
   "outputs": [
    {
     "data": {
      "image/png": "[encoded data removed]",
      "text/latex": [
       "$$\\left[\\begin{matrix}0 & 0 & 0\\\\0 & 0 & 0\\\\\\frac{r}{2} - 1 + \\frac{1}{2 a} & 0 & 0\\end{matrix}\\right]$$"
      ],
      "text/plain": [
       "⎡     0       0  0⎤\n",
       "⎢                 ⎥\n",
       "⎢     0       0  0⎥\n",
       "⎢                 ⎥\n",
       "⎢r        1       ⎥\n",
       "⎢─ - 1 + ───  0  0⎥\n",
       "⎣2       2⋅a      ⎦"
      ]
     },
     "execution_count": 11,
     "metadata": {},
     "output_type": "execute_result"
    }
   ],
   "source": [
    "alpha_r_m"
   ]
  },
  {
   "cell_type": "code",
   "execution_count": 12,
   "metadata": {
    "collapsed": false
   },
   "outputs": [],
   "source": [
    "H = I-2*alpha_r_m\n",
    "Hinv = H.inv()\n",
    "Hinv\n",
    "alpha_r_up = Hinv*alpha_r_p\n",
    "alpha_r_down  = -Hinv*alpha_r_m\n",
    "gamma_r = (I - a*alpha_r_down)*d_r"
   ]
  },
  {
   "cell_type": "code",
   "execution_count": 13,
   "metadata": {
    "collapsed": false
   },
   "outputs": [
    {
     "data": {
      "image/png": "[encoded data removed]",
      "text/latex": [
       "$$\\left[\\begin{matrix}0 & 0 & 0\\\\a & 0 & 0\\\\0 & \\frac{1}{2 a} & 0\\end{matrix}\\right]$$"
      ],
      "text/plain": [
       "⎡0   0   0⎤\n",
       "⎢         ⎥\n",
       "⎢a   0   0⎥\n",
       "⎢         ⎥\n",
       "⎢    1    ⎥\n",
       "⎢0  ───  0⎥\n",
       "⎣   2⋅a   ⎦"
      ]
     },
     "execution_count": 13,
     "metadata": {},
     "output_type": "execute_result"
    }
   ],
   "source": [
    "alpha_r_up"
   ]
  },
  {
   "cell_type": "code",
   "execution_count": 14,
   "metadata": {
    "collapsed": false
   },
   "outputs": [
    {
     "data": {
      "image/png": "[encoded data removed]",
      "text/latex": [
       "$$\\left[\\begin{matrix}0 & 0 & 0\\\\0 & 0 & 0\\\\- \\frac{r}{2} + 1 - \\frac{1}{2 a} & 0 & 0\\end{matrix}\\right]$$"
      ],
      "text/plain": [
       "⎡      0        0  0⎤\n",
       "⎢                   ⎥\n",
       "⎢      0        0  0⎥\n",
       "⎢                   ⎥\n",
       "⎢  r        1       ⎥\n",
       "⎢- ─ + 1 - ───  0  0⎥\n",
       "⎣  2       2⋅a      ⎦"
      ]
     },
     "execution_count": 14,
     "metadata": {},
     "output_type": "execute_result"
    }
   ],
   "source": [
    "alpha_r_down"
   ]
  },
  {
   "cell_type": "code",
   "execution_count": 16,
   "metadata": {
    "collapsed": false
   },
   "outputs": [
    {
     "data": {
      "image/png": "[encoded data removed]",
      "text/latex": [
       "$$\\left[\\begin{matrix}1\\\\- a r + 1\\\\\\frac{a r}{2} - a + \\frac{r^{2}}{2} - r + \\frac{3}{2}\\end{matrix}\\right]$$"
      ],
      "text/plain": [
       "⎡         1          ⎤\n",
       "⎢                    ⎥\n",
       "⎢      -a⋅r + 1      ⎥\n",
       "⎢                    ⎥\n",
       "⎢           2        ⎥\n",
       "⎢a⋅r       r        3⎥\n",
       "⎢─── - a + ── - r + ─⎥\n",
       "⎣ 2        2        2⎦"
      ]
     },
     "execution_count": 16,
     "metadata": {},
     "output_type": "execute_result"
    }
   ],
   "source": [
    "gamma_r[-1]=simplify(gamma_r[-1])\n",
    "gamma_r"
   ]
  },
  {
   "cell_type": "markdown",
   "metadata": {},
   "source": [
    "Now perform the \"move\" step:"
   ]
  },
  {
   "cell_type": "code",
   "execution_count": 18,
   "metadata": {
    "collapsed": false
   },
   "outputs": [
    {
     "data": {
      "image/png": "[encoded data removed]",
      "text/latex": [
       "$$\\frac{1}{4 a} \\left(a \\left(a r - 2 a + r^{2} - 4 r + 7\\right) - 2\\right)$$"
      ],
      "text/plain": [
       "  ⎛             2          ⎞    \n",
       "a⋅⎝a⋅r - 2⋅a + r  - 4⋅r + 7⎠ - 2\n",
       "────────────────────────────────\n",
       "              4⋅a               "
      ]
     },
     "execution_count": 18,
     "metadata": {},
     "output_type": "execute_result"
    }
   ],
   "source": [
    "X = gamma_r[-1]/2 + alpha_r_down[2,0]\n",
    "simplify(X)"
   ]
  },
  {
   "cell_type": "code",
   "execution_count": 20,
   "metadata": {
    "collapsed": false
   },
   "outputs": [
    {
     "data": {
      "image/png": "[encoded data removed]",
      "text/latex": [
       "$$\\left [ \\frac{1}{2 a} \\left(a \\left(- a + 4\\right) - \\sqrt{a \\left(a^{3} - 12 a + 8\\right)}\\right), \\quad \\frac{1}{2 a} \\left(a \\left(- a + 4\\right) + \\sqrt{a \\left(a^{3} - 12 a + 8\\right)}\\right)\\right ]$$"
      ],
      "text/plain": [
       "⎡                ___________________                  ___________________⎤\n",
       "⎢               ╱   ⎛ 3           ⎞                  ╱   ⎛ 3           ⎞ ⎥\n",
       "⎢a⋅(-a + 4) - ╲╱  a⋅⎝a  - 12⋅a + 8⎠   a⋅(-a + 4) + ╲╱  a⋅⎝a  - 12⋅a + 8⎠ ⎥\n",
       "⎢───────────────────────────────────, ───────────────────────────────────⎥\n",
       "⎣                2⋅a                                  2⋅a                ⎦"
      ]
     },
     "execution_count": 20,
     "metadata": {},
     "output_type": "execute_result"
    }
   ],
   "source": [
    "S=solve(X,r)\n",
    "Z=simplify(S)\n",
    "Z"
   ]
  },
  {
   "cell_type": "markdown",
   "metadata": {},
   "source": [
    "This is a general solution.  Here's what we get for $a=1/2$:"
   ]
  },
  {
   "cell_type": "code",
   "execution_count": 21,
   "metadata": {
    "collapsed": false
   },
   "outputs": [
    {
     "data": {
      "image/png": "[encoded data removed]",
      "text/latex": [
       "$$- \\frac{\\sqrt{17}}{4} + \\frac{7}{4}$$"
      ],
      "text/plain": [
       "    ____    \n",
       "  ╲╱ 17    7\n",
       "- ────── + ─\n",
       "    4      4"
      ]
     },
     "execution_count": 21,
     "metadata": {},
     "output_type": "execute_result"
    }
   ],
   "source": [
    "Z[0].subs({a:one/2})"
   ]
  },
  {
   "cell_type": "code",
   "execution_count": 22,
   "metadata": {
    "collapsed": false
   },
   "outputs": [
    {
     "data": {
      "image/png": "[encoded data removed]",
      "text/latex": [
       "$$0.719223593596$$"
      ],
      "text/plain": [
       "0.719223593596"
      ]
     },
     "execution_count": 22,
     "metadata": {},
     "output_type": "execute_result"
    }
   ],
   "source": [
    "import numpy as np\n",
    "(7-np.sqrt(17))/4"
   ]
  },
  {
   "cell_type": "markdown",
   "metadata": {},
   "source": [
    "Now we check that the algorithmic implementation in NodePy gives the same result:"
   ]
  },
  {
   "cell_type": "code",
   "execution_count": 23,
   "metadata": {
    "collapsed": false
   },
   "outputs": [],
   "source": [
    "from nodepy import rk"
   ]
  },
  {
   "cell_type": "code",
   "execution_count": 24,
   "metadata": {
    "collapsed": false
   },
   "outputs": [
    {
     "name": "stdout",
     "output_type": "stream",
     "text": [
      "Runge-Kutta Method\n",
      "\n",
      " 0   |\n",
      " 1/2 | 1/2\n",
      "_____|__________\n",
      "     | 0    1\n"
     ]
    }
   ],
   "source": [
    "x = one/2\n",
    "rk2 = rk.RK22_family(one/(2*x))\n",
    "print rk2"
   ]
  },
  {
   "cell_type": "code",
   "execution_count": 25,
   "metadata": {
    "collapsed": false
   },
   "outputs": [
    {
     "data": {
      "text/plain": [
       "(0.7320508075689639,\n",
       " array([1.00000000000000, 0.0, 0.0], dtype=object),\n",
       " array([[0, 0, 0],\n",
       "        [0.683012701892241, 0, 0],\n",
       "        [-7.49955653134293e-14, 0.732050807568964, 0]], dtype=object),\n",
       " array([[0, 0, 0],\n",
       "        [0.316987298107759, 0, 0],\n",
       "        [0.267949192431111, 0, 0]], dtype=object))"
      ]
     },
     "execution_count": 25,
     "metadata": {},
     "output_type": "execute_result"
    }
   ],
   "source": [
    "rk2.optimal_perturbed_splitting()"
   ]
  },
  {
   "cell_type": "code",
   "execution_count": 26,
   "metadata": {
    "collapsed": false
   },
   "outputs": [
    {
     "data": {
      "image/png": "[encoded data removed]",
      "text/latex": [
       "$$-1 + \\sqrt{3}$$"
      ],
      "text/plain": [
       "       ___\n",
       "-1 + ╲╱ 3 "
      ]
     },
     "execution_count": 26,
     "metadata": {},
     "output_type": "execute_result"
    }
   ],
   "source": [
    "(x-1+sqrt(3*x**2-2*x+1))/x"
   ]
  },
  {
   "cell_type": "code",
   "execution_count": 29,
   "metadata": {
    "collapsed": false
   },
   "outputs": [
    {
     "data": {
      "image/png": "[encoded data removed]",
      "text/latex": [
       "$$0.316624790355$$"
      ],
      "text/plain": [
       "0.316624790355"
      ]
     },
     "execution_count": 29,
     "metadata": {},
     "output_type": "execute_result"
    }
   ],
   "source": [
    "np.sqrt(11)-3"
   ]
  },
  {
   "cell_type": "code",
   "execution_count": 107,
   "metadata": {
    "collapsed": false
   },
   "outputs": [
    {
     "data": {
      "image/png": "[encoded data removed]",
      "text/latex": [
       "$$\\frac{7}{8} - \\frac{\\sqrt{127} i}{8}$$"
      ],
      "text/plain": [
       "      _____  \n",
       "7   ╲╱ 127 ⋅ⅈ\n",
       "─ - ─────────\n",
       "8       8    "
      ]
     },
     "execution_count": 107,
     "metadata": {},
     "output_type": "execute_result"
    }
   ],
   "source": [
    "1-x/2 - sqrt(x**2-8)/2"
   ]
  },
  {
   "cell_type": "code",
   "execution_count": 109,
   "metadata": {
    "collapsed": false
   },
   "outputs": [],
   "source": [
    "S=solve(X,a)"
   ]
  },
  {
   "cell_type": "code",
   "execution_count": 110,
   "metadata": {
    "collapsed": false
   },
   "outputs": [
    {
     "data": {
      "image/png": "[encoded data removed]",
      "text/latex": [
       "$$\\begin{bmatrix}\\frac{1}{2 r - 4} \\left(- r^{2} + 4 r - \\sqrt{r^{4} - 8 r^{3} + 30 r^{2} - 48 r + 33} - 7\\right), & \\frac{1}{2 r - 4} \\left(- r^{2} + 4 r + \\sqrt{r^{4} - 8 r^{3} + 30 r^{2} - 48 r + 33} - 7\\right)\\end{bmatrix}$$"
      ],
      "text/plain": [
       "⎡                _______________________________                      ________\n",
       "⎢   2           ╱  4      3       2                      2           ╱  4     \n",
       "⎢- r  + 4⋅r - ╲╱  r  - 8⋅r  + 30⋅r  - 48⋅r + 33  - 7  - r  + 4⋅r + ╲╱  r  - 8⋅\n",
       "⎢───────────────────────────────────────────────────, ────────────────────────\n",
       "⎣                     2⋅(r - 2)                                            2⋅(\n",
       "\n",
       "_______________________    ⎤\n",
       " 3       2                 ⎥\n",
       "r  + 30⋅r  - 48⋅r + 33  - 7⎥\n",
       "───────────────────────────⎥\n",
       "r - 2)                     ⎦"
      ]
     },
     "execution_count": 110,
     "metadata": {},
     "output_type": "execute_result"
    }
   ],
   "source": [
    "S"
   ]
  },
  {
   "cell_type": "code",
   "execution_count": 121,
   "metadata": {
    "collapsed": false
   },
   "outputs": [
    {
     "data": {
      "image/png": "[encoded data removed]",
      "text/latex": [
       "$$\\frac{1}{2 r - 4} \\left(- r^{2} + 4 r - \\sqrt{r^{4} - 8 r^{3} + 30 r^{2} - 48 r + 33} - 7\\right)$$"
      ],
      "text/plain": [
       "                _______________________________    \n",
       "   2           ╱  4      3       2                 \n",
       "- r  + 4⋅r - ╲╱  r  - 8⋅r  + 30⋅r  - 48⋅r + 33  - 7\n",
       "───────────────────────────────────────────────────\n",
       "                     2⋅(r - 2)                     "
      ]
     },
     "execution_count": 121,
     "metadata": {},
     "output_type": "execute_result"
    }
   ],
   "source": [
    "S[0].subs({a:one/4})"
   ]
  },
  {
   "cell_type": "code",
   "execution_count": null,
   "metadata": {
    "collapsed": false
   },
   "outputs": [],
   "source": []
  }
 ],
 "metadata": {
  "kernelspec": {
   "display_name": "Python 2",
   "language": "python",
   "name": "python2"
  },
  "language_info": {
   "codemirror_mode": {
    "name": "ipython",
    "version": 2
   },
   "file_extension": ".py",
   "mimetype": "text/x-python",
   "name": "python",
   "nbconvert_exporter": "python",
   "pygments_lexer": "ipython2",
   "version": "2.7.9"
  }
 },
 "nbformat": 4,
 "nbformat_minor": 0
}
