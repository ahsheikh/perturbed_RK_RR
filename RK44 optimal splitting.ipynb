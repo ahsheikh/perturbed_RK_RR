{
 "cells": [
  {
   "cell_type": "code",
   "execution_count": 1,
   "metadata": {
    "collapsed": false
   },
   "outputs": [],
   "source": [
    "from sympy import var, Matrix, Rational, eye, init_printing,simplify, solve, sqrt, evalf\n",
    "import sympy\n",
    "init_printing()"
   ]
  },
  {
   "cell_type": "markdown",
   "metadata": {},
   "source": [
    "#Optimal splittings for the classical 44 method"
   ]
  },
  {
   "cell_type": "code",
   "execution_count": 2,
   "metadata": {
    "collapsed": false
   },
   "outputs": [],
   "source": [
    "from nodepy import rk"
   ]
  },
  {
   "cell_type": "code",
   "execution_count": 3,
   "metadata": {
    "collapsed": false
   },
   "outputs": [
    {
     "name": "stdout",
     "output_type": "stream",
     "text": [
      "Classical RK4\n",
      "The original four-stage, fourth-order method of Kutta\n",
      " 0   |\n",
      " 1/2 | 1/2\n",
      " 1/2 |      1/2\n",
      " 1   |           1\n",
      "_____|____________________\n",
      "     | 1/6  1/3  1/3  1/6\n"
     ]
    }
   ],
   "source": [
    "rk4 = rk.loadRKM('RK44')\n",
    "s = len(rk4)\n",
    "print rk4"
   ]
  },
  {
   "cell_type": "markdown",
   "metadata": {},
   "source": [
    "Here's what NodePy's implementation gives us, numerically:"
   ]
  },
  {
   "cell_type": "code",
   "execution_count": 4,
   "metadata": {
    "collapsed": false
   },
   "outputs": [
    {
     "data": {
      "text/plain": [
       "(0.6850160627358832,\n",
       " array([1.00000000000000, 0.0, 0.0, 0.0, 0.0], dtype=object),\n",
       " array([[0, 0, 0, 0, 0],\n",
       "        [0.671254015683971, 0, 0, 0, 0],\n",
       "        [0.270090108540258, 0.342508031367942, 0, 0, 0],\n",
       "        [2.71491162884274e-13, 0, 0.685016062735883, 0, 0],\n",
       "        [0.306177880587856, 0.176917664597762, 0.150130853210932,\n",
       "         0.114169343789314, 0]], dtype=object),\n",
       " array([[0, 0, 0, 0, 0],\n",
       "        [0.328745984316029, 0, 0, 0, 0],\n",
       "        [0.387401860091801, 0, 0, 0, 0],\n",
       "        [0.0803604341607595, 0.234623503103086, 0, 0, 0],\n",
       "        [0.252604257814136, 0, 0, 0, 0]], dtype=object))"
      ]
     },
     "execution_count": 4,
     "metadata": {},
     "output_type": "execute_result"
    }
   ],
   "source": [
    "rk4.optimal_perturbed_splitting()"
   ]
  },
  {
   "cell_type": "markdown",
   "metadata": {},
   "source": [
    "Now let's investigate analytically."
   ]
  },
  {
   "cell_type": "code",
   "execution_count": 5,
   "metadata": {
    "collapsed": false
   },
   "outputs": [
    {
     "data": {
      "image/png": "[encoded data removed]",
      "text/latex": [
       "$$\\left[\\begin{matrix}0 & 0 & 0 & 0 & 0\\\\\\frac{1}{2} & 0 & 0 & 0 & 0\\\\0 & \\frac{1}{2} & 0 & 0 & 0\\\\0 & 0 & 1 & 0 & 0\\\\\\frac{1}{6} & \\frac{1}{3} & \\frac{1}{3} & \\frac{1}{6} & 0\\end{matrix}\\right]$$"
      ],
      "text/plain": [
       "⎡ 0    0    0    0   0⎤\n",
       "⎢                     ⎥\n",
       "⎢1/2   0    0    0   0⎥\n",
       "⎢                     ⎥\n",
       "⎢ 0   1/2   0    0   0⎥\n",
       "⎢                     ⎥\n",
       "⎢ 0    0    1    0   0⎥\n",
       "⎢                     ⎥\n",
       "⎣1/6  1/3  1/3  1/6  0⎦"
      ]
     },
     "execution_count": 5,
     "metadata": {},
     "output_type": "execute_result"
    }
   ],
   "source": [
    "A = Matrix(rk4.A)\n",
    "b = Matrix(rk4.b)\n",
    "K = (A.col_join(b.T)).row_join(Matrix([[0],[0],[0],[0],[0]]))\n",
    "K"
   ]
  },
  {
   "cell_type": "code",
   "execution_count": 6,
   "metadata": {
    "collapsed": false
   },
   "outputs": [],
   "source": [
    "r=var('r')\n",
    "one = Rational(1)\n",
    "I = eye(s+1)\n",
    "e = Matrix( [[1],[1],[1],[1],[1]] )\n",
    "G = I+r*K\n",
    "Ginv = G.inv()\n",
    "alpha_r = r*Ginv*K\n",
    "d_r = Ginv*e"
   ]
  },
  {
   "cell_type": "code",
   "execution_count": 7,
   "metadata": {
    "collapsed": false
   },
   "outputs": [
    {
     "data": {
      "image/png": "[encoded data removed]",
      "text/latex": [
       "$$\\left[\\begin{matrix}0 & 0 & 0 & 0 & 0\\\\\\frac{r}{2} & 0 & 0 & 0 & 0\\\\- \\frac{r^{2}}{4} & \\frac{r}{2} & 0 & 0 & 0\\\\\\frac{r^{3}}{4} & - \\frac{r^{2}}{2} & r & 0 & 0\\\\\\frac{r}{2} \\left(- \\frac{r^{3}}{12} + \\frac{r^{2}}{6} - \\frac{r}{3}\\right) + \\frac{r}{6} & \\frac{r}{2} \\left(\\frac{r^{2}}{6} - \\frac{r}{3}\\right) + \\frac{r}{3} & - \\frac{r^{2}}{6} + \\frac{r}{3} & \\frac{r}{6} & 0\\end{matrix}\\right]$$"
      ],
      "text/plain": [
       "⎡          0                  0            0      0  0⎤\n",
       "⎢                                                     ⎥\n",
       "⎢          r                                          ⎥\n",
       "⎢          ─                  0            0      0  0⎥\n",
       "⎢          2                                          ⎥\n",
       "⎢                                                     ⎥\n",
       "⎢          2                                          ⎥\n",
       "⎢        -r                   r                       ⎥\n",
       "⎢        ────                 ─            0      0  0⎥\n",
       "⎢         4                   2                       ⎥\n",
       "⎢                                                     ⎥\n",
       "⎢          3                   2                      ⎥\n",
       "⎢         r                  -r                       ⎥\n",
       "⎢         ──                 ────          r      0  0⎥\n",
       "⎢         4                   2                       ⎥\n",
       "⎢                                                     ⎥\n",
       "⎢  ⎛   3    2    ⎞        ⎛ 2    ⎞                    ⎥\n",
       "⎢  ⎜  r    r    r⎟        ⎜r    r⎟                    ⎥\n",
       "⎢r⋅⎜- ── + ── - ─⎟      r⋅⎜── - ─⎟         2          ⎥\n",
       "⎢  ⎝  12   6    3⎠   r    ⎝6    3⎠   r    r    r  r   ⎥\n",
       "⎢───────────────── + ─  ────────── + ─  - ── + ─  ─  0⎥\n",
       "⎣        2           6      2        3    6    3  6   ⎦"
      ]
     },
     "execution_count": 7,
     "metadata": {},
     "output_type": "execute_result"
    }
   ],
   "source": [
    "alpha_r"
   ]
  },
  {
   "cell_type": "code",
   "execution_count": 8,
   "metadata": {
    "collapsed": false
   },
   "outputs": [
    {
     "data": {
      "image/png": "[encoded data removed]",
      "text/latex": [
       "$$\\left[\\begin{matrix}1\\\\- \\frac{r}{2} + 1\\\\\\frac{r^{2}}{4} - \\frac{r}{2} + 1\\\\- \\frac{r^{3}}{4} + \\frac{r^{2}}{2} - r + 1\\\\\\frac{r^{4}}{24} - \\frac{r^{3}}{6} + \\frac{r^{2}}{2} - r + 1\\end{matrix}\\right]$$"
      ],
      "text/plain": [
       "⎡         1          ⎤\n",
       "⎢                    ⎥\n",
       "⎢        r           ⎥\n",
       "⎢      - ─ + 1       ⎥\n",
       "⎢        2           ⎥\n",
       "⎢                    ⎥\n",
       "⎢      2             ⎥\n",
       "⎢     r    r         ⎥\n",
       "⎢     ── - ─ + 1     ⎥\n",
       "⎢     4    2         ⎥\n",
       "⎢                    ⎥\n",
       "⎢    3    2          ⎥\n",
       "⎢   r    r           ⎥\n",
       "⎢ - ── + ── - r + 1  ⎥\n",
       "⎢   4    2           ⎥\n",
       "⎢                    ⎥\n",
       "⎢ 4    3    2        ⎥\n",
       "⎢r    r    r         ⎥\n",
       "⎢── - ── + ── - r + 1⎥\n",
       "⎣24   6    2         ⎦"
      ]
     },
     "execution_count": 8,
     "metadata": {},
     "output_type": "execute_result"
    }
   ],
   "source": [
    "d_r"
   ]
  },
  {
   "cell_type": "markdown",
   "metadata": {},
   "source": [
    "The optimal perturbed SSP coefficient will turn out to depend on the next-to-last entry of $d_r$ above.\n",
    "\n",
    "Let's check the sign pattern for a value of $r$ slightly smaller than the optimal:"
   ]
  },
  {
   "cell_type": "code",
   "execution_count": 9,
   "metadata": {
    "collapsed": false
   },
   "outputs": [
    {
     "data": {
      "image/png": "[encoded data removed]",
      "text/latex": [
       "$$\\left[\\begin{matrix}0 & 0 & 0 & 0 & 0\\\\\\frac{r}{2} & 0 & 0 & 0 & 0\\\\- 0.17125 r & \\frac{r}{2} & 0 & 0 & 0\\\\0.11730625 r & - 0.3425 r & r & 0 & 0\\\\0.0782096197916667 r & 0.25826875 r & 0.219166666666667 r & \\frac{r}{6} & 0\\end{matrix}\\right]$$"
      ],
      "text/plain": [
       "⎡         0                 0                 0           0  0⎤\n",
       "⎢                                                             ⎥\n",
       "⎢         r                                                   ⎥\n",
       "⎢         ─                 0                 0           0  0⎥\n",
       "⎢         2                                                   ⎥\n",
       "⎢                                                             ⎥\n",
       "⎢                           r                                 ⎥\n",
       "⎢     -0.17125⋅r            ─                 0           0  0⎥\n",
       "⎢                           2                                 ⎥\n",
       "⎢                                                             ⎥\n",
       "⎢    0.11730625⋅r       -0.3425⋅r             r           0  0⎥\n",
       "⎢                                                             ⎥\n",
       "⎢                                                         r   ⎥\n",
       "⎢0.0782096197916667⋅r  0.25826875⋅r  0.219166666666667⋅r  ─  0⎥\n",
       "⎣                                                         6   ⎦"
      ]
     },
     "execution_count": 9,
     "metadata": {},
     "output_type": "execute_result"
    }
   ],
   "source": [
    "r_num = 0.685\n",
    "Gnum = I+r_num*K\n",
    "Gnuminv = Gnum.inv()\n",
    "alpha_r_num = r*Gnuminv*K\n",
    "alpha_r_num"
   ]
  },
  {
   "cell_type": "markdown",
   "metadata": {},
   "source": [
    "Based on the above, we split $\\alpha_r = \\alpha_r^+ - \\alpha_r^-$:"
   ]
  },
  {
   "cell_type": "code",
   "execution_count": 10,
   "metadata": {
    "collapsed": false
   },
   "outputs": [
    {
     "data": {
      "image/png": "[encoded data removed]",
      "text/latex": [
       "$$\\left[\\begin{matrix}0 & 0 & 0 & 0 & 0\\\\\\frac{r}{2} & 0 & 0 & 0 & 0\\\\0 & \\frac{r}{2} & 0 & 0 & 0\\\\\\frac{r^{3}}{4} & 0 & r & 0 & 0\\\\\\frac{r}{2} \\left(- \\frac{r^{3}}{12} + \\frac{r^{2}}{6} - \\frac{r}{3}\\right) + \\frac{r}{6} & \\frac{r}{2} \\left(\\frac{r^{2}}{6} - \\frac{r}{3}\\right) + \\frac{r}{3} & - \\frac{r^{2}}{6} + \\frac{r}{3} & \\frac{r}{6} & 0\\end{matrix}\\right]$$"
      ],
      "text/plain": [
       "⎡          0                  0            0      0  0⎤\n",
       "⎢                                                     ⎥\n",
       "⎢          r                                          ⎥\n",
       "⎢          ─                  0            0      0  0⎥\n",
       "⎢          2                                          ⎥\n",
       "⎢                                                     ⎥\n",
       "⎢                             r                       ⎥\n",
       "⎢          0                  ─            0      0  0⎥\n",
       "⎢                             2                       ⎥\n",
       "⎢                                                     ⎥\n",
       "⎢          3                                          ⎥\n",
       "⎢         r                                           ⎥\n",
       "⎢         ──                  0            r      0  0⎥\n",
       "⎢         4                                           ⎥\n",
       "⎢                                                     ⎥\n",
       "⎢  ⎛   3    2    ⎞        ⎛ 2    ⎞                    ⎥\n",
       "⎢  ⎜  r    r    r⎟        ⎜r    r⎟                    ⎥\n",
       "⎢r⋅⎜- ── + ── - ─⎟      r⋅⎜── - ─⎟         2          ⎥\n",
       "⎢  ⎝  12   6    3⎠   r    ⎝6    3⎠   r    r    r  r   ⎥\n",
       "⎢───────────────── + ─  ────────── + ─  - ── + ─  ─  0⎥\n",
       "⎣        2           6      2        3    6    3  6   ⎦"
      ]
     },
     "execution_count": 10,
     "metadata": {},
     "output_type": "execute_result"
    }
   ],
   "source": [
    "alpha_r_p = alpha_r.copy()\n",
    "alpha_r_p[2,0] = 0\n",
    "alpha_r_p[3,1] = 0\n",
    "alpha_r_p"
   ]
  },
  {
   "cell_type": "code",
   "execution_count": 11,
   "metadata": {
    "collapsed": false
   },
   "outputs": [
    {
     "data": {
      "image/png": "[encoded data removed]",
      "text/latex": [
       "$$\\left[\\begin{matrix}0 & 0 & 0 & 0 & 0\\\\0 & 0 & 0 & 0 & 0\\\\\\frac{r^{2}}{4} & 0 & 0 & 0 & 0\\\\0 & \\frac{r^{2}}{2} & 0 & 0 & 0\\\\0 & 0 & 0 & 0 & 0\\end{matrix}\\right]$$"
      ],
      "text/plain": [
       "⎡0   0   0  0  0⎤\n",
       "⎢               ⎥\n",
       "⎢0   0   0  0  0⎥\n",
       "⎢               ⎥\n",
       "⎢ 2             ⎥\n",
       "⎢r              ⎥\n",
       "⎢──  0   0  0  0⎥\n",
       "⎢4              ⎥\n",
       "⎢               ⎥\n",
       "⎢     2         ⎥\n",
       "⎢    r          ⎥\n",
       "⎢0   ──  0  0  0⎥\n",
       "⎢    2          ⎥\n",
       "⎢               ⎥\n",
       "⎣0   0   0  0  0⎦"
      ]
     },
     "execution_count": 11,
     "metadata": {},
     "output_type": "execute_result"
    }
   ],
   "source": [
    "alpha_r_m = alpha_r_p - alpha_r\n",
    "alpha_r_m"
   ]
  },
  {
   "cell_type": "code",
   "execution_count": 12,
   "metadata": {
    "collapsed": false
   },
   "outputs": [
    {
     "data": {
      "image/png": "[encoded data removed]",
      "text/latex": [
       "$$\\left[\\begin{matrix}1 & 0 & 0 & 0 & 0\\\\0 & 1 & 0 & 0 & 0\\\\- \\frac{r^{2}}{2} & 0 & 1 & 0 & 0\\\\0 & - r^{2} & 0 & 1 & 0\\\\0 & 0 & 0 & 0 & 1\\end{matrix}\\right]$$"
      ],
      "text/plain": [
       "⎡ 1     0   0  0  0⎤\n",
       "⎢                  ⎥\n",
       "⎢ 0     1   0  0  0⎥\n",
       "⎢                  ⎥\n",
       "⎢  2               ⎥\n",
       "⎢-r                ⎥\n",
       "⎢────   0   1  0  0⎥\n",
       "⎢ 2                ⎥\n",
       "⎢                  ⎥\n",
       "⎢        2         ⎥\n",
       "⎢ 0    -r   0  1  0⎥\n",
       "⎢                  ⎥\n",
       "⎣ 0     0   0  0  1⎦"
      ]
     },
     "execution_count": 12,
     "metadata": {},
     "output_type": "execute_result"
    }
   ],
   "source": [
    "H = I+2*alpha_r_m\n",
    "Hinv = H.inv()\n",
    "Hinv"
   ]
  },
  {
   "cell_type": "code",
   "execution_count": 13,
   "metadata": {
    "collapsed": false
   },
   "outputs": [],
   "source": [
    "alpha_r_up    = Hinv*alpha_r_p\n",
    "alpha_r_down  = Hinv*alpha_r_m\n",
    "gamma_r = (I - 2*alpha_r_down)*d_r"
   ]
  },
  {
   "cell_type": "code",
   "execution_count": 14,
   "metadata": {
    "collapsed": false
   },
   "outputs": [
    {
     "data": {
      "image/png": "[encoded data removed]",
      "text/latex": [
       "$$\\left[\\begin{matrix}0 & 0 & 0 & 0 & 0\\\\\\frac{r}{2} & 0 & 0 & 0 & 0\\\\0 & \\frac{r}{2} & 0 & 0 & 0\\\\- \\frac{r^{3}}{4} & 0 & r & 0 & 0\\\\\\frac{r}{2} \\left(- \\frac{r^{3}}{12} + \\frac{r^{2}}{6} - \\frac{r}{3}\\right) + \\frac{r}{6} & \\frac{r}{2} \\left(\\frac{r^{2}}{6} - \\frac{r}{3}\\right) + \\frac{r}{3} & - \\frac{r^{2}}{6} + \\frac{r}{3} & \\frac{r}{6} & 0\\end{matrix}\\right]$$"
      ],
      "text/plain": [
       "⎡          0                  0            0      0  0⎤\n",
       "⎢                                                     ⎥\n",
       "⎢          r                                          ⎥\n",
       "⎢          ─                  0            0      0  0⎥\n",
       "⎢          2                                          ⎥\n",
       "⎢                                                     ⎥\n",
       "⎢                             r                       ⎥\n",
       "⎢          0                  ─            0      0  0⎥\n",
       "⎢                             2                       ⎥\n",
       "⎢                                                     ⎥\n",
       "⎢          3                                          ⎥\n",
       "⎢        -r                                           ⎥\n",
       "⎢        ────                 0            r      0  0⎥\n",
       "⎢         4                                           ⎥\n",
       "⎢                                                     ⎥\n",
       "⎢  ⎛   3    2    ⎞        ⎛ 2    ⎞                    ⎥\n",
       "⎢  ⎜  r    r    r⎟        ⎜r    r⎟                    ⎥\n",
       "⎢r⋅⎜- ── + ── - ─⎟      r⋅⎜── - ─⎟         2          ⎥\n",
       "⎢  ⎝  12   6    3⎠   r    ⎝6    3⎠   r    r    r  r   ⎥\n",
       "⎢───────────────── + ─  ────────── + ─  - ── + ─  ─  0⎥\n",
       "⎣        2           6      2        3    6    3  6   ⎦"
      ]
     },
     "execution_count": 14,
     "metadata": {},
     "output_type": "execute_result"
    }
   ],
   "source": [
    "alpha_r_up"
   ]
  },
  {
   "cell_type": "code",
   "execution_count": 15,
   "metadata": {
    "collapsed": false
   },
   "outputs": [
    {
     "data": {
      "image/png": "[encoded data removed]",
      "text/latex": [
       "$$\\left[\\begin{matrix}0 & 0 & 0 & 0 & 0\\\\0.3425 & 0 & 0 & 0 & 0\\\\0 & 0.3425 & 0 & 0 & 0\\\\-0.08035478125 & 0 & 0.685 & 0 & 0\\\\0.0535735895572917 & 0.17691409375 & 0.150129166666667 & 0.114166666666667 & 0\\end{matrix}\\right]$$"
      ],
      "text/plain": [
       "⎡        0                 0                0                  0          0⎤\n",
       "⎢                                                                          ⎥\n",
       "⎢      0.3425              0                0                  0          0⎥\n",
       "⎢                                                                          ⎥\n",
       "⎢        0              0.3425              0                  0          0⎥\n",
       "⎢                                                                          ⎥\n",
       "⎢  -0.08035478125          0              0.685                0          0⎥\n",
       "⎢                                                                          ⎥\n",
       "⎣0.0535735895572917  0.17691409375  0.150129166666667  0.114166666666667  0⎦"
      ]
     },
     "execution_count": 15,
     "metadata": {},
     "output_type": "execute_result"
    }
   ],
   "source": [
    "alpha_r_up.subs(r,0.685)"
   ]
  },
  {
   "cell_type": "code",
   "execution_count": 16,
   "metadata": {
    "collapsed": false
   },
   "outputs": [
    {
     "data": {
      "image/png": "[encoded data removed]",
      "text/latex": [
       "$$\\left[\\begin{matrix}0 & 0 & 0 & 0 & 0\\\\0 & 0 & 0 & 0 & 0\\\\\\frac{r^{2}}{4} & 0 & 0 & 0 & 0\\\\0 & \\frac{r^{2}}{2} & 0 & 0 & 0\\\\0 & 0 & 0 & 0 & 0\\end{matrix}\\right]$$"
      ],
      "text/plain": [
       "⎡0   0   0  0  0⎤\n",
       "⎢               ⎥\n",
       "⎢0   0   0  0  0⎥\n",
       "⎢               ⎥\n",
       "⎢ 2             ⎥\n",
       "⎢r              ⎥\n",
       "⎢──  0   0  0  0⎥\n",
       "⎢4              ⎥\n",
       "⎢               ⎥\n",
       "⎢     2         ⎥\n",
       "⎢    r          ⎥\n",
       "⎢0   ──  0  0  0⎥\n",
       "⎢    2          ⎥\n",
       "⎢               ⎥\n",
       "⎣0   0   0  0  0⎦"
      ]
     },
     "execution_count": 16,
     "metadata": {},
     "output_type": "execute_result"
    }
   ],
   "source": [
    "alpha_r_down"
   ]
  },
  {
   "cell_type": "code",
   "execution_count": 17,
   "metadata": {
    "collapsed": false
   },
   "outputs": [
    {
     "data": {
      "image/png": "[encoded data removed]",
      "text/latex": [
       "$$\\left[\\begin{matrix}1\\\\0.6575\\\\0.54019375\\\\0.16074228125\\\\0.505216483359375\\end{matrix}\\right]$$"
      ],
      "text/plain": [
       "⎡        1        ⎤\n",
       "⎢                 ⎥\n",
       "⎢     0.6575      ⎥\n",
       "⎢                 ⎥\n",
       "⎢   0.54019375    ⎥\n",
       "⎢                 ⎥\n",
       "⎢  0.16074228125  ⎥\n",
       "⎢                 ⎥\n",
       "⎣0.505216483359375⎦"
      ]
     },
     "execution_count": 17,
     "metadata": {},
     "output_type": "execute_result"
    }
   ],
   "source": [
    "gamma_r[3]=simplify(gamma_r[3])\n",
    "gamma_r.subs(r,0.685)"
   ]
  },
  {
   "cell_type": "markdown",
   "metadata": {},
   "source": [
    "### Shu-Osher-like arrays"
   ]
  },
  {
   "cell_type": "code",
   "execution_count": 18,
   "metadata": {
    "collapsed": false
   },
   "outputs": [
    {
     "data": {
      "image/png": "[encoded data removed]",
      "text/latex": [
       "$$\\left[\\begin{matrix}1\\\\1\\\\1\\\\1\\\\1\\end{matrix}\\right]$$"
      ],
      "text/plain": [
       "⎡1⎤\n",
       "⎢ ⎥\n",
       "⎢1⎥\n",
       "⎢ ⎥\n",
       "⎢1⎥\n",
       "⎢ ⎥\n",
       "⎢1⎥\n",
       "⎢ ⎥\n",
       "⎣1⎦"
      ]
     },
     "execution_count": 18,
     "metadata": {},
     "output_type": "execute_result"
    }
   ],
   "source": [
    "M = I - alpha_r_up - alpha_r_down\n",
    "Minv = M.inv()\n",
    "ee=Minv*gamma_r\n",
    "for i in range(len(ee)):\n",
    "    ee[i] = simplify(ee[i])\n",
    "ee # Should be e"
   ]
  },
  {
   "cell_type": "code",
   "execution_count": 19,
   "metadata": {
    "collapsed": false
   },
   "outputs": [
    {
     "data": {
      "image/png": "[encoded data removed]",
      "text/latex": [
       "$$\\left[\\begin{matrix}0 & 0 & 0 & 0 & 0\\\\\\frac{1}{2} & 0 & 0 & 0 & 0\\\\0 & \\frac{1}{2} & 0 & 0 & 0\\\\0 & 0 & 1 & 0 & 0\\\\\\frac{1}{6} & \\frac{1}{3} & \\frac{1}{3} & \\frac{1}{6} & 0\\end{matrix}\\right]$$"
      ],
      "text/plain": [
       "⎡ 0    0    0    0   0⎤\n",
       "⎢                     ⎥\n",
       "⎢1/2   0    0    0   0⎥\n",
       "⎢                     ⎥\n",
       "⎢ 0   1/2   0    0   0⎥\n",
       "⎢                     ⎥\n",
       "⎢ 0    0    1    0   0⎥\n",
       "⎢                     ⎥\n",
       "⎣1/6  1/3  1/3  1/6  0⎦"
      ]
     },
     "execution_count": 19,
     "metadata": {},
     "output_type": "execute_result"
    }
   ],
   "source": [
    "K_new = Minv*(alpha_r_up-alpha_r_down)/r\n",
    "K_new = K_new.applyfunc(simplify)\n",
    "K_new # Should be K"
   ]
  },
  {
   "cell_type": "code",
   "execution_count": 23,
   "metadata": {
    "collapsed": false
   },
   "outputs": [
    {
     "data": {
      "image/png": "[encoded data removed]",
      "text/latex": [
       "$$\\left[\\begin{matrix}0 & 0 & 0 & 0 & 0\\\\0 & 0 & 0 & 0 & 0\\\\\\frac{r}{4} & 0 & 0 & 0 & 0\\\\\\frac{r^{2}}{4} & \\frac{r}{2} & 0 & 0 & 0\\\\\\frac{r^{2}}{12} & \\frac{r^{2}}{12} & 0 & 0 & 0\\end{matrix}\\right]$$"
      ],
      "text/plain": [
       "⎡0   0   0  0  0⎤\n",
       "⎢               ⎥\n",
       "⎢0   0   0  0  0⎥\n",
       "⎢               ⎥\n",
       "⎢r              ⎥\n",
       "⎢─   0   0  0  0⎥\n",
       "⎢4              ⎥\n",
       "⎢               ⎥\n",
       "⎢ 2             ⎥\n",
       "⎢r   r          ⎥\n",
       "⎢──  ─   0  0  0⎥\n",
       "⎢4   2          ⎥\n",
       "⎢               ⎥\n",
       "⎢ 2   2         ⎥\n",
       "⎢r   r          ⎥\n",
       "⎢──  ──  0  0  0⎥\n",
       "⎣12  12         ⎦"
      ]
     },
     "execution_count": 23,
     "metadata": {},
     "output_type": "execute_result"
    }
   ],
   "source": [
    "K_tilde = Minv*alpha_r_down/r\n",
    "K_tilde"
   ]
  },
  {
   "cell_type": "markdown",
   "metadata": {},
   "source": [
    "## Move the first column values"
   ]
  },
  {
   "cell_type": "markdown",
   "metadata": {},
   "source": [
    "Now perform the \"move\" step:"
   ]
  },
  {
   "cell_type": "code",
   "execution_count": 20,
   "metadata": {
    "collapsed": true
   },
   "outputs": [],
   "source": [
    "alpha_r_up[3,0] += gamma_r[3]/2\n",
    "alpha_r_down[3,0] += gamma_r[3]/2\n",
    "gamma_r[3] = 0"
   ]
  },
  {
   "cell_type": "code",
   "execution_count": 21,
   "metadata": {
    "collapsed": false
   },
   "outputs": [
    {
     "data": {
      "image/png": "[encoded data removed]",
      "text/latex": [
       "$$\\left[\\begin{matrix}0 & 0 & 0 & 0 & 0\\\\\\frac{r}{2} & 0 & 0 & 0 & 0\\\\0 & \\frac{r}{2} & 0 & 0 & 0\\\\- \\frac{r^{3}}{8} - \\frac{r^{2}}{4} - \\frac{r}{2} + \\frac{1}{2} & 0 & r & 0 & 0\\\\\\frac{r}{2} \\left(- \\frac{r^{3}}{12} + \\frac{r^{2}}{6} - \\frac{r}{3}\\right) + \\frac{r}{6} & \\frac{r}{2} \\left(\\frac{r^{2}}{6} - \\frac{r}{3}\\right) + \\frac{r}{3} & - \\frac{r^{2}}{6} + \\frac{r}{3} & \\frac{r}{6} & 0\\end{matrix}\\right]$$"
      ],
      "text/plain": [
       "⎡          0                  0            0      0  0⎤\n",
       "⎢                                                     ⎥\n",
       "⎢          r                                          ⎥\n",
       "⎢          ─                  0            0      0  0⎥\n",
       "⎢          2                                          ⎥\n",
       "⎢                                                     ⎥\n",
       "⎢                             r                       ⎥\n",
       "⎢          0                  ─            0      0  0⎥\n",
       "⎢                             2                       ⎥\n",
       "⎢                                                     ⎥\n",
       "⎢     3    2                                          ⎥\n",
       "⎢    r    r    r   1                                  ⎥\n",
       "⎢  - ── - ── - ─ + ─          0            r      0  0⎥\n",
       "⎢    8    4    2   2                                  ⎥\n",
       "⎢                                                     ⎥\n",
       "⎢  ⎛   3    2    ⎞        ⎛ 2    ⎞                    ⎥\n",
       "⎢  ⎜  r    r    r⎟        ⎜r    r⎟                    ⎥\n",
       "⎢r⋅⎜- ── + ── - ─⎟      r⋅⎜── - ─⎟         2          ⎥\n",
       "⎢  ⎝  12   6    3⎠   r    ⎝6    3⎠   r    r    r  r   ⎥\n",
       "⎢───────────────── + ─  ────────── + ─  - ── + ─  ─  0⎥\n",
       "⎣        2           6      2        3    6    3  6   ⎦"
      ]
     },
     "execution_count": 21,
     "metadata": {},
     "output_type": "execute_result"
    }
   ],
   "source": [
    "alpha_r_up"
   ]
  },
  {
   "cell_type": "code",
   "execution_count": 22,
   "metadata": {
    "collapsed": false
   },
   "outputs": [
    {
     "data": {
      "image/png": "[encoded data removed]",
      "text/latex": [
       "$$\\left[\\begin{matrix}0 & 0 & 0 & 0 & 0\\\\0 & 0 & 0 & 0 & 0\\\\\\frac{r^{2}}{4} & 0 & 0 & 0 & 0\\\\\\frac{r^{3}}{8} - \\frac{r^{2}}{4} - \\frac{r}{2} + \\frac{1}{2} & \\frac{r^{2}}{2} & 0 & 0 & 0\\\\0 & 0 & 0 & 0 & 0\\end{matrix}\\right]$$"
      ],
      "text/plain": [
       "⎡       0         0   0  0  0⎤\n",
       "⎢                            ⎥\n",
       "⎢       0         0   0  0  0⎥\n",
       "⎢                            ⎥\n",
       "⎢       2                    ⎥\n",
       "⎢      r                     ⎥\n",
       "⎢      ──         0   0  0  0⎥\n",
       "⎢      4                     ⎥\n",
       "⎢                            ⎥\n",
       "⎢ 3    2           2         ⎥\n",
       "⎢r    r    r   1  r          ⎥\n",
       "⎢── - ── - ─ + ─  ──  0  0  0⎥\n",
       "⎢8    4    2   2  2          ⎥\n",
       "⎢                            ⎥\n",
       "⎣       0         0   0  0  0⎦"
      ]
     },
     "execution_count": 22,
     "metadata": {},
     "output_type": "execute_result"
    }
   ],
   "source": [
    "alpha_r_down"
   ]
  },
  {
   "cell_type": "code",
   "execution_count": 23,
   "metadata": {
    "collapsed": false
   },
   "outputs": [
    {
     "data": {
      "image/png": "[encoded data removed]",
      "text/latex": [
       "$$r^{3} + 2 r^{2} + 4 r - 4$$"
      ],
      "text/plain": [
       " 3      2          \n",
       "r  + 2⋅r  + 4⋅r - 4"
      ]
     },
     "execution_count": 23,
     "metadata": {},
     "output_type": "execute_result"
    }
   ],
   "source": [
    "X = alpha_r_up[3,0]\n",
    "-8*X"
   ]
  },
  {
   "cell_type": "markdown",
   "metadata": {},
   "source": [
    "The optimal coefficient is the real root of this cubic."
   ]
  },
  {
   "cell_type": "code",
   "execution_count": 24,
   "metadata": {
    "collapsed": false
   },
   "outputs": [
    {
     "data": {
      "image/png": "[encoded data removed]",
      "text/latex": [
       "$$\\left [ -1.34250803136807 - 2.00921659295136 i, \\quad -1.34250803136807 + 2.00921659295136 i, \\quad 0.68501606273615\\right ]$$"
      ],
      "text/plain": [
       "[-1.34250803136807 - -2.00921659295136⋅(-1)⋅ⅈ, -1.34250803136807 + 2.009216592\n",
       "95136⋅ⅈ, 0.68501606273615]"
      ]
     },
     "execution_count": 24,
     "metadata": {},
     "output_type": "execute_result"
    }
   ],
   "source": [
    "S=solve(X,r)\n",
    "[sympy.N(s) for s in S]"
   ]
  },
  {
   "cell_type": "code",
   "execution_count": 25,
   "metadata": {
    "collapsed": false
   },
   "outputs": [
    {
     "data": {
      "image/png": "[encoded data removed]",
      "text/latex": [
       "$$- \\frac{2}{3} - \\frac{4 \\cdot 2^{\\frac{2}{3}}}{3 \\sqrt[3]{41 + 3 \\sqrt{201}}} + \\frac{\\sqrt[3]{2}}{3} \\sqrt[3]{41 + 3 \\sqrt{201}}$$"
      ],
      "text/plain": [
       "                                       ________________\n",
       "                 2/3          3 ___ 3 ╱          _____ \n",
       "  2           4⋅2             ╲╱ 2 ⋅╲╱  41 + 3⋅╲╱ 201  \n",
       "- ─ - ───────────────────── + ─────────────────────────\n",
       "  3        ________________               3            \n",
       "        3 ╱          _____                             \n",
       "      3⋅╲╱  41 + 3⋅╲╱ 201                              "
      ]
     },
     "execution_count": 25,
     "metadata": {},
     "output_type": "execute_result"
    }
   ],
   "source": [
    "r_opt = simplify(sympy.expand(S[-1]))\n",
    "r_opt"
   ]
  },
  {
   "cell_type": "code",
   "execution_count": 26,
   "metadata": {
    "collapsed": false
   },
   "outputs": [
    {
     "data": {
      "image/png": "[encoded data removed]",
      "text/latex": [
       "$$0.68501606273615$$"
      ],
      "text/plain": [
       "0.685016062736150"
      ]
     },
     "execution_count": 26,
     "metadata": {},
     "output_type": "execute_result"
    }
   ],
   "source": [
    "sympy.N(S[-1])"
   ]
  },
  {
   "cell_type": "markdown",
   "metadata": {},
   "source": [
    "##Optimal coefficients"
   ]
  },
  {
   "cell_type": "code",
   "execution_count": 27,
   "metadata": {
    "collapsed": false
   },
   "outputs": [
    {
     "data": {
      "image/png": "[encoded data removed]",
      "text/latex": [
       "$$\\left[\\begin{matrix}0 & 0 & 0 & 0 & 0\\\\0.342508031368075 & 0 & 0 & 0 & 0\\\\0 & 0.342508031368075 & 0 & 0 & 0\\\\-3.0 \\cdot 10^{-126} & 0 & 0.68501606273615 & 0 & 0\\\\0.0535736227737212 & 0.176917664597821 & 0.15013085321096 & 0.114169343789358 & 0\\end{matrix}\\right]$$"
      ],
      "text/plain": [
       "⎡        0                   0                 0                  0          0\n",
       "⎢                                                                             \n",
       "⎢0.342508031368075           0                 0                  0          0\n",
       "⎢                                                                             \n",
       "⎢        0           0.342508031368075         0                  0          0\n",
       "⎢                                                                             \n",
       "⎢     -0.e-126               0          0.68501606273615          0          0\n",
       "⎢                                                                             \n",
       "⎣0.0535736227737212  0.176917664597821  0.15013085321096  0.114169343789358  0\n",
       "\n",
       "⎤\n",
       "⎥\n",
       "⎥\n",
       "⎥\n",
       "⎥\n",
       "⎥\n",
       "⎥\n",
       "⎥\n",
       "⎦"
      ]
     },
     "execution_count": 27,
     "metadata": {},
     "output_type": "execute_result"
    }
   ],
   "source": [
    "sympy.N(alpha_r_up.subs(r,r_opt))"
   ]
  },
  {
   "cell_type": "code",
   "execution_count": 28,
   "metadata": {
    "collapsed": false
   },
   "outputs": [
    {
     "data": {
      "image/png": "[encoded data removed]",
      "text/latex": [
       "$$\\left[\\begin{matrix}0 & 0 & 0 & 0 & 0\\\\0 & 0 & 0 & 0 & 0\\\\0.117311751551634 & 0 & 0 & 0 & 0\\\\0.0803604341605819 & 0.234623503103268 & 0 & 0 & 0\\\\0 & 0 & 0 & 0 & 0\\end{matrix}\\right]$$"
      ],
      "text/plain": [
       "⎡        0                   0          0  0  0⎤\n",
       "⎢                                              ⎥\n",
       "⎢        0                   0          0  0  0⎥\n",
       "⎢                                              ⎥\n",
       "⎢0.117311751551634           0          0  0  0⎥\n",
       "⎢                                              ⎥\n",
       "⎢0.0803604341605819  0.234623503103268  0  0  0⎥\n",
       "⎢                                              ⎥\n",
       "⎣        0                   0          0  0  0⎦"
      ]
     },
     "execution_count": 28,
     "metadata": {},
     "output_type": "execute_result"
    }
   ],
   "source": [
    "sympy.N(alpha_r_down.subs(r,r_opt))"
   ]
  },
  {
   "cell_type": "code",
   "execution_count": 29,
   "metadata": {
    "collapsed": false
   },
   "outputs": [
    {
     "data": {
      "image/png": "[encoded data removed]",
      "text/latex": [
       "$$\\left[\\begin{matrix}1.0\\\\0.657491968631925\\\\0.540180217080291\\\\0\\\\0.505208515628139\\end{matrix}\\right]$$"
      ],
      "text/plain": [
       "⎡       1.0       ⎤\n",
       "⎢                 ⎥\n",
       "⎢0.657491968631925⎥\n",
       "⎢                 ⎥\n",
       "⎢0.540180217080291⎥\n",
       "⎢                 ⎥\n",
       "⎢        0        ⎥\n",
       "⎢                 ⎥\n",
       "⎣0.505208515628139⎦"
      ]
     },
     "execution_count": 29,
     "metadata": {},
     "output_type": "execute_result"
    }
   ],
   "source": [
    "sympy.N(gamma_r.subs(r,r_opt))"
   ]
  },
  {
   "cell_type": "markdown",
   "metadata": {},
   "source": [
    "# Alternative splitting"
   ]
  },
  {
   "cell_type": "markdown",
   "metadata": {},
   "source": [
    "We can obtain other optimal splittings by perturbing the $(5,2)$ entry of $\\alpha_r^+$ and $\\alpha_r^-$."
   ]
  },
  {
   "cell_type": "code",
   "execution_count": 35,
   "metadata": {
    "collapsed": false
   },
   "outputs": [
    {
     "data": {
      "image/png": "[encoded data removed]",
      "text/latex": [
       "$$\\left[\\begin{matrix}0 & 0 & 0 & 0 & 0\\\\\\frac{r}{2} & 0 & 0 & 0 & 0\\\\0 & \\frac{r}{2} & 0 & 0 & 0\\\\\\frac{r^{3}}{4} & 0 & r & 0 & 0\\\\\\frac{r}{2} \\left(- \\frac{r^{3}}{12} + \\frac{r^{2}}{6} - \\frac{r}{3}\\right) + \\frac{r}{6} & \\frac{r}{2} \\left(\\frac{r^{2}}{6} - \\frac{r}{3}\\right) + \\frac{r}{3} & - \\frac{r^{2}}{6} + \\frac{r}{3} & \\frac{r}{6} & 0\\end{matrix}\\right]$$"
      ],
      "text/plain": [
       "⎡          0                  0            0      0  0⎤\n",
       "⎢                                                     ⎥\n",
       "⎢          r                                          ⎥\n",
       "⎢          ─                  0            0      0  0⎥\n",
       "⎢          2                                          ⎥\n",
       "⎢                                                     ⎥\n",
       "⎢                             r                       ⎥\n",
       "⎢          0                  ─            0      0  0⎥\n",
       "⎢                             2                       ⎥\n",
       "⎢                                                     ⎥\n",
       "⎢          3                                          ⎥\n",
       "⎢         r                                           ⎥\n",
       "⎢         ──                  0            r      0  0⎥\n",
       "⎢         4                                           ⎥\n",
       "⎢                                                     ⎥\n",
       "⎢  ⎛   3    2    ⎞        ⎛ 2    ⎞                    ⎥\n",
       "⎢  ⎜  r    r    r⎟        ⎜r    r⎟                    ⎥\n",
       "⎢r⋅⎜- ── + ── - ─⎟      r⋅⎜── - ─⎟         2          ⎥\n",
       "⎢  ⎝  12   6    3⎠   r    ⎝6    3⎠   r    r    r  r   ⎥\n",
       "⎢───────────────── + ─  ────────── + ─  - ── + ─  ─  0⎥\n",
       "⎣        2           6      2        3    6    3  6   ⎦"
      ]
     },
     "execution_count": 35,
     "metadata": {},
     "output_type": "execute_result"
    }
   ],
   "source": [
    "alpha_r_p = alpha_r.copy()\n",
    "alpha_r_p[2,0] = 0\n",
    "alpha_r_p[3,1] = 0\n",
    "alpha_r_p"
   ]
  },
  {
   "cell_type": "code",
   "execution_count": 36,
   "metadata": {
    "collapsed": false
   },
   "outputs": [
    {
     "data": {
      "image/png": "[encoded data removed]",
      "text/latex": [
       "$$\\left[\\begin{matrix}0 & 0 & 0 & 0 & 0\\\\\\frac{r}{2} & 0 & 0 & 0 & 0\\\\0 & \\frac{r}{2} & 0 & 0 & 0\\\\\\frac{r^{3}}{4} & 0 & r & 0 & 0\\\\\\frac{r}{2} \\left(- \\frac{r^{3}}{12} + \\frac{r^{2}}{6} - \\frac{r}{3}\\right) + \\frac{r}{6} & a + \\frac{r}{2} \\left(\\frac{r^{2}}{6} - \\frac{r}{3}\\right) + \\frac{r}{3} & - \\frac{r^{2}}{6} + \\frac{r}{3} & \\frac{r}{6} & 0\\end{matrix}\\right]$$"
      ],
      "text/plain": [
       "⎡          0                    0              0      0  0⎤\n",
       "⎢                                                         ⎥\n",
       "⎢          r                                              ⎥\n",
       "⎢          ─                    0              0      0  0⎥\n",
       "⎢          2                                              ⎥\n",
       "⎢                                                         ⎥\n",
       "⎢                               r                         ⎥\n",
       "⎢          0                    ─              0      0  0⎥\n",
       "⎢                               2                         ⎥\n",
       "⎢                                                         ⎥\n",
       "⎢          3                                              ⎥\n",
       "⎢         r                                               ⎥\n",
       "⎢         ──                    0              r      0  0⎥\n",
       "⎢         4                                               ⎥\n",
       "⎢                                                         ⎥\n",
       "⎢  ⎛   3    2    ⎞            ⎛ 2    ⎞                    ⎥\n",
       "⎢  ⎜  r    r    r⎟            ⎜r    r⎟                    ⎥\n",
       "⎢r⋅⎜- ── + ── - ─⎟          r⋅⎜── - ─⎟         2          ⎥\n",
       "⎢  ⎝  12   6    3⎠   r        ⎝6    3⎠   r    r    r  r   ⎥\n",
       "⎢───────────────── + ─  a + ────────── + ─  - ── + ─  ─  0⎥\n",
       "⎣        2           6          2        3    6    3  6   ⎦"
      ]
     },
     "execution_count": 36,
     "metadata": {},
     "output_type": "execute_result"
    }
   ],
   "source": [
    "a = var('a')\n",
    "alpha_r_p[4,1] += a#one/5\n",
    "alpha_r_p"
   ]
  },
  {
   "cell_type": "code",
   "execution_count": 37,
   "metadata": {
    "collapsed": false
   },
   "outputs": [
    {
     "data": {
      "image/png": "[encoded data removed]",
      "text/latex": [
       "$$\\left[\\begin{matrix}0 & 0 & 0 & 0 & 0\\\\0 & 0 & 0 & 0 & 0\\\\\\frac{r^{2}}{4} & 0 & 0 & 0 & 0\\\\0 & \\frac{r^{2}}{2} & 0 & 0 & 0\\\\0 & a & 0 & 0 & 0\\end{matrix}\\right]$$"
      ],
      "text/plain": [
       "⎡0   0   0  0  0⎤\n",
       "⎢               ⎥\n",
       "⎢0   0   0  0  0⎥\n",
       "⎢               ⎥\n",
       "⎢ 2             ⎥\n",
       "⎢r              ⎥\n",
       "⎢──  0   0  0  0⎥\n",
       "⎢4              ⎥\n",
       "⎢               ⎥\n",
       "⎢     2         ⎥\n",
       "⎢    r          ⎥\n",
       "⎢0   ──  0  0  0⎥\n",
       "⎢    2          ⎥\n",
       "⎢               ⎥\n",
       "⎣0   a   0  0  0⎦"
      ]
     },
     "execution_count": 37,
     "metadata": {},
     "output_type": "execute_result"
    }
   ],
   "source": [
    "alpha_r_m = alpha_r_p - alpha_r\n",
    "alpha_r_m"
   ]
  },
  {
   "cell_type": "code",
   "execution_count": 38,
   "metadata": {
    "collapsed": false
   },
   "outputs": [],
   "source": [
    "H = I+2*alpha_r_m\n",
    "Hinv = H.inv()\n",
    "alpha_r_up    = Hinv*alpha_r_p\n",
    "alpha_r_down  = Hinv*alpha_r_m\n",
    "gamma_r = (I - 2*alpha_r_down)*d_r"
   ]
  },
  {
   "cell_type": "markdown",
   "metadata": {},
   "source": [
    "Move:"
   ]
  },
  {
   "cell_type": "code",
   "execution_count": 39,
   "metadata": {
    "collapsed": false
   },
   "outputs": [],
   "source": [
    "alpha_r_up[3,0] += gamma_r[3]/2\n",
    "gamma_r[3] -= gamma_r[3]/2"
   ]
  },
  {
   "cell_type": "code",
   "execution_count": 40,
   "metadata": {
    "collapsed": false
   },
   "outputs": [],
   "source": [
    "alpha_r_up[:,0] += gamma_r/2\n",
    "alpha_r_down[:,0] += gamma_r/2\n",
    "for i in range(len(gamma_r)):\n",
    "    gamma_r[i] = 0"
   ]
  },
  {
   "cell_type": "code",
   "execution_count": 41,
   "metadata": {
    "collapsed": false
   },
   "outputs": [
    {
     "data": {
      "image/png": "[encoded data removed]",
      "text/latex": [
       "$$\\left[\\begin{matrix}\\frac{1}{2} & 0 & 0 & 0 & 0\\\\\\frac{r}{4} + \\frac{1}{2} & 0 & 0 & 0 & 0\\\\- \\frac{r^{2}}{8} - \\frac{r}{4} + \\frac{1}{2} & \\frac{r}{2} & 0 & 0 & 0\\\\- \\frac{7 r^{3}}{16} - \\frac{3 r^{2}}{4} \\left(- \\frac{r}{2} + 1\\right) + \\frac{3 r^{2}}{8} - \\frac{3 r}{4} + \\frac{3}{4} & 0 & r & 0 & 0\\\\- \\frac{a r}{2} - a - \\frac{r^{4}}{48} + \\frac{r^{2}}{12} - \\frac{r}{3} + \\frac{1}{2} & a + \\frac{r}{2} \\left(\\frac{r^{2}}{6} - \\frac{r}{3}\\right) + \\frac{r}{3} & - \\frac{r^{2}}{6} + \\frac{r}{3} & \\frac{r}{6} & 0\\end{matrix}\\right]$$"
      ],
      "text/plain": [
       "⎡                  1/2                             0              0      0  0⎤\n",
       "⎢                                                                            ⎥\n",
       "⎢                 r   1                                                      ⎥\n",
       "⎢                 ─ + ─                            0              0      0  0⎥\n",
       "⎢                 4   2                                                      ⎥\n",
       "⎢                                                                            ⎥\n",
       "⎢                 2                                                          ⎥\n",
       "⎢                r    r   1                        r                         ⎥\n",
       "⎢              - ── - ─ + ─                        ─              0      0  0⎥\n",
       "⎢                8    4   2                        2                         ⎥\n",
       "⎢                                                                            ⎥\n",
       "⎢            2 ⎛  r    ⎞                                                     ⎥\n",
       "⎢     3   3⋅r ⋅⎜- ─ + 1⎟      2                                              ⎥\n",
       "⎢  7⋅r         ⎝  2    ⎠   3⋅r    3⋅r   3                                    ⎥\n",
       "⎢- ──── - ────────────── + ──── - ─── + ─          0              r      0  0⎥\n",
       "⎢   16          4           8      4    4                                    ⎥\n",
       "⎢                                                                            ⎥\n",
       "⎢                                                ⎛ 2    ⎞                    ⎥\n",
       "⎢                                                ⎜r    r⎟                    ⎥\n",
       "⎢                   4    2                     r⋅⎜── - ─⎟         2          ⎥\n",
       "⎢        a⋅r       r    r    r   1               ⎝6    3⎠   r    r    r  r   ⎥\n",
       "⎢      - ─── - a - ── + ── - ─ + ─         a + ────────── + ─  - ── + ─  ─  0⎥\n",
       "⎣         2        48   12   3   2                 2        3    6    3  6   ⎦"
      ]
     },
     "execution_count": 41,
     "metadata": {},
     "output_type": "execute_result"
    }
   ],
   "source": [
    "alpha_r_up[4,0] = simplify(alpha_r_up[4,0])\n",
    "alpha_r_up"
   ]
  },
  {
   "cell_type": "code",
   "execution_count": 42,
   "metadata": {
    "collapsed": false
   },
   "outputs": [],
   "source": [
    "Y = alpha_r_up[4,0].subs(r,r_opt)"
   ]
  },
  {
   "cell_type": "code",
   "execution_count": 43,
   "metadata": {
    "collapsed": false
   },
   "outputs": [
    {
     "data": {
      "image/png": "[encoded data removed]",
      "text/latex": [
       "$$- a - \\frac{a}{2} \\left(- \\frac{2}{3} - \\frac{4 \\cdot 2^{\\frac{2}{3}}}{3 \\sqrt[3]{41 + 3 \\sqrt{201}}} + \\frac{\\sqrt[3]{2}}{3} \\sqrt[3]{41 + 3 \\sqrt{201}}\\right) - \\frac{\\sqrt[3]{2}}{9} \\sqrt[3]{41 + 3 \\sqrt{201}} - \\frac{1}{48} \\left(- \\frac{2}{3} - \\frac{4 \\cdot 2^{\\frac{2}{3}}}{3 \\sqrt[3]{41 + 3 \\sqrt{201}}} + \\frac{\\sqrt[3]{2}}{3} \\sqrt[3]{41 + 3 \\sqrt{201}}\\right)^{4} + \\frac{1}{12} \\left(- \\frac{2}{3} - \\frac{4 \\cdot 2^{\\frac{2}{3}}}{3 \\sqrt[3]{41 + 3 \\sqrt{201}}} + \\frac{\\sqrt[3]{2}}{3} \\sqrt[3]{41 + 3 \\sqrt{201}}\\right)^{2} + \\frac{4 \\cdot 2^{\\frac{2}{3}}}{9 \\sqrt[3]{41 + 3 \\sqrt{201}}} + \\frac{13}{18}$$"
      ],
      "text/plain": [
       "                                                                              \n",
       "       ⎛                                       ________________⎞              \n",
       "       ⎜                 2/3          3 ___ 3 ╱          _____ ⎟              \n",
       "       ⎜  2           4⋅2             ╲╱ 2 ⋅╲╱  41 + 3⋅╲╱ 201  ⎟              \n",
       "     a⋅⎜- ─ - ───────────────────── + ─────────────────────────⎟              \n",
       "       ⎜  3        ________________               3            ⎟            __\n",
       "       ⎜        3 ╱          _____                             ⎟   3 ___ 3 ╱  \n",
       "       ⎝      3⋅╲╱  41 + 3⋅╲╱ 201                              ⎠   ╲╱ 2 ⋅╲╱  4\n",
       "-a - ─────────────────────────────────────────────────────────── - ───────────\n",
       "                                  2                                           \n",
       "                                                                              \n",
       "                                                                              \n",
       "\n",
       "                                                                          4   \n",
       "                 ⎛                                       ________________⎞    \n",
       "                 ⎜                 2/3          3 ___ 3 ╱          _____ ⎟    \n",
       "                 ⎜  2           4⋅2             ╲╱ 2 ⋅╲╱  41 + 3⋅╲╱ 201  ⎟    \n",
       "                 ⎜- ─ - ───────────────────── + ─────────────────────────⎟    \n",
       "______________   ⎜  3        ________________               3            ⎟    \n",
       "        _____    ⎜        3 ╱          _____                             ⎟    \n",
       "1 + 3⋅╲╱ 201     ⎝      3⋅╲╱  41 + 3⋅╲╱ 201                              ⎠    \n",
       "────────────── - ────────────────────────────────────────────────────────── + \n",
       " 9                                           48                               \n",
       "                                                                              \n",
       "                                                                              \n",
       "\n",
       "                                                         2                    \n",
       "⎛                                       ________________⎞                     \n",
       "⎜                 2/3          3 ___ 3 ╱          _____ ⎟                     \n",
       "⎜  2           4⋅2             ╲╱ 2 ⋅╲╱  41 + 3⋅╲╱ 201  ⎟                     \n",
       "⎜- ─ - ───────────────────── + ─────────────────────────⎟                     \n",
       "⎜  3        ________________               3            ⎟                     \n",
       "⎜        3 ╱          _____                             ⎟               2/3   \n",
       "⎝      3⋅╲╱  41 + 3⋅╲╱ 201                              ⎠            4⋅2      \n",
       "────────────────────────────────────────────────────────── + ─────────────────\n",
       "                            12                                    ____________\n",
       "                                                               3 ╱          __\n",
       "                                                             9⋅╲╱  41 + 3⋅╲╱ 2\n",
       "\n",
       "         \n",
       "         \n",
       "         \n",
       "         \n",
       "         \n",
       "         \n",
       "         \n",
       "       13\n",
       "──── + ──\n",
       "____   18\n",
       "___      \n",
       "01       "
      ]
     },
     "execution_count": 43,
     "metadata": {},
     "output_type": "execute_result"
    }
   ],
   "source": [
    "Y"
   ]
  },
  {
   "cell_type": "code",
   "execution_count": 44,
   "metadata": {
    "collapsed": false
   },
   "outputs": [],
   "source": [
    "T=solve(Y,a)"
   ]
  },
  {
   "cell_type": "code",
   "execution_count": 45,
   "metadata": {
    "collapsed": false
   },
   "outputs": [
    {
     "data": {
      "image/png": "[encoded data removed]",
      "text/latex": [
       "$$0.228064096030608$$"
      ],
      "text/plain": [
       "0.228064096030608"
      ]
     },
     "execution_count": 45,
     "metadata": {},
     "output_type": "execute_result"
    }
   ],
   "source": [
    "aval = sympy.N(T[0])\n",
    "aval"
   ]
  },
  {
   "cell_type": "markdown",
   "metadata": {},
   "source": [
    "So the method retains its SSP coefficient as long as $0\\le a \\le 0.228...$.\n",
    "\n",
    "Let's double-check:"
   ]
  },
  {
   "cell_type": "code",
   "execution_count": 46,
   "metadata": {
    "collapsed": false
   },
   "outputs": [
    {
     "data": {
      "image/png": "[encoded data removed]",
      "text/latex": [
       "$$\\left[\\begin{matrix}0.5 & 0 & 0 & 0 & 0\\\\0.671254015684037 & 0 & 0 & 0 & 0\\\\0.270090108540145 & 0.342508031368075 & 0 & 0 & 0\\\\0.0401802170802909 & 0 & 0.68501606273615 & 0 & 0\\\\7.1155073408267 \\cdot 10^{-17} & 0.404981760628429 & 0.15013085321096 & 0.114169343789358 & 0\\end{matrix}\\right]$$"
      ],
      "text/plain": [
       "⎡        0.5                  0                 0                  0          \n",
       "⎢                                                                             \n",
       "⎢ 0.671254015684037           0                 0                  0          \n",
       "⎢                                                                             \n",
       "⎢ 0.270090108540145   0.342508031368075         0                  0          \n",
       "⎢                                                                             \n",
       "⎢0.0401802170802909           0          0.68501606273615          0          \n",
       "⎢                                                                             \n",
       "⎣7.1155073408267e-17  0.404981760628429  0.15013085321096  0.114169343789358  \n",
       "\n",
       "0⎤\n",
       " ⎥\n",
       "0⎥\n",
       " ⎥\n",
       "0⎥\n",
       " ⎥\n",
       "0⎥\n",
       " ⎥\n",
       "0⎦"
      ]
     },
     "execution_count": 46,
     "metadata": {},
     "output_type": "execute_result"
    }
   ],
   "source": [
    "sympy.N(alpha_r_up.subs(r,r_opt).subs(a,aval))"
   ]
  },
  {
   "cell_type": "code",
   "execution_count": 47,
   "metadata": {
    "collapsed": false
   },
   "outputs": [
    {
     "data": {
      "image/png": "[encoded data removed]",
      "text/latex": [
       "$$\\left[\\begin{matrix}0.5 & 0 & 0 & 0 & 0\\\\0.328745984315963 & 0 & 0 & 0 & 0\\\\0.38740186009178 & 0 & 0 & 0 & 0\\\\0.0401802170802909 & 0.234623503103268 & 0 & 0 & 0\\\\0.102653946340645 & 0.228064096030608 & 0 & 0 & 0\\end{matrix}\\right]$$"
      ],
      "text/plain": [
       "⎡       0.5                  0          0  0  0⎤\n",
       "⎢                                              ⎥\n",
       "⎢0.328745984315963           0          0  0  0⎥\n",
       "⎢                                              ⎥\n",
       "⎢ 0.38740186009178           0          0  0  0⎥\n",
       "⎢                                              ⎥\n",
       "⎢0.0401802170802909  0.234623503103268  0  0  0⎥\n",
       "⎢                                              ⎥\n",
       "⎣0.102653946340645   0.228064096030608  0  0  0⎦"
      ]
     },
     "execution_count": 47,
     "metadata": {},
     "output_type": "execute_result"
    }
   ],
   "source": [
    "sympy.N(alpha_r_down.subs(r,r_opt).subs(a,aval))"
   ]
  },
  {
   "cell_type": "code",
   "execution_count": 48,
   "metadata": {
    "collapsed": false
   },
   "outputs": [
    {
     "data": {
      "image/png": "[encoded data removed]",
      "text/latex": [
       "$$\\left[\\begin{matrix}0\\\\0\\\\0\\\\0\\\\0\\end{matrix}\\right]$$"
      ],
      "text/plain": [
       "⎡0⎤\n",
       "⎢ ⎥\n",
       "⎢0⎥\n",
       "⎢ ⎥\n",
       "⎢0⎥\n",
       "⎢ ⎥\n",
       "⎢0⎥\n",
       "⎢ ⎥\n",
       "⎣0⎦"
      ]
     },
     "execution_count": 48,
     "metadata": {},
     "output_type": "execute_result"
    }
   ],
   "source": [
    "sympy.N(gamma_r.subs(r,r_opt).subs(a,aval))"
   ]
  },
  {
   "cell_type": "code",
   "execution_count": 49,
   "metadata": {
    "collapsed": false
   },
   "outputs": [
    {
     "data": {
      "image/png": "[encoded data removed]",
      "text/latex": [
       "$$\\left[\\begin{matrix}\\frac{1}{2} & 0 & 0 & 0 & 0\\\\- \\frac{r}{4} + \\frac{1}{2} & 0 & 0 & 0 & 0\\\\\\frac{r^{2}}{8} - \\frac{r}{4} + \\frac{1}{2} & 0 & 0 & 0 & 0\\\\- \\frac{r^{3}}{16} - \\frac{r^{2}}{4} \\left(- \\frac{r}{2} + 1\\right) + \\frac{r^{2}}{8} - \\frac{r}{4} + \\frac{1}{4} & \\frac{r^{2}}{2} & 0 & 0 & 0\\\\- a \\left(- \\frac{r}{2} + 1\\right) + \\frac{r^{4}}{48} - \\frac{r^{3}}{12} + \\frac{r^{2}}{4} - \\frac{r}{2} + \\frac{1}{2} & a & 0 & 0 & 0\\end{matrix}\\right]$$"
      ],
      "text/plain": [
       "⎡                1/2                   0   0  0  0⎤\n",
       "⎢                                                 ⎥\n",
       "⎢                r   1                            ⎥\n",
       "⎢              - ─ + ─                 0   0  0  0⎥\n",
       "⎢                4   2                            ⎥\n",
       "⎢                                                 ⎥\n",
       "⎢              2                                  ⎥\n",
       "⎢             r    r   1                          ⎥\n",
       "⎢             ── - ─ + ─               0   0  0  0⎥\n",
       "⎢             8    4   2                          ⎥\n",
       "⎢                                                 ⎥\n",
       "⎢          2 ⎛  r    ⎞                            ⎥\n",
       "⎢     3   r ⋅⎜- ─ + 1⎟    2             2         ⎥\n",
       "⎢    r       ⎝  2    ⎠   r    r   1    r          ⎥\n",
       "⎢  - ── - ──────────── + ── - ─ + ─    ──  0  0  0⎥\n",
       "⎢    16        4         8    4   4    2          ⎥\n",
       "⎢                                                 ⎥\n",
       "⎢                 4    3    2                     ⎥\n",
       "⎢    ⎛  r    ⎞   r    r    r    r   1             ⎥\n",
       "⎢- a⋅⎜- ─ + 1⎟ + ── - ── + ── - ─ + ─  a   0  0  0⎥\n",
       "⎣    ⎝  2    ⎠   48   12   4    2   2             ⎦"
      ]
     },
     "execution_count": 49,
     "metadata": {},
     "output_type": "execute_result"
    }
   ],
   "source": [
    "alpha_r_down"
   ]
  },
  {
   "cell_type": "code",
   "execution_count": null,
   "metadata": {
    "collapsed": false
   },
   "outputs": [],
   "source": []
  }
 ],
 "metadata": {
  "kernelspec": {
   "display_name": "Python 2",
   "language": "python",
   "name": "python2"
  },
  "language_info": {
   "codemirror_mode": {
    "name": "ipython",
    "version": 2
   },
   "file_extension": ".py",
   "mimetype": "text/x-python",
   "name": "python",
   "nbconvert_exporter": "python",
   "pygments_lexer": "ipython2",
   "version": "2.7.9"
  }
 },
 "nbformat": 4,
 "nbformat_minor": 0
}
