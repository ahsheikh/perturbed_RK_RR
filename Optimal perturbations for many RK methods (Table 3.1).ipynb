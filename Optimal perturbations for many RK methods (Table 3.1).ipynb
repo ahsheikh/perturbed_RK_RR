{
 "cells": [
  {
   "cell_type": "markdown",
   "metadata": {},
   "source": [
    "This notebook was used to generate the data shown in Table 3.1 of the manuscript http://arxiv.org/abs/1505.04024."
   ]
  },
  {
   "cell_type": "markdown",
   "metadata": {},
   "source": [
    "# Linear programming feasibility problem\n",
    "\n",
    "We compute the optimal perturbations in 3 ways.  The most reliable way is to use algorithm 1, repeatedly solving the LP given by (3.24).\n",
    "\n",
    "Here is the problem we solve:\n",
    "\\begin{align} \n",
    " (I-2\\alpha^{down}_r)\\alpha_r & = (\\alpha^{up}_r - \\alpha^{down}_r) \\\\\n",
    " (I-2\\alpha^{down}_r)v_r & = \\gamma_r.\n",
    "\\end{align}\n",
    "Here $\\alpha_r, v_r$ are given and we require $\\alpha^{up}_r \\ge 0$, $\\alpha^{down}_r\\ge 0$, $\\gamma_r\\ge 0$."
   ]
  },
  {
   "cell_type": "markdown",
   "metadata": {},
   "source": [
    "We can rewrite the first equation:\n",
    "\\begin{align}\n",
    "        \\alpha_r^d (I+2\\alpha_r) - \\alpha_r^u = -\\alpha_r\n",
    "\\end{align}"
   ]
  },
  {
   "cell_type": "markdown",
   "metadata": {},
   "source": [
    "To obtain\n",
    "\n",
    "\\begin{align} \n",
    " (I-2\\alpha^{down}_r)\\alpha_r + \\alpha^{down}_r & = (\\alpha^{up}_r ) \\ge 0 \\\\\n",
    " (I-2\\alpha^{down}_r)v_r & = \\gamma_r \\ge 0.\n",
    "\\end{align}"
   ]
  },
  {
   "cell_type": "markdown",
   "metadata": {},
   "source": [
    "Alternatively, we can apply Algorithm 2, with either a single iteration or multiple iterations."
   ]
  },
  {
   "cell_type": "markdown",
   "metadata": {},
   "source": [
    "All of this is implemented in the Nodepy package, which can be installed with the command\n",
    "\n",
    "    pip install nodepy"
   ]
  },
  {
   "cell_type": "code",
   "execution_count": 1,
   "metadata": {
    "collapsed": false
   },
   "outputs": [],
   "source": [
    "import cvxpy as cvx\n",
    "from nodepy import rk\n",
    "from sympy import Matrix\n",
    "import sympy\n",
    "import numpy as np\n",
    "sympy.init_printing()\n",
    "from colorama import init\n",
    "from colorama import Fore, Back, Style\n",
    "init()"
   ]
  },
  {
   "cell_type": "markdown",
   "metadata": {},
   "source": [
    "As an example, let's compute (approximately) the optimal perturbation for the classical 4-stage, 4th-order method of Kutta:"
   ]
  },
  {
   "cell_type": "code",
   "execution_count": 2,
   "metadata": {
    "collapsed": false
   },
   "outputs": [],
   "source": [
    "method = rk.loadRKM('RK44')"
   ]
  },
  {
   "cell_type": "markdown",
   "metadata": {},
   "source": [
    "The default is to use algorithm 2 with iteration.  In fact, the non-iterative version has been removed from Nodepy as it was only a curiosity.  To run the non-iterative version, you'll need to check out a specific version of Nodepy from Github: https://github.com/ketch/nodepy/commit/38302584dd832fffb848979f77d433fdf5cbd85a."
   ]
  },
  {
   "cell_type": "code",
   "execution_count": 3,
   "metadata": {
    "collapsed": false
   },
   "outputs": [
    {
     "data": {
      "text/plain": [
       "(0.6850160627358832,\n",
       " array([1.00000000000000, 0.0, 0.0, 0.0, 0.0], dtype=object),\n",
       " array([[0, 0, 0, 0, 0],\n",
       "        [0.671254015683971, 0, 0, 0, 0],\n",
       "        [0.270090108540258, 0.342508031367942, 0, 0, 0],\n",
       "        [2.71491162884274e-13, 0, 0.685016062735883, 0, 0],\n",
       "        [0.306177880587856, 0.176917664597762, 0.150130853210932,\n",
       "         0.114169343789314, 0]], dtype=object),\n",
       " array([[0, 0, 0, 0, 0],\n",
       "        [0.328745984316029, 0, 0, 0, 0],\n",
       "        [0.387401860091801, 0, 0, 0, 0],\n",
       "        [0.0803604341607595, 0.234623503103086, 0, 0, 0],\n",
       "        [0.252604257814136, 0, 0, 0, 0]], dtype=object))"
      ]
     },
     "execution_count": 3,
     "metadata": {},
     "output_type": "execute_result"
    }
   ],
   "source": [
    "method.optimal_perturbed_splitting()"
   ]
  },
  {
   "cell_type": "markdown",
   "metadata": {},
   "source": [
    "The meaning of the outputs of the command above can be found by looking at the documentation.  We're mainly interested in the first one, which is the optimal perturbed radius of absolute monotonicity.\n",
    "\n",
    "The next command computes the same thing, with Algorithm 1:"
   ]
  },
  {
   "cell_type": "code",
   "execution_count": 4,
   "metadata": {
    "collapsed": false
   },
   "outputs": [
    {
     "data": {
      "text/plain": [
       "(0.6850161196809276,\n",
       " array([1.00000000000000, 0.0, 0.0, 0.0, 0.0], dtype=object),\n",
       " array([[0, 0, 0, 0, 0],\n",
       "        [0.671254029920232, 0, 0, 0, 0],\n",
       "        [0.270090084551929, 0.342508059840464, 0, 0, 0],\n",
       "        [-5.79968717079327e-8, 0, 0.685016119680928, 0, 0],\n",
       "        [0.306177866582177, 0.176917677257009, 0.150130859189857,\n",
       "         0.114169353280155, 0]], dtype=object),\n",
       " array([[0, 0, 0, 0, 0],\n",
       "        [0.328745970079768, 0, 0, 0, 0],\n",
       "        [0.387401855607607, 0, 0, 0, 0],\n",
       "        [0.0803603962045867, 0.234623542111357, 0, 0, 0],\n",
       "        [0.252604243690802, 0, 0, 0, 0]], dtype=object))"
      ]
     },
     "execution_count": 4,
     "metadata": {},
     "output_type": "execute_result"
    }
   ],
   "source": [
    "method.optimal_perturbed_splitting(algorithm='LP')"
   ]
  },
  {
   "cell_type": "markdown",
   "metadata": {},
   "source": [
    "We see that the values match, to 6 decimal places."
   ]
  },
  {
   "cell_type": "markdown",
   "metadata": {},
   "source": [
    "The function below computes bound (3.14) from the paper."
   ]
  },
  {
   "cell_type": "code",
   "execution_count": 5,
   "metadata": {
    "collapsed": false
   },
   "outputs": [],
   "source": [
    "def linear_bound(p,s):\n",
    "    rad = np.product(np.arange(s-p+1,s+1))\n",
    "    return rad**(1./p)"
   ]
  },
  {
   "cell_type": "code",
   "execution_count": 6,
   "metadata": {
    "collapsed": true
   },
   "outputs": [],
   "source": [
    "def method_stats_str(method):\n",
    "    method_stats = [method.name,\n",
    "                method.absolute_monotonicity_radius(),\n",
    "                0,\n",
    "                method.optimal_perturbed_splitting(acc=1.e-5,iterate=True)[0],\n",
    "                method.optimal_perturbed_splitting(acc=1.e-5,iterate=False)[0],\n",
    "                1./max(np.max(np.abs(method.A)),np.max(np.abs(method.b))),\n",
    "                linear_bound(method.p,len(method))]\n",
    "    if method.is_explicit():\n",
    "        method_stats[2] = method.optimal_perturbed_splitting(algorithm='LP')[0]\n",
    "    return \"%30s %10.3f %10.3f %10.3f %10.3f %10.3f %10.3f\" % tuple(method_stats)"
   ]
  },
  {
   "cell_type": "markdown",
   "metadata": {},
   "source": [
    "## Table of stats for explicit methods"
   ]
  },
  {
   "cell_type": "code",
   "execution_count": 7,
   "metadata": {
    "collapsed": false
   },
   "outputs": [
    {
     "name": "stdout",
     "output_type": "stream",
     "text": [
      "\u001b[34m                        Method  SSP coeff         LP    Iterate No iterate     1/Amax   G Lin Bd\n",
      "\u001b[31m                        SSP 75      0.000      1.396      1.396      1.179      1.792      4.789\n",
      "\u001b[30m\u001b[43m                       Lambert      0.000      0.238      0.238      0.000      0.583      5.477\n",
      "\u001b[31m              Fehlberg RK5(4)6      0.000      0.058      0.058      0.000      0.125      3.728\n",
      "\u001b[30m\u001b[43m                 Forward Euler      1.000      1.000      1.000      1.000      1.000      1.000\n",
      "\u001b[31m                 Merson RK4(3)      0.000      0.243      0.243      0.000      0.500      3.310\n",
      "\u001b[30m\u001b[43m                      SSPRK 33      1.000      1.000      1.000      1.000      1.000      1.817\n",
      "\u001b[31m   Minimal Truncation Error 22      0.500      1.000      1.000      1.000      1.333      1.414\n",
      "\u001b[30m\u001b[43m           Prince-Dormand 8(7)      0.000      0.013      0.013      0.000      0.060      9.213\n",
      "\u001b[31m                        SSP 95      0.000      2.738      2.738      2.696      3.198      6.853\n",
      "\u001b[30m\u001b[43m                 Classical RK4      0.000      0.685      0.685      0.685      1.000      2.213\n",
      "\u001b[31m                   SSPRK22star      0.785      1.215      1.215      1.215      1.215      1.414\n",
      "\u001b[30m\u001b[43m      Bogacki-Shampine RK5(4)8      0.000      0.313      0.313      0.313      0.859      5.827\n",
      "\u001b[31m                    Heun RK 33      0.000      0.777      0.777      0.777      1.333      1.817\n",
      "\u001b[30m\u001b[43m                      SSPRK 22      1.000      1.000      1.000      1.000      1.000      1.414\n",
      "\u001b[31m        Dormand-Prince RK5(4)7      0.000      0.041      0.041      0.000      0.086      4.789\n",
      "\u001b[30m\u001b[43m                  non-SSPRK 33      0.000      0.558      0.558      0.558      0.857      1.817\n",
      "\u001b[31m                  non-SSPRK 32      0.000      0.777      0.777      0.777      1.000      2.449\n",
      "\u001b[30m\u001b[43m                        SSP 85      0.000      1.876      1.876      1.876      1.919      5.827\n",
      "\u001b[31m                    Calvo 6(5)      0.000      0.022      0.022      0.000      0.060      6.265\n",
      "\u001b[30m\u001b[43m                Butcher's RK65      0.000      0.188      0.188      0.000      0.583      3.728\n",
      "\u001b[31m                   SSPRK(10,4)      6.000      6.000      6.000      6.000      6.000      8.426\n",
      "\u001b[30m\u001b[43m          Midpoint Runge-Kutta      0.000      0.732      0.732      0.732      1.000      1.414\n"
     ]
    }
   ],
   "source": [
    "methods = rk.loadRKM()\n",
    "print Fore.BLUE+\"%30s %10s %10s %10s %10s %10s %10s\" % (\"Method\", \"SSP coeff\", \"LP\", \"Iterate\", \"No iterate\", \"1/Amax\", \"G Lin Bd\")\n",
    "i = 0\n",
    "for name, method in methods.iteritems():\n",
    "    if method.is_explicit():\n",
    "        if i % 2 ==0:\n",
    "            print Fore.RED  + method_stats_str(method)\n",
    "        else:\n",
    "            print Fore.BLACK+Back.YELLOW + method_stats_str(method)\n",
    "        i += 1"
   ]
  },
  {
   "cell_type": "markdown",
   "metadata": {},
   "source": [
    "# End of documented section\n",
    "\n",
    "The material below this point is left in because it might be useful in the future.  But it is not well documented."
   ]
  },
  {
   "cell_type": "markdown",
   "metadata": {},
   "source": [
    "## Table of stats for implicit methods"
   ]
  },
  {
   "cell_type": "code",
   "execution_count": 8,
   "metadata": {
    "collapsed": false
   },
   "outputs": [
    {
     "name": "stdout",
     "output_type": "stream",
     "text": [
      "\u001b[34m                        Method  SSP coeff         LP    Iterate No iterate     1/Amax   G Lin Bd\n",
      "\u001b[31m                Implicit Euler        inf      0.000     50.010     50.010      1.000      1.000\n"
     ]
    },
    {
     "ename": "KeyboardInterrupt",
     "evalue": "",
     "output_type": "error",
     "traceback": [
      "\u001b[0;31m---------------------------------------------------------------------------\u001b[0m\n\u001b[0;31mKeyboardInterrupt\u001b[0m                         Traceback (most recent call last)",
      "\u001b[0;32m<ipython-input-8-45051bae6e3e>\u001b[0m in \u001b[0;36m<module>\u001b[0;34m()\u001b[0m\n\u001b[1;32m      6\u001b[0m             \u001b[0;32mprint\u001b[0m \u001b[0mFore\u001b[0m\u001b[0;34m.\u001b[0m\u001b[0mRED\u001b[0m  \u001b[0;34m+\u001b[0m \u001b[0mmethod_stats_str\u001b[0m\u001b[0;34m(\u001b[0m\u001b[0mmethod\u001b[0m\u001b[0;34m)\u001b[0m\u001b[0;34m\u001b[0m\u001b[0m\n\u001b[1;32m      7\u001b[0m         \u001b[0;32melse\u001b[0m\u001b[0;34m:\u001b[0m\u001b[0;34m\u001b[0m\u001b[0m\n\u001b[0;32m----> 8\u001b[0;31m             \u001b[0;32mprint\u001b[0m \u001b[0mFore\u001b[0m\u001b[0;34m.\u001b[0m\u001b[0mBLACK\u001b[0m\u001b[0;34m+\u001b[0m\u001b[0mBack\u001b[0m\u001b[0;34m.\u001b[0m\u001b[0mYELLOW\u001b[0m \u001b[0;34m+\u001b[0m \u001b[0mmethod_stats_str\u001b[0m\u001b[0;34m(\u001b[0m\u001b[0mmethod\u001b[0m\u001b[0;34m)\u001b[0m\u001b[0;34m\u001b[0m\u001b[0m\n\u001b[0m\u001b[1;32m      9\u001b[0m         \u001b[0mi\u001b[0m \u001b[0;34m+=\u001b[0m \u001b[0;36m1\u001b[0m\u001b[0;34m\u001b[0m\u001b[0m\n",
      "\u001b[0;32m<ipython-input-6-b43f17910f0f>\u001b[0m in \u001b[0;36mmethod_stats_str\u001b[0;34m(method)\u001b[0m\n\u001b[1;32m      3\u001b[0m                 \u001b[0mmethod\u001b[0m\u001b[0;34m.\u001b[0m\u001b[0mabsolute_monotonicity_radius\u001b[0m\u001b[0;34m(\u001b[0m\u001b[0;34m)\u001b[0m\u001b[0;34m,\u001b[0m\u001b[0;34m\u001b[0m\u001b[0m\n\u001b[1;32m      4\u001b[0m                 \u001b[0;36m0\u001b[0m\u001b[0;34m,\u001b[0m\u001b[0;34m\u001b[0m\u001b[0m\n\u001b[0;32m----> 5\u001b[0;31m                 \u001b[0mmethod\u001b[0m\u001b[0;34m.\u001b[0m\u001b[0moptimal_perturbed_splitting\u001b[0m\u001b[0;34m(\u001b[0m\u001b[0macc\u001b[0m\u001b[0;34m=\u001b[0m\u001b[0;36m1.e-5\u001b[0m\u001b[0;34m,\u001b[0m\u001b[0miterate\u001b[0m\u001b[0;34m=\u001b[0m\u001b[0mTrue\u001b[0m\u001b[0;34m)\u001b[0m\u001b[0;34m[\u001b[0m\u001b[0;36m0\u001b[0m\u001b[0;34m]\u001b[0m\u001b[0;34m,\u001b[0m\u001b[0;34m\u001b[0m\u001b[0m\n\u001b[0m\u001b[1;32m      6\u001b[0m                 \u001b[0mmethod\u001b[0m\u001b[0;34m.\u001b[0m\u001b[0moptimal_perturbed_splitting\u001b[0m\u001b[0;34m(\u001b[0m\u001b[0macc\u001b[0m\u001b[0;34m=\u001b[0m\u001b[0;36m1.e-5\u001b[0m\u001b[0;34m,\u001b[0m\u001b[0miterate\u001b[0m\u001b[0;34m=\u001b[0m\u001b[0mFalse\u001b[0m\u001b[0;34m)\u001b[0m\u001b[0;34m[\u001b[0m\u001b[0;36m0\u001b[0m\u001b[0;34m]\u001b[0m\u001b[0;34m,\u001b[0m\u001b[0;34m\u001b[0m\u001b[0m\n\u001b[1;32m      7\u001b[0m                 \u001b[0;36m1.\u001b[0m\u001b[0;34m/\u001b[0m\u001b[0mmax\u001b[0m\u001b[0;34m(\u001b[0m\u001b[0mnp\u001b[0m\u001b[0;34m.\u001b[0m\u001b[0mmax\u001b[0m\u001b[0;34m(\u001b[0m\u001b[0mnp\u001b[0m\u001b[0;34m.\u001b[0m\u001b[0mabs\u001b[0m\u001b[0;34m(\u001b[0m\u001b[0mmethod\u001b[0m\u001b[0;34m.\u001b[0m\u001b[0mA\u001b[0m\u001b[0;34m)\u001b[0m\u001b[0;34m)\u001b[0m\u001b[0;34m,\u001b[0m\u001b[0mnp\u001b[0m\u001b[0;34m.\u001b[0m\u001b[0mmax\u001b[0m\u001b[0;34m(\u001b[0m\u001b[0mnp\u001b[0m\u001b[0;34m.\u001b[0m\u001b[0mabs\u001b[0m\u001b[0;34m(\u001b[0m\u001b[0mmethod\u001b[0m\u001b[0;34m.\u001b[0m\u001b[0mb\u001b[0m\u001b[0;34m)\u001b[0m\u001b[0;34m)\u001b[0m\u001b[0;34m)\u001b[0m\u001b[0;34m,\u001b[0m\u001b[0;34m\u001b[0m\u001b[0m\n",
      "\u001b[0;32m/Users/ketch/Research/Software/nodepy/nodepy/runge_kutta_method.py\u001b[0m in \u001b[0;36moptimal_perturbed_splitting\u001b[0;34m(self, acc, rmax, tol, algorithm, iterate)\u001b[0m\n\u001b[1;32m   1309\u001b[0m             \u001b[0mr\u001b[0m\u001b[0;34m=\u001b[0m\u001b[0mbisect\u001b[0m\u001b[0;34m(\u001b[0m\u001b[0;36m0\u001b[0m\u001b[0;34m,\u001b[0m\u001b[0mrmax\u001b[0m\u001b[0;34m,\u001b[0m\u001b[0macc\u001b[0m\u001b[0;34m,\u001b[0m\u001b[0mtol\u001b[0m\u001b[0;34m,\u001b[0m\u001b[0mself\u001b[0m\u001b[0;34m.\u001b[0m\u001b[0mlp_perturb\u001b[0m\u001b[0;34m)\u001b[0m\u001b[0;34m\u001b[0m\u001b[0m\n\u001b[1;32m   1310\u001b[0m         \u001b[0;32melif\u001b[0m \u001b[0malgorithm\u001b[0m \u001b[0;34m==\u001b[0m \u001b[0;34m'split'\u001b[0m\u001b[0;34m:\u001b[0m\u001b[0;34m\u001b[0m\u001b[0m\n\u001b[0;32m-> 1311\u001b[0;31m             \u001b[0mr\u001b[0m\u001b[0;34m=\u001b[0m\u001b[0mbisect\u001b[0m\u001b[0;34m(\u001b[0m\u001b[0;36m0\u001b[0m\u001b[0;34m,\u001b[0m\u001b[0mrmax\u001b[0m\u001b[0;34m,\u001b[0m\u001b[0macc\u001b[0m\u001b[0;34m,\u001b[0m\u001b[0mtol\u001b[0m\u001b[0;34m,\u001b[0m\u001b[0mself\u001b[0m\u001b[0;34m.\u001b[0m\u001b[0mis_splittable\u001b[0m\u001b[0;34m,\u001b[0m\u001b[0miterate\u001b[0m\u001b[0;34m=\u001b[0m\u001b[0miterate\u001b[0m\u001b[0;34m)\u001b[0m\u001b[0;34m\u001b[0m\u001b[0m\n\u001b[0m\u001b[1;32m   1312\u001b[0m \u001b[0;34m\u001b[0m\u001b[0m\n\u001b[1;32m   1313\u001b[0m         \u001b[0md\u001b[0m\u001b[0;34m,\u001b[0m\u001b[0malpha\u001b[0m\u001b[0;34m,\u001b[0m\u001b[0malphatilde\u001b[0m\u001b[0;34m=\u001b[0m\u001b[0mself\u001b[0m\u001b[0;34m.\u001b[0m\u001b[0msplit\u001b[0m\u001b[0;34m(\u001b[0m\u001b[0mr\u001b[0m\u001b[0;34m,\u001b[0m\u001b[0mtol\u001b[0m\u001b[0;34m=\u001b[0m\u001b[0mtol\u001b[0m\u001b[0;34m)\u001b[0m\u001b[0;34m\u001b[0m\u001b[0m\n",
      "\u001b[0;32m/Users/ketch/Research/Software/nodepy/nodepy/utils.pyc\u001b[0m in \u001b[0;36mbisect\u001b[0;34m(rlo, rhi, acc, tol, fun, **kwargs)\u001b[0m\n\u001b[1;32m      8\u001b[0m     \u001b[0;32mwhile\u001b[0m \u001b[0mrhi\u001b[0m\u001b[0;34m-\u001b[0m\u001b[0mrlo\u001b[0m\u001b[0;34m>\u001b[0m\u001b[0macc\u001b[0m\u001b[0;34m:\u001b[0m\u001b[0;34m\u001b[0m\u001b[0m\n\u001b[1;32m      9\u001b[0m         \u001b[0mr\u001b[0m\u001b[0;34m=\u001b[0m\u001b[0;36m0.5\u001b[0m\u001b[0;34m*\u001b[0m\u001b[0;34m(\u001b[0m\u001b[0mrhi\u001b[0m\u001b[0;34m+\u001b[0m\u001b[0mrlo\u001b[0m\u001b[0;34m)\u001b[0m\u001b[0;34m\u001b[0m\u001b[0m\n\u001b[0;32m---> 10\u001b[0;31m         \u001b[0;32mif\u001b[0m \u001b[0mkwargs\u001b[0m\u001b[0;34m:\u001b[0m \u001b[0misvalid\u001b[0m\u001b[0;34m=\u001b[0m\u001b[0mfun\u001b[0m\u001b[0;34m(\u001b[0m\u001b[0mr\u001b[0m\u001b[0;34m,\u001b[0m\u001b[0mtol\u001b[0m\u001b[0;34m,\u001b[0m\u001b[0;34m**\u001b[0m\u001b[0mkwargs\u001b[0m\u001b[0;34m)\u001b[0m\u001b[0;34m\u001b[0m\u001b[0m\n\u001b[0m\u001b[1;32m     11\u001b[0m         \u001b[0;32melse\u001b[0m\u001b[0;34m:\u001b[0m \u001b[0misvalid\u001b[0m\u001b[0;34m=\u001b[0m\u001b[0mfun\u001b[0m\u001b[0;34m(\u001b[0m\u001b[0mr\u001b[0m\u001b[0;34m,\u001b[0m\u001b[0mtol\u001b[0m\u001b[0;34m)\u001b[0m\u001b[0;34m\u001b[0m\u001b[0m\n\u001b[1;32m     12\u001b[0m         \u001b[0;32mif\u001b[0m \u001b[0misvalid\u001b[0m\u001b[0;34m:\u001b[0m\u001b[0;34m\u001b[0m\u001b[0m\n",
      "\u001b[0;32m/Users/ketch/Research/Software/nodepy/nodepy/runge_kutta_method.py\u001b[0m in \u001b[0;36mis_splittable\u001b[0;34m(self, r, tol, iterate)\u001b[0m\n\u001b[1;32m   1286\u001b[0m     \u001b[0;32mdef\u001b[0m \u001b[0mis_splittable\u001b[0m\u001b[0;34m(\u001b[0m\u001b[0mself\u001b[0m\u001b[0;34m,\u001b[0m\u001b[0mr\u001b[0m\u001b[0;34m,\u001b[0m\u001b[0mtol\u001b[0m\u001b[0;34m=\u001b[0m\u001b[0;36m1.e-15\u001b[0m\u001b[0;34m,\u001b[0m\u001b[0miterate\u001b[0m\u001b[0;34m=\u001b[0m\u001b[0mTrue\u001b[0m\u001b[0;34m)\u001b[0m\u001b[0;34m:\u001b[0m\u001b[0;34m\u001b[0m\u001b[0m\n\u001b[1;32m   1287\u001b[0m         \u001b[0;32mif\u001b[0m \u001b[0miterate\u001b[0m\u001b[0;34m:\u001b[0m\u001b[0;34m\u001b[0m\u001b[0m\n\u001b[0;32m-> 1288\u001b[0;31m             \u001b[0md\u001b[0m\u001b[0;34m,\u001b[0m\u001b[0malpha\u001b[0m\u001b[0;34m,\u001b[0m\u001b[0malphatilde\u001b[0m\u001b[0;34m=\u001b[0m\u001b[0mself\u001b[0m\u001b[0;34m.\u001b[0m\u001b[0mresplit\u001b[0m\u001b[0;34m(\u001b[0m\u001b[0mr\u001b[0m\u001b[0;34m,\u001b[0m\u001b[0mtol\u001b[0m\u001b[0;34m=\u001b[0m\u001b[0mtol\u001b[0m\u001b[0;34m)\u001b[0m\u001b[0;34m\u001b[0m\u001b[0m\n\u001b[0m\u001b[1;32m   1289\u001b[0m         \u001b[0;32melse\u001b[0m\u001b[0;34m:\u001b[0m\u001b[0;34m\u001b[0m\u001b[0m\n\u001b[1;32m   1290\u001b[0m             \u001b[0md\u001b[0m\u001b[0;34m,\u001b[0m\u001b[0malpha\u001b[0m\u001b[0;34m,\u001b[0m\u001b[0malphatilde\u001b[0m\u001b[0;34m=\u001b[0m\u001b[0mself\u001b[0m\u001b[0;34m.\u001b[0m\u001b[0msplit\u001b[0m\u001b[0;34m(\u001b[0m\u001b[0mr\u001b[0m\u001b[0;34m,\u001b[0m\u001b[0mtol\u001b[0m\u001b[0;34m=\u001b[0m\u001b[0mtol\u001b[0m\u001b[0;34m)\u001b[0m\u001b[0;34m\u001b[0m\u001b[0m\n",
      "\u001b[0;32m/Users/ketch/Research/Software/nodepy/nodepy/runge_kutta_method.py\u001b[0m in \u001b[0;36mresplit\u001b[0;34m(self, r, tol, max_iter)\u001b[0m\n\u001b[1;32m   1267\u001b[0m \u001b[0;34m\u001b[0m\u001b[0m\n\u001b[1;32m   1268\u001b[0m         \u001b[0;32mfor\u001b[0m \u001b[0mi\u001b[0m \u001b[0;32min\u001b[0m \u001b[0mrange\u001b[0m\u001b[0;34m(\u001b[0m\u001b[0mmax_iter\u001b[0m\u001b[0;34m)\u001b[0m\u001b[0;34m:\u001b[0m\u001b[0;34m\u001b[0m\u001b[0m\n\u001b[0;32m-> 1269\u001b[0;31m             \u001b[0maup\u001b[0m\u001b[0;34m,\u001b[0m \u001b[0maum\u001b[0m \u001b[0;34m=\u001b[0m \u001b[0msign_split\u001b[0m\u001b[0;34m(\u001b[0m\u001b[0malpha_up\u001b[0m\u001b[0;34m)\u001b[0m\u001b[0;34m\u001b[0m\u001b[0m\n\u001b[0m\u001b[1;32m   1270\u001b[0m             \u001b[0madp\u001b[0m\u001b[0;34m,\u001b[0m \u001b[0madm\u001b[0m \u001b[0;34m=\u001b[0m \u001b[0msign_split\u001b[0m\u001b[0;34m(\u001b[0m\u001b[0malpha_down\u001b[0m\u001b[0;34m)\u001b[0m\u001b[0;34m\u001b[0m\u001b[0m\n\u001b[1;32m   1271\u001b[0m \u001b[0;34m\u001b[0m\u001b[0m\n",
      "\u001b[0;32m/Users/ketch/Research/Software/nodepy/nodepy/runge_kutta_method.py\u001b[0m in \u001b[0;36msign_split\u001b[0;34m(M)\u001b[0m\n\u001b[1;32m   1371\u001b[0m        \u001b[0mmultiplied\u001b[0m \u001b[0mby\u001b[0m \u001b[0;34m-\u001b[0m\u001b[0;36m1.\u001b[0m\u001b[0;34m\u001b[0m\u001b[0m\n\u001b[1;32m   1372\u001b[0m     \"\"\"\n\u001b[0;32m-> 1373\u001b[0;31m     \u001b[0mM_plus\u001b[0m  \u001b[0;34m=\u001b[0m  \u001b[0mM\u001b[0m\u001b[0;34m*\u001b[0m\u001b[0;34m(\u001b[0m\u001b[0mM\u001b[0m\u001b[0;34m>\u001b[0m\u001b[0;36m0\u001b[0m\u001b[0;34m)\u001b[0m\u001b[0;34m.\u001b[0m\u001b[0mastype\u001b[0m\u001b[0;34m(\u001b[0m\u001b[0mint\u001b[0m\u001b[0;34m)\u001b[0m\u001b[0;34m\u001b[0m\u001b[0m\n\u001b[0m\u001b[1;32m   1374\u001b[0m     \u001b[0mM_minus\u001b[0m \u001b[0;34m=\u001b[0m \u001b[0;34m-\u001b[0m\u001b[0mM\u001b[0m\u001b[0;34m*\u001b[0m\u001b[0;34m(\u001b[0m\u001b[0mM\u001b[0m\u001b[0;34m<\u001b[0m\u001b[0;36m0\u001b[0m\u001b[0;34m)\u001b[0m\u001b[0;34m.\u001b[0m\u001b[0mastype\u001b[0m\u001b[0;34m(\u001b[0m\u001b[0mint\u001b[0m\u001b[0;34m)\u001b[0m\u001b[0;34m\u001b[0m\u001b[0m\n\u001b[1;32m   1375\u001b[0m     \u001b[0;32mreturn\u001b[0m \u001b[0mM_plus\u001b[0m\u001b[0;34m,\u001b[0m \u001b[0mM_minus\u001b[0m\u001b[0;34m\u001b[0m\u001b[0m\n",
      "\u001b[0;32m/Users/ketch/anaconda/lib/python2.7/site-packages/sympy/core/expr.pyc\u001b[0m in \u001b[0;36m__gt__\u001b[0;34m(self, other)\u001b[0m\n\u001b[1;32m    267\u001b[0m                 \u001b[0;32mraise\u001b[0m \u001b[0mTypeError\u001b[0m\u001b[0;34m(\u001b[0m\u001b[0;34m\"Invalid comparison of complex %s\"\u001b[0m \u001b[0;34m%\u001b[0m \u001b[0mme\u001b[0m\u001b[0;34m)\u001b[0m\u001b[0;34m\u001b[0m\u001b[0m\n\u001b[1;32m    268\u001b[0m         \u001b[0mdif\u001b[0m \u001b[0;34m=\u001b[0m \u001b[0mself\u001b[0m \u001b[0;34m-\u001b[0m \u001b[0mother\u001b[0m\u001b[0;34m\u001b[0m\u001b[0m\n\u001b[0;32m--> 269\u001b[0;31m         \u001b[0;32mif\u001b[0m \u001b[0mdif\u001b[0m\u001b[0;34m.\u001b[0m\u001b[0mis_positive\u001b[0m \u001b[0;32mis\u001b[0m \u001b[0;32mnot\u001b[0m \u001b[0mNone\u001b[0m \u001b[0;32mand\u001b[0m\u001b[0;31m \u001b[0m\u001b[0;31m\\\u001b[0m\u001b[0;34m\u001b[0m\u001b[0m\n\u001b[0m\u001b[1;32m    270\u001b[0m                 \u001b[0mdif\u001b[0m\u001b[0;34m.\u001b[0m\u001b[0mis_positive\u001b[0m \u001b[0;32mis\u001b[0m \u001b[0;32mnot\u001b[0m \u001b[0mdif\u001b[0m\u001b[0;34m.\u001b[0m\u001b[0mis_nonpositive\u001b[0m\u001b[0;34m:\u001b[0m\u001b[0;34m\u001b[0m\u001b[0m\n\u001b[1;32m    271\u001b[0m             \u001b[0;32mreturn\u001b[0m \u001b[0msympify\u001b[0m\u001b[0;34m(\u001b[0m\u001b[0mdif\u001b[0m\u001b[0;34m.\u001b[0m\u001b[0mis_positive\u001b[0m\u001b[0;34m)\u001b[0m\u001b[0;34m\u001b[0m\u001b[0m\n",
      "\u001b[0;32m/Users/ketch/anaconda/lib/python2.7/site-packages/sympy/core/assumptions.pyc\u001b[0m in \u001b[0;36mgetit\u001b[0;34m(self)\u001b[0m\n\u001b[1;32m    219\u001b[0m             \u001b[0;32mif\u001b[0m \u001b[0mself\u001b[0m\u001b[0;34m.\u001b[0m\u001b[0m_assumptions\u001b[0m \u001b[0;32mis\u001b[0m \u001b[0mself\u001b[0m\u001b[0;34m.\u001b[0m\u001b[0mdefault_assumptions\u001b[0m\u001b[0;34m:\u001b[0m\u001b[0;34m\u001b[0m\u001b[0m\n\u001b[1;32m    220\u001b[0m                 \u001b[0mself\u001b[0m\u001b[0;34m.\u001b[0m\u001b[0m_assumptions\u001b[0m \u001b[0;34m=\u001b[0m \u001b[0mself\u001b[0m\u001b[0;34m.\u001b[0m\u001b[0mdefault_assumptions\u001b[0m\u001b[0;34m.\u001b[0m\u001b[0mcopy\u001b[0m\u001b[0;34m(\u001b[0m\u001b[0;34m)\u001b[0m\u001b[0;34m\u001b[0m\u001b[0m\n\u001b[0;32m--> 221\u001b[0;31m             \u001b[0;32mreturn\u001b[0m \u001b[0m_ask\u001b[0m\u001b[0;34m(\u001b[0m\u001b[0mfact\u001b[0m\u001b[0;34m,\u001b[0m \u001b[0mself\u001b[0m\u001b[0;34m)\u001b[0m\u001b[0;34m\u001b[0m\u001b[0m\n\u001b[0m\u001b[1;32m    222\u001b[0m \u001b[0;34m\u001b[0m\u001b[0m\n\u001b[1;32m    223\u001b[0m     \u001b[0mgetit\u001b[0m\u001b[0;34m.\u001b[0m\u001b[0mfunc_name\u001b[0m \u001b[0;34m=\u001b[0m \u001b[0mas_property\u001b[0m\u001b[0;34m(\u001b[0m\u001b[0mfact\u001b[0m\u001b[0;34m)\u001b[0m\u001b[0;34m\u001b[0m\u001b[0m\n",
      "\u001b[0;32m/Users/ketch/anaconda/lib/python2.7/site-packages/sympy/core/assumptions.pyc\u001b[0m in \u001b[0;36m_ask\u001b[0;34m(fact, obj)\u001b[0m\n\u001b[1;32m    262\u001b[0m         \u001b[0;32mpass\u001b[0m\u001b[0;34m\u001b[0m\u001b[0m\n\u001b[1;32m    263\u001b[0m     \u001b[0;32melse\u001b[0m\u001b[0;34m:\u001b[0m\u001b[0;34m\u001b[0m\u001b[0m\n\u001b[0;32m--> 264\u001b[0;31m         \u001b[0ma\u001b[0m \u001b[0;34m=\u001b[0m \u001b[0mevaluate\u001b[0m\u001b[0;34m(\u001b[0m\u001b[0mobj\u001b[0m\u001b[0;34m)\u001b[0m\u001b[0;34m\u001b[0m\u001b[0m\n\u001b[0m\u001b[1;32m    265\u001b[0m         \u001b[0;32mif\u001b[0m \u001b[0ma\u001b[0m \u001b[0;32mis\u001b[0m \u001b[0;32mnot\u001b[0m \u001b[0mNone\u001b[0m\u001b[0;34m:\u001b[0m\u001b[0;34m\u001b[0m\u001b[0m\n\u001b[1;32m    266\u001b[0m             \u001b[0massumptions\u001b[0m\u001b[0;34m.\u001b[0m\u001b[0mdeduce_all_facts\u001b[0m\u001b[0;34m(\u001b[0m\u001b[0;34m(\u001b[0m\u001b[0;34m(\u001b[0m\u001b[0mfact\u001b[0m\u001b[0;34m,\u001b[0m \u001b[0ma\u001b[0m\u001b[0;34m)\u001b[0m\u001b[0;34m,\u001b[0m\u001b[0;34m)\u001b[0m\u001b[0;34m)\u001b[0m\u001b[0;34m\u001b[0m\u001b[0m\n",
      "\u001b[0;32m/Users/ketch/anaconda/lib/python2.7/site-packages/sympy/core/add.pyc\u001b[0m in \u001b[0;36m_eval_is_positive\u001b[0;34m(self)\u001b[0m\n\u001b[1;32m    498\u001b[0m     \u001b[0;32mdef\u001b[0m \u001b[0m_eval_is_positive\u001b[0m\u001b[0;34m(\u001b[0m\u001b[0mself\u001b[0m\u001b[0;34m)\u001b[0m\u001b[0;34m:\u001b[0m\u001b[0;34m\u001b[0m\u001b[0m\n\u001b[1;32m    499\u001b[0m         \u001b[0;32mif\u001b[0m \u001b[0mself\u001b[0m\u001b[0;34m.\u001b[0m\u001b[0mis_number\u001b[0m\u001b[0;34m:\u001b[0m\u001b[0;34m\u001b[0m\u001b[0m\n\u001b[0;32m--> 500\u001b[0;31m             \u001b[0;32mreturn\u001b[0m \u001b[0msuper\u001b[0m\u001b[0;34m(\u001b[0m\u001b[0mAdd\u001b[0m\u001b[0;34m,\u001b[0m \u001b[0mself\u001b[0m\u001b[0;34m)\u001b[0m\u001b[0;34m.\u001b[0m\u001b[0m_eval_is_positive\u001b[0m\u001b[0;34m(\u001b[0m\u001b[0;34m)\u001b[0m\u001b[0;34m\u001b[0m\u001b[0m\n\u001b[0m\u001b[1;32m    501\u001b[0m         \u001b[0mpos\u001b[0m \u001b[0;34m=\u001b[0m \u001b[0mnonneg\u001b[0m \u001b[0;34m=\u001b[0m \u001b[0mnonpos\u001b[0m \u001b[0;34m=\u001b[0m \u001b[0munknown_sign\u001b[0m \u001b[0;34m=\u001b[0m \u001b[0mFalse\u001b[0m\u001b[0;34m\u001b[0m\u001b[0m\n\u001b[1;32m    502\u001b[0m         \u001b[0msaw_INF\u001b[0m \u001b[0;34m=\u001b[0m \u001b[0mset\u001b[0m\u001b[0;34m(\u001b[0m\u001b[0;34m)\u001b[0m\u001b[0;34m\u001b[0m\u001b[0m\n",
      "\u001b[0;32m/Users/ketch/anaconda/lib/python2.7/site-packages/sympy/core/expr.pyc\u001b[0m in \u001b[0;36m_eval_is_positive\u001b[0;34m(self)\u001b[0m\n\u001b[1;32m    675\u001b[0m             \u001b[0;32mexcept\u001b[0m \u001b[0;34m(\u001b[0m\u001b[0mAttributeError\u001b[0m\u001b[0;34m,\u001b[0m \u001b[0mValueError\u001b[0m\u001b[0;34m)\u001b[0m\u001b[0;34m:\u001b[0m\u001b[0;34m\u001b[0m\u001b[0m\n\u001b[1;32m    676\u001b[0m                 \u001b[0;32mreturn\u001b[0m \u001b[0mNone\u001b[0m\u001b[0;34m\u001b[0m\u001b[0m\n\u001b[0;32m--> 677\u001b[0;31m             \u001b[0mn\u001b[0m\u001b[0;34m,\u001b[0m \u001b[0mi\u001b[0m \u001b[0;34m=\u001b[0m \u001b[0mself\u001b[0m\u001b[0;34m.\u001b[0m\u001b[0mevalf\u001b[0m\u001b[0;34m(\u001b[0m\u001b[0;36m2\u001b[0m\u001b[0;34m)\u001b[0m\u001b[0;34m.\u001b[0m\u001b[0mas_real_imag\u001b[0m\u001b[0;34m(\u001b[0m\u001b[0;34m)\u001b[0m\u001b[0;34m\u001b[0m\u001b[0m\n\u001b[0m\u001b[1;32m    678\u001b[0m             \u001b[0;32mif\u001b[0m \u001b[0;32mnot\u001b[0m \u001b[0mi\u001b[0m\u001b[0;34m.\u001b[0m\u001b[0mis_Number\u001b[0m \u001b[0;32mor\u001b[0m \u001b[0;32mnot\u001b[0m \u001b[0mn\u001b[0m\u001b[0;34m.\u001b[0m\u001b[0mis_Number\u001b[0m\u001b[0;34m:\u001b[0m\u001b[0;34m\u001b[0m\u001b[0m\n\u001b[1;32m    679\u001b[0m                 \u001b[0;32mreturn\u001b[0m \u001b[0mFalse\u001b[0m\u001b[0;34m\u001b[0m\u001b[0m\n",
      "\u001b[0;32m/Users/ketch/anaconda/lib/python2.7/site-packages/sympy/core/evalf.pyc\u001b[0m in \u001b[0;36mevalf\u001b[0;34m(self, n, subs, maxn, chop, strict, quad, verbose)\u001b[0m\n\u001b[1;32m   1315\u001b[0m             \u001b[0moptions\u001b[0m\u001b[0;34m[\u001b[0m\u001b[0;34m'quad'\u001b[0m\u001b[0;34m]\u001b[0m \u001b[0;34m=\u001b[0m \u001b[0mquad\u001b[0m\u001b[0;34m\u001b[0m\u001b[0m\n\u001b[1;32m   1316\u001b[0m         \u001b[0;32mtry\u001b[0m\u001b[0;34m:\u001b[0m\u001b[0;34m\u001b[0m\u001b[0m\n\u001b[0;32m-> 1317\u001b[0;31m             \u001b[0mresult\u001b[0m \u001b[0;34m=\u001b[0m \u001b[0mevalf\u001b[0m\u001b[0;34m(\u001b[0m\u001b[0mself\u001b[0m\u001b[0;34m,\u001b[0m \u001b[0mprec\u001b[0m \u001b[0;34m+\u001b[0m \u001b[0;36m4\u001b[0m\u001b[0;34m,\u001b[0m \u001b[0moptions\u001b[0m\u001b[0;34m)\u001b[0m\u001b[0;34m\u001b[0m\u001b[0m\n\u001b[0m\u001b[1;32m   1318\u001b[0m         \u001b[0;32mexcept\u001b[0m \u001b[0mNotImplementedError\u001b[0m\u001b[0;34m:\u001b[0m\u001b[0;34m\u001b[0m\u001b[0m\n\u001b[1;32m   1319\u001b[0m             \u001b[0;31m# Fall back to the ordinary evalf\u001b[0m\u001b[0;34m\u001b[0m\u001b[0;34m\u001b[0m\u001b[0m\n",
      "\u001b[0;32m/Users/ketch/anaconda/lib/python2.7/site-packages/sympy/core/evalf.pyc\u001b[0m in \u001b[0;36mevalf\u001b[0;34m(x, prec, options)\u001b[0m\n\u001b[1;32m   1209\u001b[0m     \u001b[0;32mtry\u001b[0m\u001b[0;34m:\u001b[0m\u001b[0;34m\u001b[0m\u001b[0m\n\u001b[1;32m   1210\u001b[0m         \u001b[0mrf\u001b[0m \u001b[0;34m=\u001b[0m \u001b[0mevalf_table\u001b[0m\u001b[0;34m[\u001b[0m\u001b[0mx\u001b[0m\u001b[0;34m.\u001b[0m\u001b[0mfunc\u001b[0m\u001b[0;34m]\u001b[0m\u001b[0;34m\u001b[0m\u001b[0m\n\u001b[0;32m-> 1211\u001b[0;31m         \u001b[0mr\u001b[0m \u001b[0;34m=\u001b[0m \u001b[0mrf\u001b[0m\u001b[0;34m(\u001b[0m\u001b[0mx\u001b[0m\u001b[0;34m,\u001b[0m \u001b[0mprec\u001b[0m\u001b[0;34m,\u001b[0m \u001b[0moptions\u001b[0m\u001b[0;34m)\u001b[0m\u001b[0;34m\u001b[0m\u001b[0m\n\u001b[0m\u001b[1;32m   1212\u001b[0m     \u001b[0;32mexcept\u001b[0m \u001b[0mKeyError\u001b[0m\u001b[0;34m:\u001b[0m\u001b[0;34m\u001b[0m\u001b[0m\n\u001b[1;32m   1213\u001b[0m         \u001b[0;32mtry\u001b[0m\u001b[0;34m:\u001b[0m\u001b[0;34m\u001b[0m\u001b[0m\n",
      "\u001b[0;32m/Users/ketch/anaconda/lib/python2.7/site-packages/sympy/core/evalf.pyc\u001b[0m in \u001b[0;36mevalf_add\u001b[0;34m(v, prec, options)\u001b[0m\n\u001b[1;32m    460\u001b[0m         \u001b[0moptions\u001b[0m\u001b[0;34m[\u001b[0m\u001b[0;34m'maxprec'\u001b[0m\u001b[0;34m]\u001b[0m \u001b[0;34m=\u001b[0m \u001b[0mmin\u001b[0m\u001b[0;34m(\u001b[0m\u001b[0moldmaxprec\u001b[0m\u001b[0;34m,\u001b[0m \u001b[0;36m2\u001b[0m\u001b[0;34m*\u001b[0m\u001b[0mprec\u001b[0m\u001b[0;34m)\u001b[0m\u001b[0;34m\u001b[0m\u001b[0m\n\u001b[1;32m    461\u001b[0m \u001b[0;34m\u001b[0m\u001b[0m\n\u001b[0;32m--> 462\u001b[0;31m         \u001b[0mterms\u001b[0m \u001b[0;34m=\u001b[0m \u001b[0;34m[\u001b[0m\u001b[0mevalf\u001b[0m\u001b[0;34m(\u001b[0m\u001b[0marg\u001b[0m\u001b[0;34m,\u001b[0m \u001b[0mprec\u001b[0m \u001b[0;34m+\u001b[0m \u001b[0;36m10\u001b[0m\u001b[0;34m,\u001b[0m \u001b[0moptions\u001b[0m\u001b[0;34m)\u001b[0m \u001b[0;32mfor\u001b[0m \u001b[0marg\u001b[0m \u001b[0;32min\u001b[0m \u001b[0mv\u001b[0m\u001b[0;34m.\u001b[0m\u001b[0margs\u001b[0m\u001b[0;34m]\u001b[0m\u001b[0;34m\u001b[0m\u001b[0m\n\u001b[0m\u001b[1;32m    463\u001b[0m         re, re_acc = add_terms(\n\u001b[1;32m    464\u001b[0m             [a[0::2] for a in terms if a[0]], prec, target_prec)\n",
      "\u001b[0;32m/Users/ketch/anaconda/lib/python2.7/site-packages/sympy/core/evalf.pyc\u001b[0m in \u001b[0;36mevalf\u001b[0;34m(x, prec, options)\u001b[0m\n\u001b[1;32m   1209\u001b[0m     \u001b[0;32mtry\u001b[0m\u001b[0;34m:\u001b[0m\u001b[0;34m\u001b[0m\u001b[0m\n\u001b[1;32m   1210\u001b[0m         \u001b[0mrf\u001b[0m \u001b[0;34m=\u001b[0m \u001b[0mevalf_table\u001b[0m\u001b[0;34m[\u001b[0m\u001b[0mx\u001b[0m\u001b[0;34m.\u001b[0m\u001b[0mfunc\u001b[0m\u001b[0;34m]\u001b[0m\u001b[0;34m\u001b[0m\u001b[0m\n\u001b[0;32m-> 1211\u001b[0;31m         \u001b[0mr\u001b[0m \u001b[0;34m=\u001b[0m \u001b[0mrf\u001b[0m\u001b[0;34m(\u001b[0m\u001b[0mx\u001b[0m\u001b[0;34m,\u001b[0m \u001b[0mprec\u001b[0m\u001b[0;34m,\u001b[0m \u001b[0moptions\u001b[0m\u001b[0;34m)\u001b[0m\u001b[0;34m\u001b[0m\u001b[0m\n\u001b[0m\u001b[1;32m   1212\u001b[0m     \u001b[0;32mexcept\u001b[0m \u001b[0mKeyError\u001b[0m\u001b[0;34m:\u001b[0m\u001b[0;34m\u001b[0m\u001b[0m\n\u001b[1;32m   1213\u001b[0m         \u001b[0;32mtry\u001b[0m\u001b[0;34m:\u001b[0m\u001b[0;34m\u001b[0m\u001b[0m\n",
      "\u001b[0;32m/Users/ketch/anaconda/lib/python2.7/site-packages/sympy/core/evalf.pyc\u001b[0m in \u001b[0;36mevalf_mul\u001b[0;34m(v, prec, options)\u001b[0m\n\u001b[1;32m    501\u001b[0m     \u001b[0mspecial\u001b[0m \u001b[0;34m=\u001b[0m \u001b[0;34m[\u001b[0m\u001b[0;34m]\u001b[0m\u001b[0;34m\u001b[0m\u001b[0m\n\u001b[1;32m    502\u001b[0m     \u001b[0;32mfor\u001b[0m \u001b[0marg\u001b[0m \u001b[0;32min\u001b[0m \u001b[0margs\u001b[0m\u001b[0;34m:\u001b[0m\u001b[0;34m\u001b[0m\u001b[0m\n\u001b[0;32m--> 503\u001b[0;31m         \u001b[0marg\u001b[0m \u001b[0;34m=\u001b[0m \u001b[0mevalf\u001b[0m\u001b[0;34m(\u001b[0m\u001b[0marg\u001b[0m\u001b[0;34m,\u001b[0m \u001b[0mprec\u001b[0m\u001b[0;34m,\u001b[0m \u001b[0moptions\u001b[0m\u001b[0;34m)\u001b[0m\u001b[0;34m\u001b[0m\u001b[0m\n\u001b[0m\u001b[1;32m    504\u001b[0m         \u001b[0;32mif\u001b[0m \u001b[0marg\u001b[0m\u001b[0;34m[\u001b[0m\u001b[0;36m0\u001b[0m\u001b[0;34m]\u001b[0m \u001b[0;32mis\u001b[0m \u001b[0mNone\u001b[0m\u001b[0;34m:\u001b[0m\u001b[0;34m\u001b[0m\u001b[0m\n\u001b[1;32m    505\u001b[0m             \u001b[0;32mcontinue\u001b[0m\u001b[0;34m\u001b[0m\u001b[0m\n",
      "\u001b[0;32m/Users/ketch/anaconda/lib/python2.7/site-packages/sympy/core/evalf.pyc\u001b[0m in \u001b[0;36mevalf\u001b[0;34m(x, prec, options)\u001b[0m\n\u001b[1;32m   1209\u001b[0m     \u001b[0;32mtry\u001b[0m\u001b[0;34m:\u001b[0m\u001b[0;34m\u001b[0m\u001b[0m\n\u001b[1;32m   1210\u001b[0m         \u001b[0mrf\u001b[0m \u001b[0;34m=\u001b[0m \u001b[0mevalf_table\u001b[0m\u001b[0;34m[\u001b[0m\u001b[0mx\u001b[0m\u001b[0;34m.\u001b[0m\u001b[0mfunc\u001b[0m\u001b[0;34m]\u001b[0m\u001b[0;34m\u001b[0m\u001b[0m\n\u001b[0;32m-> 1211\u001b[0;31m         \u001b[0mr\u001b[0m \u001b[0;34m=\u001b[0m \u001b[0mrf\u001b[0m\u001b[0;34m(\u001b[0m\u001b[0mx\u001b[0m\u001b[0;34m,\u001b[0m \u001b[0mprec\u001b[0m\u001b[0;34m,\u001b[0m \u001b[0moptions\u001b[0m\u001b[0;34m)\u001b[0m\u001b[0;34m\u001b[0m\u001b[0m\n\u001b[0m\u001b[1;32m   1212\u001b[0m     \u001b[0;32mexcept\u001b[0m \u001b[0mKeyError\u001b[0m\u001b[0;34m:\u001b[0m\u001b[0;34m\u001b[0m\u001b[0m\n\u001b[1;32m   1213\u001b[0m         \u001b[0;32mtry\u001b[0m\u001b[0;34m:\u001b[0m\u001b[0;34m\u001b[0m\u001b[0m\n",
      "\u001b[0;32m/Users/ketch/anaconda/lib/python2.7/site-packages/sympy/core/evalf.pyc\u001b[0m in \u001b[0;36mevalf_add\u001b[0;34m(v, prec, options)\u001b[0m\n\u001b[1;32m    460\u001b[0m         \u001b[0moptions\u001b[0m\u001b[0;34m[\u001b[0m\u001b[0;34m'maxprec'\u001b[0m\u001b[0;34m]\u001b[0m \u001b[0;34m=\u001b[0m \u001b[0mmin\u001b[0m\u001b[0;34m(\u001b[0m\u001b[0moldmaxprec\u001b[0m\u001b[0;34m,\u001b[0m \u001b[0;36m2\u001b[0m\u001b[0;34m*\u001b[0m\u001b[0mprec\u001b[0m\u001b[0;34m)\u001b[0m\u001b[0;34m\u001b[0m\u001b[0m\n\u001b[1;32m    461\u001b[0m \u001b[0;34m\u001b[0m\u001b[0m\n\u001b[0;32m--> 462\u001b[0;31m         \u001b[0mterms\u001b[0m \u001b[0;34m=\u001b[0m \u001b[0;34m[\u001b[0m\u001b[0mevalf\u001b[0m\u001b[0;34m(\u001b[0m\u001b[0marg\u001b[0m\u001b[0;34m,\u001b[0m \u001b[0mprec\u001b[0m \u001b[0;34m+\u001b[0m \u001b[0;36m10\u001b[0m\u001b[0;34m,\u001b[0m \u001b[0moptions\u001b[0m\u001b[0;34m)\u001b[0m \u001b[0;32mfor\u001b[0m \u001b[0marg\u001b[0m \u001b[0;32min\u001b[0m \u001b[0mv\u001b[0m\u001b[0;34m.\u001b[0m\u001b[0margs\u001b[0m\u001b[0;34m]\u001b[0m\u001b[0;34m\u001b[0m\u001b[0m\n\u001b[0m\u001b[1;32m    463\u001b[0m         re, re_acc = add_terms(\n\u001b[1;32m    464\u001b[0m             [a[0::2] for a in terms if a[0]], prec, target_prec)\n",
      "\u001b[0;32m/Users/ketch/anaconda/lib/python2.7/site-packages/sympy/core/evalf.pyc\u001b[0m in \u001b[0;36mevalf\u001b[0;34m(x, prec, options)\u001b[0m\n\u001b[1;32m   1209\u001b[0m     \u001b[0;32mtry\u001b[0m\u001b[0;34m:\u001b[0m\u001b[0;34m\u001b[0m\u001b[0m\n\u001b[1;32m   1210\u001b[0m         \u001b[0mrf\u001b[0m \u001b[0;34m=\u001b[0m \u001b[0mevalf_table\u001b[0m\u001b[0;34m[\u001b[0m\u001b[0mx\u001b[0m\u001b[0;34m.\u001b[0m\u001b[0mfunc\u001b[0m\u001b[0;34m]\u001b[0m\u001b[0;34m\u001b[0m\u001b[0m\n\u001b[0;32m-> 1211\u001b[0;31m         \u001b[0mr\u001b[0m \u001b[0;34m=\u001b[0m \u001b[0mrf\u001b[0m\u001b[0;34m(\u001b[0m\u001b[0mx\u001b[0m\u001b[0;34m,\u001b[0m \u001b[0mprec\u001b[0m\u001b[0;34m,\u001b[0m \u001b[0moptions\u001b[0m\u001b[0;34m)\u001b[0m\u001b[0;34m\u001b[0m\u001b[0m\n\u001b[0m\u001b[1;32m   1212\u001b[0m     \u001b[0;32mexcept\u001b[0m \u001b[0mKeyError\u001b[0m\u001b[0;34m:\u001b[0m\u001b[0;34m\u001b[0m\u001b[0m\n\u001b[1;32m   1213\u001b[0m         \u001b[0;32mtry\u001b[0m\u001b[0;34m:\u001b[0m\u001b[0;34m\u001b[0m\u001b[0m\n",
      "\u001b[0;32m/Users/ketch/anaconda/lib/python2.7/site-packages/sympy/core/evalf.pyc\u001b[0m in \u001b[0;36mevalf_mul\u001b[0;34m(v, prec, options)\u001b[0m\n\u001b[1;32m    501\u001b[0m     \u001b[0mspecial\u001b[0m \u001b[0;34m=\u001b[0m \u001b[0;34m[\u001b[0m\u001b[0;34m]\u001b[0m\u001b[0;34m\u001b[0m\u001b[0m\n\u001b[1;32m    502\u001b[0m     \u001b[0;32mfor\u001b[0m \u001b[0marg\u001b[0m \u001b[0;32min\u001b[0m \u001b[0margs\u001b[0m\u001b[0;34m:\u001b[0m\u001b[0;34m\u001b[0m\u001b[0m\n\u001b[0;32m--> 503\u001b[0;31m         \u001b[0marg\u001b[0m \u001b[0;34m=\u001b[0m \u001b[0mevalf\u001b[0m\u001b[0;34m(\u001b[0m\u001b[0marg\u001b[0m\u001b[0;34m,\u001b[0m \u001b[0mprec\u001b[0m\u001b[0;34m,\u001b[0m \u001b[0moptions\u001b[0m\u001b[0;34m)\u001b[0m\u001b[0;34m\u001b[0m\u001b[0m\n\u001b[0m\u001b[1;32m    504\u001b[0m         \u001b[0;32mif\u001b[0m \u001b[0marg\u001b[0m\u001b[0;34m[\u001b[0m\u001b[0;36m0\u001b[0m\u001b[0;34m]\u001b[0m \u001b[0;32mis\u001b[0m \u001b[0mNone\u001b[0m\u001b[0;34m:\u001b[0m\u001b[0;34m\u001b[0m\u001b[0m\n\u001b[1;32m    505\u001b[0m             \u001b[0;32mcontinue\u001b[0m\u001b[0;34m\u001b[0m\u001b[0m\n",
      "\u001b[0;32m/Users/ketch/anaconda/lib/python2.7/site-packages/sympy/core/evalf.pyc\u001b[0m in \u001b[0;36mevalf\u001b[0;34m(x, prec, options)\u001b[0m\n\u001b[1;32m   1209\u001b[0m     \u001b[0;32mtry\u001b[0m\u001b[0;34m:\u001b[0m\u001b[0;34m\u001b[0m\u001b[0m\n\u001b[1;32m   1210\u001b[0m         \u001b[0mrf\u001b[0m \u001b[0;34m=\u001b[0m \u001b[0mevalf_table\u001b[0m\u001b[0;34m[\u001b[0m\u001b[0mx\u001b[0m\u001b[0;34m.\u001b[0m\u001b[0mfunc\u001b[0m\u001b[0;34m]\u001b[0m\u001b[0;34m\u001b[0m\u001b[0m\n\u001b[0;32m-> 1211\u001b[0;31m         \u001b[0mr\u001b[0m \u001b[0;34m=\u001b[0m \u001b[0mrf\u001b[0m\u001b[0;34m(\u001b[0m\u001b[0mx\u001b[0m\u001b[0;34m,\u001b[0m \u001b[0mprec\u001b[0m\u001b[0;34m,\u001b[0m \u001b[0moptions\u001b[0m\u001b[0;34m)\u001b[0m\u001b[0;34m\u001b[0m\u001b[0m\n\u001b[0m\u001b[1;32m   1212\u001b[0m     \u001b[0;32mexcept\u001b[0m \u001b[0mKeyError\u001b[0m\u001b[0;34m:\u001b[0m\u001b[0;34m\u001b[0m\u001b[0m\n\u001b[1;32m   1213\u001b[0m         \u001b[0;32mtry\u001b[0m\u001b[0;34m:\u001b[0m\u001b[0;34m\u001b[0m\u001b[0m\n",
      "\u001b[0;32m/Users/ketch/anaconda/lib/python2.7/site-packages/sympy/core/evalf.pyc\u001b[0m in \u001b[0;36mevalf_pow\u001b[0;34m(v, prec, options)\u001b[0m\n\u001b[1;32m    618\u001b[0m         \u001b[0;31m# base must be evaluated with increased precision if p is large\u001b[0m\u001b[0;34m\u001b[0m\u001b[0;34m\u001b[0m\u001b[0m\n\u001b[1;32m    619\u001b[0m         \u001b[0mprec\u001b[0m \u001b[0;34m+=\u001b[0m \u001b[0mint\u001b[0m\u001b[0;34m(\u001b[0m\u001b[0mmath\u001b[0m\u001b[0;34m.\u001b[0m\u001b[0mlog\u001b[0m\u001b[0;34m(\u001b[0m\u001b[0mabs\u001b[0m\u001b[0;34m(\u001b[0m\u001b[0mp\u001b[0m\u001b[0;34m)\u001b[0m\u001b[0;34m,\u001b[0m \u001b[0;36m2\u001b[0m\u001b[0;34m)\u001b[0m\u001b[0;34m)\u001b[0m\u001b[0;34m\u001b[0m\u001b[0m\n\u001b[0;32m--> 620\u001b[0;31m         \u001b[0mre\u001b[0m\u001b[0;34m,\u001b[0m \u001b[0mim\u001b[0m\u001b[0;34m,\u001b[0m \u001b[0mre_acc\u001b[0m\u001b[0;34m,\u001b[0m \u001b[0mim_acc\u001b[0m \u001b[0;34m=\u001b[0m \u001b[0mevalf\u001b[0m\u001b[0;34m(\u001b[0m\u001b[0mbase\u001b[0m\u001b[0;34m,\u001b[0m \u001b[0mprec\u001b[0m \u001b[0;34m+\u001b[0m \u001b[0;36m5\u001b[0m\u001b[0;34m,\u001b[0m \u001b[0moptions\u001b[0m\u001b[0;34m)\u001b[0m\u001b[0;34m\u001b[0m\u001b[0m\n\u001b[0m\u001b[1;32m    621\u001b[0m         \u001b[0;31m# Real to integer power\u001b[0m\u001b[0;34m\u001b[0m\u001b[0;34m\u001b[0m\u001b[0m\n\u001b[1;32m    622\u001b[0m         \u001b[0;32mif\u001b[0m \u001b[0mre\u001b[0m \u001b[0;32mand\u001b[0m \u001b[0;32mnot\u001b[0m \u001b[0mim\u001b[0m\u001b[0;34m:\u001b[0m\u001b[0;34m\u001b[0m\u001b[0m\n",
      "\u001b[0;32m/Users/ketch/anaconda/lib/python2.7/site-packages/sympy/core/evalf.pyc\u001b[0m in \u001b[0;36mevalf\u001b[0;34m(x, prec, options)\u001b[0m\n\u001b[1;32m   1209\u001b[0m     \u001b[0;32mtry\u001b[0m\u001b[0;34m:\u001b[0m\u001b[0;34m\u001b[0m\u001b[0m\n\u001b[1;32m   1210\u001b[0m         \u001b[0mrf\u001b[0m \u001b[0;34m=\u001b[0m \u001b[0mevalf_table\u001b[0m\u001b[0;34m[\u001b[0m\u001b[0mx\u001b[0m\u001b[0;34m.\u001b[0m\u001b[0mfunc\u001b[0m\u001b[0;34m]\u001b[0m\u001b[0;34m\u001b[0m\u001b[0m\n\u001b[0;32m-> 1211\u001b[0;31m         \u001b[0mr\u001b[0m \u001b[0;34m=\u001b[0m \u001b[0mrf\u001b[0m\u001b[0;34m(\u001b[0m\u001b[0mx\u001b[0m\u001b[0;34m,\u001b[0m \u001b[0mprec\u001b[0m\u001b[0;34m,\u001b[0m \u001b[0moptions\u001b[0m\u001b[0;34m)\u001b[0m\u001b[0;34m\u001b[0m\u001b[0m\n\u001b[0m\u001b[1;32m   1212\u001b[0m     \u001b[0;32mexcept\u001b[0m \u001b[0mKeyError\u001b[0m\u001b[0;34m:\u001b[0m\u001b[0;34m\u001b[0m\u001b[0m\n\u001b[1;32m   1213\u001b[0m         \u001b[0;32mtry\u001b[0m\u001b[0;34m:\u001b[0m\u001b[0;34m\u001b[0m\u001b[0m\n",
      "\u001b[0;32m/Users/ketch/anaconda/lib/python2.7/site-packages/sympy/core/evalf.pyc\u001b[0m in \u001b[0;36mevalf_add\u001b[0;34m(v, prec, options)\u001b[0m\n\u001b[1;32m    460\u001b[0m         \u001b[0moptions\u001b[0m\u001b[0;34m[\u001b[0m\u001b[0;34m'maxprec'\u001b[0m\u001b[0;34m]\u001b[0m \u001b[0;34m=\u001b[0m \u001b[0mmin\u001b[0m\u001b[0;34m(\u001b[0m\u001b[0moldmaxprec\u001b[0m\u001b[0;34m,\u001b[0m \u001b[0;36m2\u001b[0m\u001b[0;34m*\u001b[0m\u001b[0mprec\u001b[0m\u001b[0;34m)\u001b[0m\u001b[0;34m\u001b[0m\u001b[0m\n\u001b[1;32m    461\u001b[0m \u001b[0;34m\u001b[0m\u001b[0m\n\u001b[0;32m--> 462\u001b[0;31m         \u001b[0mterms\u001b[0m \u001b[0;34m=\u001b[0m \u001b[0;34m[\u001b[0m\u001b[0mevalf\u001b[0m\u001b[0;34m(\u001b[0m\u001b[0marg\u001b[0m\u001b[0;34m,\u001b[0m \u001b[0mprec\u001b[0m \u001b[0;34m+\u001b[0m \u001b[0;36m10\u001b[0m\u001b[0;34m,\u001b[0m \u001b[0moptions\u001b[0m\u001b[0;34m)\u001b[0m \u001b[0;32mfor\u001b[0m \u001b[0marg\u001b[0m \u001b[0;32min\u001b[0m \u001b[0mv\u001b[0m\u001b[0;34m.\u001b[0m\u001b[0margs\u001b[0m\u001b[0;34m]\u001b[0m\u001b[0;34m\u001b[0m\u001b[0m\n\u001b[0m\u001b[1;32m    463\u001b[0m         re, re_acc = add_terms(\n\u001b[1;32m    464\u001b[0m             [a[0::2] for a in terms if a[0]], prec, target_prec)\n",
      "\u001b[0;32m/Users/ketch/anaconda/lib/python2.7/site-packages/sympy/core/evalf.pyc\u001b[0m in \u001b[0;36mevalf\u001b[0;34m(x, prec, options)\u001b[0m\n\u001b[1;32m   1209\u001b[0m     \u001b[0;32mtry\u001b[0m\u001b[0;34m:\u001b[0m\u001b[0;34m\u001b[0m\u001b[0m\n\u001b[1;32m   1210\u001b[0m         \u001b[0mrf\u001b[0m \u001b[0;34m=\u001b[0m \u001b[0mevalf_table\u001b[0m\u001b[0;34m[\u001b[0m\u001b[0mx\u001b[0m\u001b[0;34m.\u001b[0m\u001b[0mfunc\u001b[0m\u001b[0;34m]\u001b[0m\u001b[0;34m\u001b[0m\u001b[0m\n\u001b[0;32m-> 1211\u001b[0;31m         \u001b[0mr\u001b[0m \u001b[0;34m=\u001b[0m \u001b[0mrf\u001b[0m\u001b[0;34m(\u001b[0m\u001b[0mx\u001b[0m\u001b[0;34m,\u001b[0m \u001b[0mprec\u001b[0m\u001b[0;34m,\u001b[0m \u001b[0moptions\u001b[0m\u001b[0;34m)\u001b[0m\u001b[0;34m\u001b[0m\u001b[0m\n\u001b[0m\u001b[1;32m   1212\u001b[0m     \u001b[0;32mexcept\u001b[0m \u001b[0mKeyError\u001b[0m\u001b[0;34m:\u001b[0m\u001b[0;34m\u001b[0m\u001b[0m\n\u001b[1;32m   1213\u001b[0m         \u001b[0;32mtry\u001b[0m\u001b[0;34m:\u001b[0m\u001b[0;34m\u001b[0m\u001b[0m\n",
      "\u001b[0;32m/Users/ketch/anaconda/lib/python2.7/site-packages/sympy/core/evalf.pyc\u001b[0m in \u001b[0;36mevalf_mul\u001b[0;34m(v, prec, options)\u001b[0m\n\u001b[1;32m    539\u001b[0m         \u001b[0;32melif\u001b[0m \u001b[0mi\u001b[0m \u001b[0;34m==\u001b[0m \u001b[0mlast\u001b[0m \u001b[0;32mand\u001b[0m \u001b[0marg\u001b[0m \u001b[0;32mis\u001b[0m \u001b[0mS\u001b[0m\u001b[0;34m.\u001b[0m\u001b[0mOne\u001b[0m\u001b[0;34m:\u001b[0m\u001b[0;34m\u001b[0m\u001b[0m\n\u001b[1;32m    540\u001b[0m             \u001b[0;32mcontinue\u001b[0m\u001b[0;34m\u001b[0m\u001b[0m\n\u001b[0;32m--> 541\u001b[0;31m         \u001b[0mre\u001b[0m\u001b[0;34m,\u001b[0m \u001b[0mim\u001b[0m\u001b[0;34m,\u001b[0m \u001b[0mre_acc\u001b[0m\u001b[0;34m,\u001b[0m \u001b[0mim_acc\u001b[0m \u001b[0;34m=\u001b[0m \u001b[0mevalf\u001b[0m\u001b[0;34m(\u001b[0m\u001b[0marg\u001b[0m\u001b[0;34m,\u001b[0m \u001b[0mworking_prec\u001b[0m\u001b[0;34m,\u001b[0m \u001b[0moptions\u001b[0m\u001b[0;34m)\u001b[0m\u001b[0;34m\u001b[0m\u001b[0m\n\u001b[0m\u001b[1;32m    542\u001b[0m         \u001b[0;32mif\u001b[0m \u001b[0mre\u001b[0m \u001b[0;32mand\u001b[0m \u001b[0mim\u001b[0m\u001b[0;34m:\u001b[0m\u001b[0;34m\u001b[0m\u001b[0m\n\u001b[1;32m    543\u001b[0m             \u001b[0mcomplex_factors\u001b[0m\u001b[0;34m.\u001b[0m\u001b[0mappend\u001b[0m\u001b[0;34m(\u001b[0m\u001b[0;34m(\u001b[0m\u001b[0mre\u001b[0m\u001b[0;34m,\u001b[0m \u001b[0mim\u001b[0m\u001b[0;34m,\u001b[0m \u001b[0mre_acc\u001b[0m\u001b[0;34m,\u001b[0m \u001b[0mim_acc\u001b[0m\u001b[0;34m)\u001b[0m\u001b[0;34m)\u001b[0m\u001b[0;34m\u001b[0m\u001b[0m\n",
      "\u001b[0;32m/Users/ketch/anaconda/lib/python2.7/site-packages/sympy/core/evalf.pyc\u001b[0m in \u001b[0;36mevalf\u001b[0;34m(x, prec, options)\u001b[0m\n\u001b[1;32m   1209\u001b[0m     \u001b[0;32mtry\u001b[0m\u001b[0;34m:\u001b[0m\u001b[0;34m\u001b[0m\u001b[0m\n\u001b[1;32m   1210\u001b[0m         \u001b[0mrf\u001b[0m \u001b[0;34m=\u001b[0m \u001b[0mevalf_table\u001b[0m\u001b[0;34m[\u001b[0m\u001b[0mx\u001b[0m\u001b[0;34m.\u001b[0m\u001b[0mfunc\u001b[0m\u001b[0;34m]\u001b[0m\u001b[0;34m\u001b[0m\u001b[0m\n\u001b[0;32m-> 1211\u001b[0;31m         \u001b[0mr\u001b[0m \u001b[0;34m=\u001b[0m \u001b[0mrf\u001b[0m\u001b[0;34m(\u001b[0m\u001b[0mx\u001b[0m\u001b[0;34m,\u001b[0m \u001b[0mprec\u001b[0m\u001b[0;34m,\u001b[0m \u001b[0moptions\u001b[0m\u001b[0;34m)\u001b[0m\u001b[0;34m\u001b[0m\u001b[0m\n\u001b[0m\u001b[1;32m   1212\u001b[0m     \u001b[0;32mexcept\u001b[0m \u001b[0mKeyError\u001b[0m\u001b[0;34m:\u001b[0m\u001b[0;34m\u001b[0m\u001b[0m\n\u001b[1;32m   1213\u001b[0m         \u001b[0;32mtry\u001b[0m\u001b[0;34m:\u001b[0m\u001b[0;34m\u001b[0m\u001b[0m\n",
      "\u001b[0;32m/Users/ketch/anaconda/lib/python2.7/site-packages/sympy/core/evalf.pyc\u001b[0m in \u001b[0;36mevalf_add\u001b[0;34m(v, prec, options)\u001b[0m\n\u001b[1;32m    460\u001b[0m         \u001b[0moptions\u001b[0m\u001b[0;34m[\u001b[0m\u001b[0;34m'maxprec'\u001b[0m\u001b[0;34m]\u001b[0m \u001b[0;34m=\u001b[0m \u001b[0mmin\u001b[0m\u001b[0;34m(\u001b[0m\u001b[0moldmaxprec\u001b[0m\u001b[0;34m,\u001b[0m \u001b[0;36m2\u001b[0m\u001b[0;34m*\u001b[0m\u001b[0mprec\u001b[0m\u001b[0;34m)\u001b[0m\u001b[0;34m\u001b[0m\u001b[0m\n\u001b[1;32m    461\u001b[0m \u001b[0;34m\u001b[0m\u001b[0m\n\u001b[0;32m--> 462\u001b[0;31m         \u001b[0mterms\u001b[0m \u001b[0;34m=\u001b[0m \u001b[0;34m[\u001b[0m\u001b[0mevalf\u001b[0m\u001b[0;34m(\u001b[0m\u001b[0marg\u001b[0m\u001b[0;34m,\u001b[0m \u001b[0mprec\u001b[0m \u001b[0;34m+\u001b[0m \u001b[0;36m10\u001b[0m\u001b[0;34m,\u001b[0m \u001b[0moptions\u001b[0m\u001b[0;34m)\u001b[0m \u001b[0;32mfor\u001b[0m \u001b[0marg\u001b[0m \u001b[0;32min\u001b[0m \u001b[0mv\u001b[0m\u001b[0;34m.\u001b[0m\u001b[0margs\u001b[0m\u001b[0;34m]\u001b[0m\u001b[0;34m\u001b[0m\u001b[0m\n\u001b[0m\u001b[1;32m    463\u001b[0m         re, re_acc = add_terms(\n\u001b[1;32m    464\u001b[0m             [a[0::2] for a in terms if a[0]], prec, target_prec)\n",
      "\u001b[0;32m/Users/ketch/anaconda/lib/python2.7/site-packages/sympy/core/evalf.pyc\u001b[0m in \u001b[0;36mevalf\u001b[0;34m(x, prec, options)\u001b[0m\n\u001b[1;32m   1209\u001b[0m     \u001b[0;32mtry\u001b[0m\u001b[0;34m:\u001b[0m\u001b[0;34m\u001b[0m\u001b[0m\n\u001b[1;32m   1210\u001b[0m         \u001b[0mrf\u001b[0m \u001b[0;34m=\u001b[0m \u001b[0mevalf_table\u001b[0m\u001b[0;34m[\u001b[0m\u001b[0mx\u001b[0m\u001b[0;34m.\u001b[0m\u001b[0mfunc\u001b[0m\u001b[0;34m]\u001b[0m\u001b[0;34m\u001b[0m\u001b[0m\n\u001b[0;32m-> 1211\u001b[0;31m         \u001b[0mr\u001b[0m \u001b[0;34m=\u001b[0m \u001b[0mrf\u001b[0m\u001b[0;34m(\u001b[0m\u001b[0mx\u001b[0m\u001b[0;34m,\u001b[0m \u001b[0mprec\u001b[0m\u001b[0;34m,\u001b[0m \u001b[0moptions\u001b[0m\u001b[0;34m)\u001b[0m\u001b[0;34m\u001b[0m\u001b[0m\n\u001b[0m\u001b[1;32m   1212\u001b[0m     \u001b[0;32mexcept\u001b[0m \u001b[0mKeyError\u001b[0m\u001b[0;34m:\u001b[0m\u001b[0;34m\u001b[0m\u001b[0m\n\u001b[1;32m   1213\u001b[0m         \u001b[0;32mtry\u001b[0m\u001b[0;34m:\u001b[0m\u001b[0;34m\u001b[0m\u001b[0m\n",
      "\u001b[0;32m/Users/ketch/anaconda/lib/python2.7/site-packages/sympy/core/evalf.pyc\u001b[0m in \u001b[0;36mevalf_mul\u001b[0;34m(v, prec, options)\u001b[0m\n\u001b[1;32m    539\u001b[0m         \u001b[0;32melif\u001b[0m \u001b[0mi\u001b[0m \u001b[0;34m==\u001b[0m \u001b[0mlast\u001b[0m \u001b[0;32mand\u001b[0m \u001b[0marg\u001b[0m \u001b[0;32mis\u001b[0m \u001b[0mS\u001b[0m\u001b[0;34m.\u001b[0m\u001b[0mOne\u001b[0m\u001b[0;34m:\u001b[0m\u001b[0;34m\u001b[0m\u001b[0m\n\u001b[1;32m    540\u001b[0m             \u001b[0;32mcontinue\u001b[0m\u001b[0;34m\u001b[0m\u001b[0m\n\u001b[0;32m--> 541\u001b[0;31m         \u001b[0mre\u001b[0m\u001b[0;34m,\u001b[0m \u001b[0mim\u001b[0m\u001b[0;34m,\u001b[0m \u001b[0mre_acc\u001b[0m\u001b[0;34m,\u001b[0m \u001b[0mim_acc\u001b[0m \u001b[0;34m=\u001b[0m \u001b[0mevalf\u001b[0m\u001b[0;34m(\u001b[0m\u001b[0marg\u001b[0m\u001b[0;34m,\u001b[0m \u001b[0mworking_prec\u001b[0m\u001b[0;34m,\u001b[0m \u001b[0moptions\u001b[0m\u001b[0;34m)\u001b[0m\u001b[0;34m\u001b[0m\u001b[0m\n\u001b[0m\u001b[1;32m    542\u001b[0m         \u001b[0;32mif\u001b[0m \u001b[0mre\u001b[0m \u001b[0;32mand\u001b[0m \u001b[0mim\u001b[0m\u001b[0;34m:\u001b[0m\u001b[0;34m\u001b[0m\u001b[0m\n\u001b[1;32m    543\u001b[0m             \u001b[0mcomplex_factors\u001b[0m\u001b[0;34m.\u001b[0m\u001b[0mappend\u001b[0m\u001b[0;34m(\u001b[0m\u001b[0;34m(\u001b[0m\u001b[0mre\u001b[0m\u001b[0;34m,\u001b[0m \u001b[0mim\u001b[0m\u001b[0;34m,\u001b[0m \u001b[0mre_acc\u001b[0m\u001b[0;34m,\u001b[0m \u001b[0mim_acc\u001b[0m\u001b[0;34m)\u001b[0m\u001b[0;34m)\u001b[0m\u001b[0;34m\u001b[0m\u001b[0m\n",
      "\u001b[0;32m/Users/ketch/anaconda/lib/python2.7/site-packages/sympy/core/evalf.pyc\u001b[0m in \u001b[0;36mevalf\u001b[0;34m(x, prec, options)\u001b[0m\n\u001b[1;32m   1209\u001b[0m     \u001b[0;32mtry\u001b[0m\u001b[0;34m:\u001b[0m\u001b[0;34m\u001b[0m\u001b[0m\n\u001b[1;32m   1210\u001b[0m         \u001b[0mrf\u001b[0m \u001b[0;34m=\u001b[0m \u001b[0mevalf_table\u001b[0m\u001b[0;34m[\u001b[0m\u001b[0mx\u001b[0m\u001b[0;34m.\u001b[0m\u001b[0mfunc\u001b[0m\u001b[0;34m]\u001b[0m\u001b[0;34m\u001b[0m\u001b[0m\n\u001b[0;32m-> 1211\u001b[0;31m         \u001b[0mr\u001b[0m \u001b[0;34m=\u001b[0m \u001b[0mrf\u001b[0m\u001b[0;34m(\u001b[0m\u001b[0mx\u001b[0m\u001b[0;34m,\u001b[0m \u001b[0mprec\u001b[0m\u001b[0;34m,\u001b[0m \u001b[0moptions\u001b[0m\u001b[0;34m)\u001b[0m\u001b[0;34m\u001b[0m\u001b[0m\n\u001b[0m\u001b[1;32m   1212\u001b[0m     \u001b[0;32mexcept\u001b[0m \u001b[0mKeyError\u001b[0m\u001b[0;34m:\u001b[0m\u001b[0;34m\u001b[0m\u001b[0m\n\u001b[1;32m   1213\u001b[0m         \u001b[0;32mtry\u001b[0m\u001b[0;34m:\u001b[0m\u001b[0;34m\u001b[0m\u001b[0m\n",
      "\u001b[0;32m/Users/ketch/anaconda/lib/python2.7/site-packages/sympy/core/evalf.pyc\u001b[0m in \u001b[0;36mevalf_add\u001b[0;34m(v, prec, options)\u001b[0m\n\u001b[1;32m    446\u001b[0m \u001b[0;34m\u001b[0m\u001b[0m\n\u001b[1;32m    447\u001b[0m \u001b[0;32mdef\u001b[0m \u001b[0mevalf_add\u001b[0m\u001b[0;34m(\u001b[0m\u001b[0mv\u001b[0m\u001b[0;34m,\u001b[0m \u001b[0mprec\u001b[0m\u001b[0;34m,\u001b[0m \u001b[0moptions\u001b[0m\u001b[0;34m)\u001b[0m\u001b[0;34m:\u001b[0m\u001b[0;34m\u001b[0m\u001b[0m\n\u001b[0;32m--> 448\u001b[0;31m     \u001b[0mres\u001b[0m \u001b[0;34m=\u001b[0m \u001b[0mpure_complex\u001b[0m\u001b[0;34m(\u001b[0m\u001b[0mv\u001b[0m\u001b[0;34m)\u001b[0m\u001b[0;34m\u001b[0m\u001b[0m\n\u001b[0m\u001b[1;32m    449\u001b[0m     \u001b[0;32mif\u001b[0m \u001b[0mres\u001b[0m\u001b[0;34m:\u001b[0m\u001b[0;34m\u001b[0m\u001b[0m\n\u001b[1;32m    450\u001b[0m         \u001b[0mh\u001b[0m\u001b[0;34m,\u001b[0m \u001b[0mc\u001b[0m \u001b[0;34m=\u001b[0m \u001b[0mres\u001b[0m\u001b[0;34m\u001b[0m\u001b[0m\n",
      "\u001b[0;32m/Users/ketch/anaconda/lib/python2.7/site-packages/sympy/core/evalf.pyc\u001b[0m in \u001b[0;36mpure_complex\u001b[0;34m(v)\u001b[0m\n\u001b[1;32m    125\u001b[0m     \"\"\"\n\u001b[1;32m    126\u001b[0m     \u001b[0mh\u001b[0m\u001b[0;34m,\u001b[0m \u001b[0mt\u001b[0m \u001b[0;34m=\u001b[0m \u001b[0mv\u001b[0m\u001b[0;34m.\u001b[0m\u001b[0mas_coeff_Add\u001b[0m\u001b[0;34m(\u001b[0m\u001b[0;34m)\u001b[0m\u001b[0;34m\u001b[0m\u001b[0m\n\u001b[0;32m--> 127\u001b[0;31m     \u001b[0mc\u001b[0m\u001b[0;34m,\u001b[0m \u001b[0mi\u001b[0m \u001b[0;34m=\u001b[0m \u001b[0mt\u001b[0m\u001b[0;34m.\u001b[0m\u001b[0mas_coeff_Mul\u001b[0m\u001b[0;34m(\u001b[0m\u001b[0;34m)\u001b[0m\u001b[0;34m\u001b[0m\u001b[0m\n\u001b[0m\u001b[1;32m    128\u001b[0m     \u001b[0;32mif\u001b[0m \u001b[0mi\u001b[0m \u001b[0;32mis\u001b[0m \u001b[0mS\u001b[0m\u001b[0;34m.\u001b[0m\u001b[0mImaginaryUnit\u001b[0m\u001b[0;34m:\u001b[0m\u001b[0;34m\u001b[0m\u001b[0m\n\u001b[1;32m    129\u001b[0m         \u001b[0;32mreturn\u001b[0m \u001b[0mh\u001b[0m\u001b[0;34m,\u001b[0m \u001b[0mc\u001b[0m\u001b[0;34m\u001b[0m\u001b[0m\n",
      "\u001b[0;32m/Users/ketch/anaconda/lib/python2.7/site-packages/sympy/core/mul.pyc\u001b[0m in \u001b[0;36mas_coeff_Mul\u001b[0;34m(self, rational)\u001b[0m\n\u001b[1;32m    665\u001b[0m     \u001b[0;32mdef\u001b[0m \u001b[0mas_coeff_Mul\u001b[0m\u001b[0;34m(\u001b[0m\u001b[0mself\u001b[0m\u001b[0;34m,\u001b[0m \u001b[0mrational\u001b[0m\u001b[0;34m=\u001b[0m\u001b[0mFalse\u001b[0m\u001b[0;34m)\u001b[0m\u001b[0;34m:\u001b[0m\u001b[0;34m\u001b[0m\u001b[0m\n\u001b[1;32m    666\u001b[0m         \u001b[0;34m\"\"\"Efficiently extract the coefficient of a product. \"\"\"\u001b[0m\u001b[0;34m\u001b[0m\u001b[0m\n\u001b[0;32m--> 667\u001b[0;31m         \u001b[0mcoeff\u001b[0m\u001b[0;34m,\u001b[0m \u001b[0margs\u001b[0m \u001b[0;34m=\u001b[0m \u001b[0mself\u001b[0m\u001b[0;34m.\u001b[0m\u001b[0margs\u001b[0m\u001b[0;34m[\u001b[0m\u001b[0;36m0\u001b[0m\u001b[0;34m]\u001b[0m\u001b[0;34m,\u001b[0m \u001b[0mself\u001b[0m\u001b[0;34m.\u001b[0m\u001b[0margs\u001b[0m\u001b[0;34m[\u001b[0m\u001b[0;36m1\u001b[0m\u001b[0;34m:\u001b[0m\u001b[0;34m]\u001b[0m\u001b[0;34m\u001b[0m\u001b[0m\n\u001b[0m\u001b[1;32m    668\u001b[0m \u001b[0;34m\u001b[0m\u001b[0m\n\u001b[1;32m    669\u001b[0m         \u001b[0;32mif\u001b[0m \u001b[0mcoeff\u001b[0m\u001b[0;34m.\u001b[0m\u001b[0mis_Number\u001b[0m \u001b[0;32mand\u001b[0m \u001b[0;32mnot\u001b[0m \u001b[0;34m(\u001b[0m\u001b[0mrational\u001b[0m \u001b[0;32mand\u001b[0m \u001b[0;32mnot\u001b[0m \u001b[0mcoeff\u001b[0m\u001b[0;34m.\u001b[0m\u001b[0mis_Rational\u001b[0m\u001b[0;34m)\u001b[0m\u001b[0;34m:\u001b[0m\u001b[0;34m\u001b[0m\u001b[0m\n",
      "\u001b[0;32m/Users/ketch/anaconda/lib/python2.7/site-packages/sympy/core/basic.pyc\u001b[0m in \u001b[0;36margs\u001b[0;34m(self)\u001b[0m\n\u001b[1;32m    649\u001b[0m         change the interface in the future if needed).\n\u001b[1;32m    650\u001b[0m         \"\"\"\n\u001b[0;32m--> 651\u001b[0;31m         \u001b[0;32mreturn\u001b[0m \u001b[0mself\u001b[0m\u001b[0;34m.\u001b[0m\u001b[0m_args\u001b[0m\u001b[0;34m\u001b[0m\u001b[0m\n\u001b[0m\u001b[1;32m    652\u001b[0m \u001b[0;34m\u001b[0m\u001b[0m\n\u001b[1;32m    653\u001b[0m     \u001b[0;34m@\u001b[0m\u001b[0mproperty\u001b[0m\u001b[0;34m\u001b[0m\u001b[0m\n",
      "\u001b[0;31mKeyboardInterrupt\u001b[0m: "
     ]
    }
   ],
   "source": [
    "print Fore.BLUE+\"%30s %10s %10s %10s %10s %10s %10s\" % (\"Method\", \"SSP coeff\", \"LP\", \"Iterate\", \"No iterate\", \"1/Amax\", \"G Lin Bd\")\n",
    "i = 0\n",
    "for name, method in methods.iteritems():\n",
    "    if not method.is_explicit():\n",
    "        if i % 2 ==0:\n",
    "            print Fore.RED  + method_stats_str(method)\n",
    "        else:\n",
    "            print Fore.BLACK+Back.YELLOW + method_stats_str(method)\n",
    "        i += 1"
   ]
  },
  {
   "cell_type": "markdown",
   "metadata": {},
   "source": [
    "## Checking the column assumption"
   ]
  },
  {
   "cell_type": "markdown",
   "metadata": {},
   "source": [
    "Seems to hold when my algorithm is applied once:"
   ]
  },
  {
   "cell_type": "code",
   "execution_count": 9,
   "metadata": {
    "collapsed": false
   },
   "outputs": [],
   "source": [
    "method = rk.loadRKM('SSP75')"
   ]
  },
  {
   "cell_type": "code",
   "execution_count": 10,
   "metadata": {
    "collapsed": false
   },
   "outputs": [
    {
     "name": "stdout",
     "output_type": "stream",
     "text": [
      "set([(7, 0), (3, 0), (6, 0), (2, 0), (5, 0), (1, 0), (4, 0)])\n",
      "set([0])\n",
      "False\n"
     ]
    }
   ],
   "source": [
    "r, gamma, alphaup, alphadown = method.optimal_perturbed_splitting(iterate=False)\n",
    "inds = np.where(alphaup>1.e-14)\n",
    "cols_up = set(inds[1])\n",
    "nz_up = [(inds[0][i],inds[1][i]) for i in range(len(inds[0]))]\n",
    "inds = np.where(alphadown>1.e-14)\n",
    "cols_down = set(inds[1])\n",
    "nz_down = [(inds[0][i],inds[1][i]) for i in range(len(inds[0]))]\n",
    "print set.intersection(set(nz_up),set(nz_down))\n",
    "print set.intersection(cols_up,cols_down)\n",
    "print any(set.intersection(cols_up,cols_down))"
   ]
  },
  {
   "cell_type": "markdown",
   "metadata": {},
   "source": [
    "But not necessarily when my algorithm is iterated:"
   ]
  },
  {
   "cell_type": "code",
   "execution_count": 11,
   "metadata": {
    "collapsed": false
   },
   "outputs": [
    {
     "name": "stdout",
     "output_type": "stream",
     "text": [
      "set([(7, 0), (3, 0), (6, 0), (2, 0), (5, 0), (1, 0), (4, 0)])\n",
      "set([0, 1, 2, 3, 4])\n",
      "True\n"
     ]
    }
   ],
   "source": [
    "r, gamma, alphaup, alphadown = method.optimal_perturbed_splitting(iterate=True)\n",
    "inds = np.where(alphaup>1.e-14)\n",
    "cols_up = set(inds[1])\n",
    "nz_up = [(inds[0][i],inds[1][i]) for i in range(len(inds[0]))]\n",
    "inds = np.where(alphadown>1.e-14)\n",
    "cols_down = set(inds[1])\n",
    "nz_down = [(inds[0][i],inds[1][i]) for i in range(len(inds[0]))]\n",
    "print set.intersection(set(nz_up),set(nz_down))\n",
    "print set.intersection(cols_up,cols_down)\n",
    "print any(set.intersection(cols_up,cols_down))"
   ]
  },
  {
   "cell_type": "markdown",
   "metadata": {},
   "source": [
    "Is this a general phenomenon?  It seems not (see below)."
   ]
  },
  {
   "cell_type": "markdown",
   "metadata": {},
   "source": [
    "# Using Pandas!"
   ]
  },
  {
   "cell_type": "code",
   "execution_count": 12,
   "metadata": {
    "collapsed": false
   },
   "outputs": [],
   "source": [
    "import pandas as pd"
   ]
  },
  {
   "cell_type": "code",
   "execution_count": 13,
   "metadata": {
    "collapsed": false
   },
   "outputs": [],
   "source": [
    "methods = rk.loadRKM()\n",
    "df = pd.DataFrame(index=methods.keys(),columns=['method','LP','Iterated','Single pass','SSP Coeff','1/A bound',\n",
    "                                                'Tihi bound','Column assumption','type'])"
   ]
  },
  {
   "cell_type": "code",
   "execution_count": 14,
   "metadata": {
    "collapsed": false
   },
   "outputs": [
    {
     "data": {
      "text/html": [
       "<div style=\"max-height:1000px;max-width:1500px;overflow:auto;\">\n",
       "<table border=\"1\" class=\"dataframe\">\n",
       "  <thead>\n",
       "    <tr style=\"text-align: right;\">\n",
       "      <th></th>\n",
       "      <th>method</th>\n",
       "      <th>LP</th>\n",
       "      <th>Iterated</th>\n",
       "      <th>Single pass</th>\n",
       "      <th>SSP Coeff</th>\n",
       "      <th>1/A bound</th>\n",
       "      <th>Tihi bound</th>\n",
       "      <th>Column assumption</th>\n",
       "      <th>type</th>\n",
       "    </tr>\n",
       "  </thead>\n",
       "  <tbody>\n",
       "    <tr>\n",
       "      <th>BE</th>\n",
       "      <td> NaN</td>\n",
       "      <td> NaN</td>\n",
       "      <td> NaN</td>\n",
       "      <td> NaN</td>\n",
       "      <td> NaN</td>\n",
       "      <td> NaN</td>\n",
       "      <td> NaN</td>\n",
       "      <td> NaN</td>\n",
       "      <td> NaN</td>\n",
       "    </tr>\n",
       "    <tr>\n",
       "      <th>SSP75</th>\n",
       "      <td> NaN</td>\n",
       "      <td> NaN</td>\n",
       "      <td> NaN</td>\n",
       "      <td> NaN</td>\n",
       "      <td> NaN</td>\n",
       "      <td> NaN</td>\n",
       "      <td> NaN</td>\n",
       "      <td> NaN</td>\n",
       "      <td> NaN</td>\n",
       "    </tr>\n",
       "    <tr>\n",
       "      <th>Lambert65</th>\n",
       "      <td> NaN</td>\n",
       "      <td> NaN</td>\n",
       "      <td> NaN</td>\n",
       "      <td> NaN</td>\n",
       "      <td> NaN</td>\n",
       "      <td> NaN</td>\n",
       "      <td> NaN</td>\n",
       "      <td> NaN</td>\n",
       "      <td> NaN</td>\n",
       "    </tr>\n",
       "    <tr>\n",
       "      <th>Fehlberg45</th>\n",
       "      <td> NaN</td>\n",
       "      <td> NaN</td>\n",
       "      <td> NaN</td>\n",
       "      <td> NaN</td>\n",
       "      <td> NaN</td>\n",
       "      <td> NaN</td>\n",
       "      <td> NaN</td>\n",
       "      <td> NaN</td>\n",
       "      <td> NaN</td>\n",
       "    </tr>\n",
       "    <tr>\n",
       "      <th>FE</th>\n",
       "      <td> NaN</td>\n",
       "      <td> NaN</td>\n",
       "      <td> NaN</td>\n",
       "      <td> NaN</td>\n",
       "      <td> NaN</td>\n",
       "      <td> NaN</td>\n",
       "      <td> NaN</td>\n",
       "      <td> NaN</td>\n",
       "      <td> NaN</td>\n",
       "    </tr>\n",
       "  </tbody>\n",
       "</table>\n",
       "</div>"
      ],
      "text/plain": [
       "           method   LP Iterated Single pass SSP Coeff 1/A bound Tihi bound  \\\n",
       "BE            NaN  NaN      NaN         NaN       NaN       NaN        NaN   \n",
       "SSP75         NaN  NaN      NaN         NaN       NaN       NaN        NaN   \n",
       "Lambert65     NaN  NaN      NaN         NaN       NaN       NaN        NaN   \n",
       "Fehlberg45    NaN  NaN      NaN         NaN       NaN       NaN        NaN   \n",
       "FE            NaN  NaN      NaN         NaN       NaN       NaN        NaN   \n",
       "\n",
       "           Column assumption type  \n",
       "BE                       NaN  NaN  \n",
       "SSP75                    NaN  NaN  \n",
       "Lambert65                NaN  NaN  \n",
       "Fehlberg45               NaN  NaN  \n",
       "FE                       NaN  NaN  "
      ]
     },
     "execution_count": 14,
     "metadata": {},
     "output_type": "execute_result"
    }
   ],
   "source": [
    "df.head()"
   ]
  },
  {
   "cell_type": "code",
   "execution_count": 15,
   "metadata": {
    "collapsed": false
   },
   "outputs": [],
   "source": [
    "for name, method in methods.iteritems():\n",
    "    df.loc[name]['method'] = method"
   ]
  },
  {
   "cell_type": "code",
   "execution_count": 16,
   "metadata": {
    "collapsed": false
   },
   "outputs": [
    {
     "data": {
      "text/html": [
       "<div style=\"max-height:1000px;max-width:1500px;overflow:auto;\">\n",
       "<table border=\"1\" class=\"dataframe\">\n",
       "  <thead>\n",
       "    <tr style=\"text-align: right;\">\n",
       "      <th></th>\n",
       "      <th>method</th>\n",
       "      <th>LP</th>\n",
       "      <th>Iterated</th>\n",
       "      <th>Single pass</th>\n",
       "      <th>SSP Coeff</th>\n",
       "      <th>1/A bound</th>\n",
       "      <th>Tihi bound</th>\n",
       "      <th>Column assumption</th>\n",
       "      <th>type</th>\n",
       "    </tr>\n",
       "  </thead>\n",
       "  <tbody>\n",
       "    <tr>\n",
       "      <th>BE</th>\n",
       "      <td>         Implicit Euler\\n\\n 1 | 1\\n___|___\\n   | 1</td>\n",
       "      <td> NaN</td>\n",
       "      <td> NaN</td>\n",
       "      <td> NaN</td>\n",
       "      <td> NaN</td>\n",
       "      <td> NaN</td>\n",
       "      <td> NaN</td>\n",
       "      <td> NaN</td>\n",
       "      <td> NaN</td>\n",
       "    </tr>\n",
       "    <tr>\n",
       "      <th>SSP75</th>\n",
       "      <td> SSP 75\\nFrom Ruuth-Spiteri paper\\n 0.000 |\\n 0...</td>\n",
       "      <td> NaN</td>\n",
       "      <td> NaN</td>\n",
       "      <td> NaN</td>\n",
       "      <td> NaN</td>\n",
       "      <td> NaN</td>\n",
       "      <td> NaN</td>\n",
       "      <td> NaN</td>\n",
       "      <td> NaN</td>\n",
       "    </tr>\n",
       "    <tr>\n",
       "      <th>Lambert65</th>\n",
       "      <td> Lambert\\n\\n 0     |\\n 1/2   | 1/2\\n 1/4   | 1/...</td>\n",
       "      <td> NaN</td>\n",
       "      <td> NaN</td>\n",
       "      <td> NaN</td>\n",
       "      <td> NaN</td>\n",
       "      <td> NaN</td>\n",
       "      <td> NaN</td>\n",
       "      <td> NaN</td>\n",
       "      <td> NaN</td>\n",
       "    </tr>\n",
       "    <tr>\n",
       "      <th>Fehlberg45</th>\n",
       "      <td> Fehlberg RK5(4)6\\n\\n 0           |\\n 1/4      ...</td>\n",
       "      <td> NaN</td>\n",
       "      <td> NaN</td>\n",
       "      <td> NaN</td>\n",
       "      <td> NaN</td>\n",
       "      <td> NaN</td>\n",
       "      <td> NaN</td>\n",
       "      <td> NaN</td>\n",
       "      <td> NaN</td>\n",
       "    </tr>\n",
       "    <tr>\n",
       "      <th>FE</th>\n",
       "      <td>            Forward Euler\\n\\n 0 |\\n___|___\\n   | 1</td>\n",
       "      <td> NaN</td>\n",
       "      <td> NaN</td>\n",
       "      <td> NaN</td>\n",
       "      <td> NaN</td>\n",
       "      <td> NaN</td>\n",
       "      <td> NaN</td>\n",
       "      <td> NaN</td>\n",
       "      <td> NaN</td>\n",
       "    </tr>\n",
       "  </tbody>\n",
       "</table>\n",
       "</div>"
      ],
      "text/plain": [
       "                                                       method   LP Iterated  \\\n",
       "BE                  Implicit Euler\\n\\n 1 | 1\\n___|___\\n   | 1  NaN      NaN   \n",
       "SSP75       SSP 75\\nFrom Ruuth-Spiteri paper\\n 0.000 |\\n 0...  NaN      NaN   \n",
       "Lambert65   Lambert\\n\\n 0     |\\n 1/2   | 1/2\\n 1/4   | 1/...  NaN      NaN   \n",
       "Fehlberg45  Fehlberg RK5(4)6\\n\\n 0           |\\n 1/4      ...  NaN      NaN   \n",
       "FE                     Forward Euler\\n\\n 0 |\\n___|___\\n   | 1  NaN      NaN   \n",
       "\n",
       "           Single pass SSP Coeff 1/A bound Tihi bound Column assumption type  \n",
       "BE                 NaN       NaN       NaN        NaN               NaN  NaN  \n",
       "SSP75              NaN       NaN       NaN        NaN               NaN  NaN  \n",
       "Lambert65          NaN       NaN       NaN        NaN               NaN  NaN  \n",
       "Fehlberg45         NaN       NaN       NaN        NaN               NaN  NaN  \n",
       "FE                 NaN       NaN       NaN        NaN               NaN  NaN  "
      ]
     },
     "execution_count": 16,
     "metadata": {},
     "output_type": "execute_result"
    }
   ],
   "source": [
    "df.head()"
   ]
  },
  {
   "cell_type": "code",
   "execution_count": 17,
   "metadata": {
    "collapsed": false
   },
   "outputs": [
    {
     "name": "stdout",
     "output_type": "stream",
     "text": [
      "BE\n",
      "SSP75\n",
      "Lambert65\n",
      "Fehlberg45\n",
      "FE\n",
      "Merson43\n",
      "SSP33\n",
      "MTE22\n",
      "PD8\n",
      "SSP95\n",
      "RK44\n",
      "SSP22star\n",
      "RadauIIA3\n",
      "RadauIIA2\n",
      "BS5\n",
      "Heun33\n",
      "SSP22\n",
      "DP5\n",
      "LobattoIIIC4\n",
      "NSSP33\n",
      "NSSP32\n",
      "SSP85\n",
      "CMR6\n",
      "BuRK65\n",
      "SSP104\n",
      "LobattoIIIA2\n",
      "GL2\n",
      "GL3\n",
      "LobattoIIIC3\n",
      "LobattoIIIC2\n",
      "Mid22\n"
     ]
    }
   ],
   "source": [
    "for index, row in df.iterrows():\n",
    "    method = row['method']\n",
    "    print index\n",
    "    if type(method) in (rk.ExplicitRungeKuttaMethod,\n",
    "                    rk.ExplicitRungeKuttaPair):\n",
    "        row['LP'] = method.optimal_perturbed_splitting(algorithm='LP')"
   ]
  },
  {
   "cell_type": "code",
   "execution_count": 18,
   "metadata": {
    "collapsed": false
   },
   "outputs": [],
   "source": [
    "for index, row in df.iterrows():\n",
    "    method = row['method']\n",
    "    row['SSP Coeff'] = method.absolute_monotonicity_radius()\n",
    "    row['1/A bound'] = 1./sympy.N(max(np.max(np.abs(method.A)),np.max(np.abs(method.b))))\n",
    "    row['Tihi bound'] = linear_bound(method.p,len(method))"
   ]
  },
  {
   "cell_type": "code",
   "execution_count": 19,
   "metadata": {
    "collapsed": false
   },
   "outputs": [],
   "source": [
    "for index, row in df.iterrows():\n",
    "    method = row['method']\n",
    "    if type(method) in (rk.ExplicitRungeKuttaMethod,\n",
    "                    rk.ExplicitRungeKuttaPair):    \n",
    "        row['type'] = 'explicit'\n",
    "    else:\n",
    "        row['type'] = 'implicit'"
   ]
  },
  {
   "cell_type": "code",
   "execution_count": 20,
   "metadata": {
    "collapsed": false
   },
   "outputs": [
    {
     "data": {
      "text/html": [
       "<div style=\"max-height:1000px;max-width:1500px;overflow:auto;\">\n",
       "<table border=\"1\" class=\"dataframe\">\n",
       "  <thead>\n",
       "    <tr style=\"text-align: right;\">\n",
       "      <th></th>\n",
       "      <th>method</th>\n",
       "      <th>LP</th>\n",
       "      <th>Iterated</th>\n",
       "      <th>Single pass</th>\n",
       "      <th>SSP Coeff</th>\n",
       "      <th>1/A bound</th>\n",
       "      <th>Tihi bound</th>\n",
       "      <th>Column assumption</th>\n",
       "      <th>type</th>\n",
       "    </tr>\n",
       "  </thead>\n",
       "  <tbody>\n",
       "    <tr>\n",
       "      <th>BE</th>\n",
       "      <td>         Implicit Euler\\n\\n 1 | 1\\n___|___\\n   | 1</td>\n",
       "      <td>                                               NaN</td>\n",
       "      <td> NaN</td>\n",
       "      <td> NaN</td>\n",
       "      <td> inf</td>\n",
       "      <td>  1.00000000000000</td>\n",
       "      <td>        1</td>\n",
       "      <td> NaN</td>\n",
       "      <td> implicit</td>\n",
       "    </tr>\n",
       "    <tr>\n",
       "      <th>SSP75</th>\n",
       "      <td> SSP 75\\nFrom Ruuth-Spiteri paper\\n 0.000 |\\n 0...</td>\n",
       "      <td> (1.39601635844, [1.00000000000000, 0.0, 0.0, 0...</td>\n",
       "      <td> NaN</td>\n",
       "      <td> NaN</td>\n",
       "      <td>   0</td>\n",
       "      <td>  1.79244055420630</td>\n",
       "      <td> 4.789389</td>\n",
       "      <td> NaN</td>\n",
       "      <td> explicit</td>\n",
       "    </tr>\n",
       "    <tr>\n",
       "      <th>Lambert65</th>\n",
       "      <td> Lambert\\n\\n 0     |\\n 1/2   | 1/2\\n 1/4   | 1/...</td>\n",
       "      <td> (0.237833002627, [1.00000000000000, 0.0, 0.0, ...</td>\n",
       "      <td> NaN</td>\n",
       "      <td> NaN</td>\n",
       "      <td>   0</td>\n",
       "      <td> 0.583333333333333</td>\n",
       "      <td> 5.477226</td>\n",
       "      <td> NaN</td>\n",
       "      <td> explicit</td>\n",
       "    </tr>\n",
       "    <tr>\n",
       "      <th>Fehlberg45</th>\n",
       "      <td> Fehlberg RK5(4)6\\n\\n 0           |\\n 1/4      ...</td>\n",
       "      <td> (0.0578594219191, [1.00000000000000, 0.0, 0.0,...</td>\n",
       "      <td> NaN</td>\n",
       "      <td> NaN</td>\n",
       "      <td>   0</td>\n",
       "      <td> 0.125000000000000</td>\n",
       "      <td> 3.727919</td>\n",
       "      <td> NaN</td>\n",
       "      <td> explicit</td>\n",
       "    </tr>\n",
       "    <tr>\n",
       "      <th>FE</th>\n",
       "      <td>            Forward Euler\\n\\n 0 |\\n___|___\\n   | 1</td>\n",
       "      <td> (1.00000003584, [1.00000000000000, 0.0], [[0, ...</td>\n",
       "      <td> NaN</td>\n",
       "      <td> NaN</td>\n",
       "      <td>   1</td>\n",
       "      <td>  1.00000000000000</td>\n",
       "      <td>        1</td>\n",
       "      <td> NaN</td>\n",
       "      <td> explicit</td>\n",
       "    </tr>\n",
       "  </tbody>\n",
       "</table>\n",
       "</div>"
      ],
      "text/plain": [
       "                                                       method  \\\n",
       "BE                  Implicit Euler\\n\\n 1 | 1\\n___|___\\n   | 1   \n",
       "SSP75       SSP 75\\nFrom Ruuth-Spiteri paper\\n 0.000 |\\n 0...   \n",
       "Lambert65   Lambert\\n\\n 0     |\\n 1/2   | 1/2\\n 1/4   | 1/...   \n",
       "Fehlberg45  Fehlberg RK5(4)6\\n\\n 0           |\\n 1/4      ...   \n",
       "FE                     Forward Euler\\n\\n 0 |\\n___|___\\n   | 1   \n",
       "\n",
       "                                                           LP Iterated  \\\n",
       "BE                                                        NaN      NaN   \n",
       "SSP75       (1.39601635844, [1.00000000000000, 0.0, 0.0, 0...      NaN   \n",
       "Lambert65   (0.237833002627, [1.00000000000000, 0.0, 0.0, ...      NaN   \n",
       "Fehlberg45  (0.0578594219191, [1.00000000000000, 0.0, 0.0,...      NaN   \n",
       "FE          (1.00000003584, [1.00000000000000, 0.0], [[0, ...      NaN   \n",
       "\n",
       "           Single pass SSP Coeff          1/A bound Tihi bound  \\\n",
       "BE                 NaN       inf   1.00000000000000          1   \n",
       "SSP75              NaN         0   1.79244055420630   4.789389   \n",
       "Lambert65          NaN         0  0.583333333333333   5.477226   \n",
       "Fehlberg45         NaN         0  0.125000000000000   3.727919   \n",
       "FE                 NaN         1   1.00000000000000          1   \n",
       "\n",
       "           Column assumption      type  \n",
       "BE                       NaN  implicit  \n",
       "SSP75                    NaN  explicit  \n",
       "Lambert65                NaN  explicit  \n",
       "Fehlberg45               NaN  explicit  \n",
       "FE                       NaN  explicit  "
      ]
     },
     "execution_count": 20,
     "metadata": {},
     "output_type": "execute_result"
    }
   ],
   "source": [
    "df.head()"
   ]
  },
  {
   "cell_type": "code",
   "execution_count": 24,
   "metadata": {
    "collapsed": false
   },
   "outputs": [],
   "source": [
    "for index, row in df.iterrows():\n",
    "    if row['type'] == 'explicit':\n",
    "        method = row['method']\n",
    "        r, gamma, alphaup, alphadown = method.optimal_perturbed_splitting(iterate=False)\n",
    "        row['Single pass'] = r\n",
    "        inds_up = np.where(alphaup>1.e-14)\n",
    "        cols_up = set(inds_up[1])\n",
    "        inds_down = np.where(alphadown>1.e-14)\n",
    "        cols_down = set(inds_down[1])\n",
    "        row['Column assumption'] = not any(set.intersection(cols_up,cols_down)) # Assumption satisfied if only column zero is common"
   ]
  },
  {
   "cell_type": "code",
   "execution_count": 25,
   "metadata": {
    "collapsed": false
   },
   "outputs": [],
   "source": [
    "df.rename(columns={'Column assumption':'sp Column assumption'},inplace=True)"
   ]
  },
  {
   "cell_type": "code",
   "execution_count": 26,
   "metadata": {
    "collapsed": false
   },
   "outputs": [],
   "source": [
    "df['iter Column assumption']=np.nan"
   ]
  },
  {
   "cell_type": "code",
   "execution_count": 27,
   "metadata": {
    "collapsed": false
   },
   "outputs": [
    {
     "name": "stdout",
     "output_type": "stream",
     "text": [
      "SSP75 1.39601614193\n",
      "Lambert65 0.237832940214\n",
      "Fehlberg RK5(4)6 0.0578594081638\n",
      "Forward Euler 1.0\n",
      "Merson RK4(3) 0.242956582456\n",
      "SSPRK33 1.0\n",
      "Minimal Truncation Error 22 1.0\n",
      "SSP95 2.73840349792\n",
      "Classical RK4 0.685016062736\n",
      "SSPRK22star 1.21525043702\n",
      "Bogacki-Shampine RK5(4)8 0.313254463451\n",
      "Heun33 0.77653792833\n",
      "SSPRK22 1.0\n",
      "Dormand-Prince RK5(4)7 0.0407681041854\n",
      "NSSPRK33 0.558421984903\n",
      "NSSPRK32 0.77653792833\n",
      "SSP85 1.87568496164\n",
      "Calvo 6(5) 0.0215160641728\n",
      "Butcher's RK65 0.18757842607\n",
      "Prince-Dormand 8(7) 0.0133671741698\n",
      "SSPRK(10,4) 6.0\n",
      "Midpoint Runge-Kutta 0.732050807569\n"
     ]
    }
   ],
   "source": [
    "for index, row in df.iterrows():\n",
    "    if row['type'] == 'explicit':\n",
    "        method = row['method']\n",
    "        r, gamma, alphaup, alphadown = method.optimal_perturbed_splitting(iterate=True)\n",
    "        print method.name, r\n",
    "        df.loc[index,'Iterated'] = r\n",
    "        inds_up = np.where(alphaup>1.e-14)\n",
    "        cols_up = set(inds_up[1])\n",
    "        inds_down = np.where(alphadown>1.e-14)\n",
    "        cols_down = set(inds_down[1])\n",
    "        df.loc[index,'iter Column assumption'] = not any(set.intersection(cols_up,cols_down)) # Assumption satisfied if only column zero is common"
   ]
  },
  {
   "cell_type": "code",
   "execution_count": 28,
   "metadata": {
    "collapsed": false
   },
   "outputs": [
    {
     "data": {
      "text/html": [
       "<div style=\"max-height:1000px;max-width:1500px;overflow:auto;\">\n",
       "<table border=\"1\" class=\"dataframe\">\n",
       "  <thead>\n",
       "    <tr style=\"text-align: right;\">\n",
       "      <th></th>\n",
       "      <th>method</th>\n",
       "      <th>LP</th>\n",
       "      <th>Iterated</th>\n",
       "      <th>Single pass</th>\n",
       "      <th>SSP Coeff</th>\n",
       "      <th>1/A bound</th>\n",
       "      <th>Tihi bound</th>\n",
       "      <th>sp Column assumption</th>\n",
       "      <th>type</th>\n",
       "      <th>iter Column assumption</th>\n",
       "    </tr>\n",
       "  </thead>\n",
       "  <tbody>\n",
       "    <tr>\n",
       "      <th>BE</th>\n",
       "      <td>         Implicit Euler\\n\\n 1 | 1\\n___|___\\n   | 1</td>\n",
       "      <td>                                               NaN</td>\n",
       "      <td>        NaN</td>\n",
       "      <td>          NaN</td>\n",
       "      <td> inf</td>\n",
       "      <td>  1.00000000000000</td>\n",
       "      <td>        1</td>\n",
       "      <td>   NaN</td>\n",
       "      <td> implicit</td>\n",
       "      <td>   NaN</td>\n",
       "    </tr>\n",
       "    <tr>\n",
       "      <th>SSP75</th>\n",
       "      <td> SSP75\\nFrom Ruuth-Spiteri paper\\n 0.000 |\\n 0....</td>\n",
       "      <td> (1.39601635844, [1.00000000000000, 0.0, 0.0, 0...</td>\n",
       "      <td>   1.396016</td>\n",
       "      <td>     1.178508</td>\n",
       "      <td>   0</td>\n",
       "      <td>  1.79244055420630</td>\n",
       "      <td> 4.789389</td>\n",
       "      <td>  True</td>\n",
       "      <td> explicit</td>\n",
       "      <td> False</td>\n",
       "    </tr>\n",
       "    <tr>\n",
       "      <th>Lambert65</th>\n",
       "      <td> Lambert65\\nFrom Shu-Osher paper\\n 0     |\\n 1/...</td>\n",
       "      <td> (0.237833002627, [1.00000000000000, 0.0, 0.0, ...</td>\n",
       "      <td>  0.2378329</td>\n",
       "      <td> 7.756481e-05</td>\n",
       "      <td>   0</td>\n",
       "      <td> 0.583333333333333</td>\n",
       "      <td> 5.477226</td>\n",
       "      <td> False</td>\n",
       "      <td> explicit</td>\n",
       "      <td> False</td>\n",
       "    </tr>\n",
       "    <tr>\n",
       "      <th>Fehlberg45</th>\n",
       "      <td> Fehlberg RK5(4)6\\n\\n 0           |\\n 1/4      ...</td>\n",
       "      <td> (0.0578594219191, [1.00000000000000, 0.0, 0.0,...</td>\n",
       "      <td> 0.05785941</td>\n",
       "      <td> 1.507554e-07</td>\n",
       "      <td>   0</td>\n",
       "      <td> 0.125000000000000</td>\n",
       "      <td> 3.727919</td>\n",
       "      <td> False</td>\n",
       "      <td> explicit</td>\n",
       "      <td> False</td>\n",
       "    </tr>\n",
       "    <tr>\n",
       "      <th>FE</th>\n",
       "      <td>            Forward Euler\\n\\n 0 |\\n___|___\\n   | 1</td>\n",
       "      <td> (1.00000003584, [1.00000000000000, 0.0], [[0, ...</td>\n",
       "      <td>          1</td>\n",
       "      <td>            1</td>\n",
       "      <td>   1</td>\n",
       "      <td>  1.00000000000000</td>\n",
       "      <td>        1</td>\n",
       "      <td>  True</td>\n",
       "      <td> explicit</td>\n",
       "      <td>  True</td>\n",
       "    </tr>\n",
       "  </tbody>\n",
       "</table>\n",
       "</div>"
      ],
      "text/plain": [
       "                                                       method  \\\n",
       "BE                  Implicit Euler\\n\\n 1 | 1\\n___|___\\n   | 1   \n",
       "SSP75       SSP75\\nFrom Ruuth-Spiteri paper\\n 0.000 |\\n 0....   \n",
       "Lambert65   Lambert65\\nFrom Shu-Osher paper\\n 0     |\\n 1/...   \n",
       "Fehlberg45  Fehlberg RK5(4)6\\n\\n 0           |\\n 1/4      ...   \n",
       "FE                     Forward Euler\\n\\n 0 |\\n___|___\\n   | 1   \n",
       "\n",
       "                                                           LP    Iterated  \\\n",
       "BE                                                        NaN         NaN   \n",
       "SSP75       (1.39601635844, [1.00000000000000, 0.0, 0.0, 0...    1.396016   \n",
       "Lambert65   (0.237833002627, [1.00000000000000, 0.0, 0.0, ...   0.2378329   \n",
       "Fehlberg45  (0.0578594219191, [1.00000000000000, 0.0, 0.0,...  0.05785941   \n",
       "FE          (1.00000003584, [1.00000000000000, 0.0], [[0, ...           1   \n",
       "\n",
       "             Single pass SSP Coeff          1/A bound Tihi bound  \\\n",
       "BE                   NaN       inf   1.00000000000000          1   \n",
       "SSP75           1.178508         0   1.79244055420630   4.789389   \n",
       "Lambert65   7.756481e-05         0  0.583333333333333   5.477226   \n",
       "Fehlberg45  1.507554e-07         0  0.125000000000000   3.727919   \n",
       "FE                     1         1   1.00000000000000          1   \n",
       "\n",
       "           sp Column assumption      type iter Column assumption  \n",
       "BE                          NaN  implicit                    NaN  \n",
       "SSP75                      True  explicit                  False  \n",
       "Lambert65                 False  explicit                  False  \n",
       "Fehlberg45                False  explicit                  False  \n",
       "FE                         True  explicit                   True  "
      ]
     },
     "execution_count": 28,
     "metadata": {},
     "output_type": "execute_result"
    }
   ],
   "source": [
    "df.head()"
   ]
  },
  {
   "cell_type": "code",
   "execution_count": 29,
   "metadata": {
    "collapsed": false
   },
   "outputs": [
    {
     "name": "stdout",
     "output_type": "stream",
     "text": [
      "Implicit Euler 50.0099940383\n",
      "RadauIIA3 0\n",
      "RadauIIA2 0\n",
      "LobattoIIIC4 0\n",
      "LobattoIIIA2 1.99999866128\n",
      "Gauss-Legendre RK24 0\n",
      "Gauss-Legendre RK36 0\n",
      "LobattoIIIC3 0\n",
      "LobattoIIIC2 0\n"
     ]
    }
   ],
   "source": [
    "for index, row in df.iterrows():\n",
    "    if row['type'] == 'implicit':\n",
    "        method = row['method']\n",
    "        r, gamma, alphaup, alphadown = method.__num__().optimal_perturbed_splitting(acc=1.e-5,iterate=False)\n",
    "        print method.name, r\n",
    "        df.loc[index,'Single pass'] = r\n",
    "        inds_up = np.where(alphaup>1.e-14)\n",
    "        cols_up = set(inds_up[1])\n",
    "        inds_down = np.where(alphadown>1.e-14)\n",
    "        cols_down = set(inds_down[1])\n",
    "        df.loc[index,'sp Column assumption'] = not any(set.intersection(cols_up,cols_down)) # Assumption satisfied if only column zero is common"
   ]
  },
  {
   "cell_type": "code",
   "execution_count": 30,
   "metadata": {
    "collapsed": false
   },
   "outputs": [
    {
     "name": "stdout",
     "output_type": "stream",
     "text": [
      "Implicit Euler 50.0099940383\n",
      "RadauIIA3 0.0147968316078\n",
      "RadauIIA2 0.0184036338329\n",
      "LobattoIIIC4 0.0106773269176\n",
      "LobattoIIIA2 1.99999866128\n",
      "Gauss-Legendre RK24 0.0209671461582\n",
      "Gauss-Legendre RK36 0.0208240664005\n",
      "LobattoIIIC3 0.00814958453178\n",
      "LobattoIIIC2 0.00765476703644\n"
     ]
    }
   ],
   "source": [
    "for index, row in df.iterrows():\n",
    "    if row['type'] == 'implicit':\n",
    "        method = row['method']\n",
    "        r, gamma, alphaup, alphadown = method.__num__().optimal_perturbed_splitting(acc=1.e-5,iterate=True)\n",
    "        print method.name, r\n",
    "        df.loc[index,'Iterated'] = r\n",
    "        inds_up = np.where(alphaup>1.e-14)\n",
    "        cols_up = set(inds_up[1])\n",
    "        inds_down = np.where(alphadown>1.e-14)\n",
    "        cols_down = set(inds_down[1])\n",
    "        df.loc[index,'iter Column assumption'] = not any(set.intersection(cols_up,cols_down)) # Assumption satisfied if only column zero is common"
   ]
  },
  {
   "cell_type": "code",
   "execution_count": 31,
   "metadata": {
    "collapsed": false
   },
   "outputs": [
    {
     "data": {
      "text/html": [
       "<div style=\"max-height:1000px;max-width:1500px;overflow:auto;\">\n",
       "<table border=\"1\" class=\"dataframe\">\n",
       "  <thead>\n",
       "    <tr style=\"text-align: right;\">\n",
       "      <th></th>\n",
       "      <th>method</th>\n",
       "      <th>LP</th>\n",
       "      <th>Iterated</th>\n",
       "      <th>Single pass</th>\n",
       "      <th>SSP Coeff</th>\n",
       "      <th>1/A bound</th>\n",
       "      <th>Tihi bound</th>\n",
       "      <th>sp Column assumption</th>\n",
       "      <th>type</th>\n",
       "      <th>iter Column assumption</th>\n",
       "    </tr>\n",
       "  </thead>\n",
       "  <tbody>\n",
       "    <tr>\n",
       "      <th>BE</th>\n",
       "      <td>         Implicit Euler\\n\\n 1 | 1\\n___|___\\n   | 1</td>\n",
       "      <td>                                               NaN</td>\n",
       "      <td>   50.00999</td>\n",
       "      <td>     50.00999</td>\n",
       "      <td> inf</td>\n",
       "      <td>  1.00000000000000</td>\n",
       "      <td>        1</td>\n",
       "      <td>  True</td>\n",
       "      <td> implicit</td>\n",
       "      <td>  True</td>\n",
       "    </tr>\n",
       "    <tr>\n",
       "      <th>SSP75</th>\n",
       "      <td> SSP75\\nFrom Ruuth-Spiteri paper\\n 0.000 |\\n 0....</td>\n",
       "      <td> (1.39601635844, [1.00000000000000, 0.0, 0.0, 0...</td>\n",
       "      <td>   1.396016</td>\n",
       "      <td>     1.178508</td>\n",
       "      <td>   0</td>\n",
       "      <td>  1.79244055420630</td>\n",
       "      <td> 4.789389</td>\n",
       "      <td>  True</td>\n",
       "      <td> explicit</td>\n",
       "      <td> False</td>\n",
       "    </tr>\n",
       "    <tr>\n",
       "      <th>Lambert65</th>\n",
       "      <td> Lambert65\\nFrom Shu-Osher paper\\n 0     |\\n 1/...</td>\n",
       "      <td> (0.237833002627, [1.00000000000000, 0.0, 0.0, ...</td>\n",
       "      <td>  0.2378329</td>\n",
       "      <td> 7.756481e-05</td>\n",
       "      <td>   0</td>\n",
       "      <td> 0.583333333333333</td>\n",
       "      <td> 5.477226</td>\n",
       "      <td> False</td>\n",
       "      <td> explicit</td>\n",
       "      <td> False</td>\n",
       "    </tr>\n",
       "    <tr>\n",
       "      <th>Fehlberg45</th>\n",
       "      <td> Fehlberg RK5(4)6\\n\\n 0           |\\n 1/4      ...</td>\n",
       "      <td> (0.0578594219191, [1.00000000000000, 0.0, 0.0,...</td>\n",
       "      <td> 0.05785941</td>\n",
       "      <td> 1.507554e-07</td>\n",
       "      <td>   0</td>\n",
       "      <td> 0.125000000000000</td>\n",
       "      <td> 3.727919</td>\n",
       "      <td> False</td>\n",
       "      <td> explicit</td>\n",
       "      <td> False</td>\n",
       "    </tr>\n",
       "    <tr>\n",
       "      <th>FE</th>\n",
       "      <td>            Forward Euler\\n\\n 0 |\\n___|___\\n   | 1</td>\n",
       "      <td> (1.00000003584, [1.00000000000000, 0.0], [[0, ...</td>\n",
       "      <td>          1</td>\n",
       "      <td>            1</td>\n",
       "      <td>   1</td>\n",
       "      <td>  1.00000000000000</td>\n",
       "      <td>        1</td>\n",
       "      <td>  True</td>\n",
       "      <td> explicit</td>\n",
       "      <td>  True</td>\n",
       "    </tr>\n",
       "  </tbody>\n",
       "</table>\n",
       "</div>"
      ],
      "text/plain": [
       "                                                       method  \\\n",
       "BE                  Implicit Euler\\n\\n 1 | 1\\n___|___\\n   | 1   \n",
       "SSP75       SSP75\\nFrom Ruuth-Spiteri paper\\n 0.000 |\\n 0....   \n",
       "Lambert65   Lambert65\\nFrom Shu-Osher paper\\n 0     |\\n 1/...   \n",
       "Fehlberg45  Fehlberg RK5(4)6\\n\\n 0           |\\n 1/4      ...   \n",
       "FE                     Forward Euler\\n\\n 0 |\\n___|___\\n   | 1   \n",
       "\n",
       "                                                           LP    Iterated  \\\n",
       "BE                                                        NaN    50.00999   \n",
       "SSP75       (1.39601635844, [1.00000000000000, 0.0, 0.0, 0...    1.396016   \n",
       "Lambert65   (0.237833002627, [1.00000000000000, 0.0, 0.0, ...   0.2378329   \n",
       "Fehlberg45  (0.0578594219191, [1.00000000000000, 0.0, 0.0,...  0.05785941   \n",
       "FE          (1.00000003584, [1.00000000000000, 0.0], [[0, ...           1   \n",
       "\n",
       "             Single pass SSP Coeff          1/A bound Tihi bound  \\\n",
       "BE              50.00999       inf   1.00000000000000          1   \n",
       "SSP75           1.178508         0   1.79244055420630   4.789389   \n",
       "Lambert65   7.756481e-05         0  0.583333333333333   5.477226   \n",
       "Fehlberg45  1.507554e-07         0  0.125000000000000   3.727919   \n",
       "FE                     1         1   1.00000000000000          1   \n",
       "\n",
       "           sp Column assumption      type iter Column assumption  \n",
       "BE                         True  implicit                   True  \n",
       "SSP75                      True  explicit                  False  \n",
       "Lambert65                 False  explicit                  False  \n",
       "Fehlberg45                False  explicit                  False  \n",
       "FE                         True  explicit                   True  "
      ]
     },
     "execution_count": 31,
     "metadata": {},
     "output_type": "execute_result"
    }
   ],
   "source": [
    "df.head()"
   ]
  },
  {
   "cell_type": "code",
   "execution_count": 32,
   "metadata": {
    "collapsed": false
   },
   "outputs": [],
   "source": [
    "sspi3 = rk.SSPIRK3(4)"
   ]
  },
  {
   "cell_type": "code",
   "execution_count": 33,
   "metadata": {
    "collapsed": false
   },
   "outputs": [
    {
     "name": "stdout",
     "output_type": "stream",
     "text": [
      "SSPIRK43\n",
      "\n",
      " -sqrt(15)/10 + 1/2 | -sqrt(15)/10 + 1/2\n",
      " -sqrt(15)/30 + 1/2 | sqrt(15)/15         -sqrt(15)/10 + 1/2\n",
      " sqrt(15)/30 + 1/2  | sqrt(15)/15         sqrt(15)/15         -sqrt(15)/10 + 1/2\n",
      " sqrt(15)/10 + 1/2  | sqrt(15)/15         sqrt(15)/15         sqrt(15)/15         -sqrt(15)/10 + 1/2\n",
      "____________________|________________________________________________________________________________\n",
      "                    | 1/4                 1/4                 1/4                 1/4\n"
     ]
    }
   ],
   "source": [
    "print sspi3"
   ]
  },
  {
   "cell_type": "code",
   "execution_count": 34,
   "metadata": {
    "collapsed": false
   },
   "outputs": [
    {
     "data": {
      "image/png": "[encoded data removed]",
      "text/latex": [
       "$$6.87298334615$$"
      ],
      "text/plain": [
       "6.87298334615"
      ]
     },
     "execution_count": 34,
     "metadata": {},
     "output_type": "execute_result"
    }
   ],
   "source": [
    "sspi3.absolute_monotonicity_radius()"
   ]
  },
  {
   "cell_type": "code",
   "execution_count": 37,
   "metadata": {
    "collapsed": false
   },
   "outputs": [
    {
     "data": {
      "text/plain": [
       "(6.872983346207995,\n",
       " array([0.563508326896271, -2.66453525910038e-14, -3.00453925432878e-14,\n",
       "        1.42068899400378e-27, 0.0317541634481456], dtype=object),\n",
       " array([[0.436491673103729, 0, 0, 0, 0],\n",
       "        [0.563508326896297, 0.436491673103729, 0, 0, 0],\n",
       "        [-2.32730609900856e-14, 0.563508326896297, 0.436491673103729, 0, 0],\n",
       "        [-3.00453925432892e-14, -2.32730609900856e-14, 0.563508326896297,\n",
       "         0.436491673103729, 0],\n",
       "        [2.13103349100595e-27, -5.15985034193960e-14, -3.99680288865109e-14,\n",
       "         0.968245836551900, 0]], dtype=object),\n",
       " array([[0, 0, 0, 0, 0],\n",
       "        [0, 0, 0, 0, 0],\n",
       "        [2.66592267666867e-14, 0, 0, 0, 0],\n",
       "        [0, 2.66592267666867e-14, 0, 0, 0],\n",
       "        [-2.44109294898225e-27, 0, 4.57832661529522e-14, 0, 0]], dtype=object))"
      ]
     },
     "execution_count": 37,
     "metadata": {},
     "output_type": "execute_result"
    }
   ],
   "source": [
    "sspi3.__num__().optimal_perturbed_splitting()"
   ]
  },
  {
   "cell_type": "code",
   "execution_count": 39,
   "metadata": {
    "collapsed": false
   },
   "outputs": [
    {
     "name": "stdout",
     "output_type": "stream",
     "text": [
      "SSPIRK12\n",
      "\n",
      " 1/2 | 1/2\n",
      "_____|_____\n",
      "     | 1\n"
     ]
    }
   ],
   "source": [
    "sspi2 = rk.SSPIRK2(1)\n",
    "print sspi2"
   ]
  },
  {
   "cell_type": "code",
   "execution_count": 40,
   "metadata": {
    "collapsed": false
   },
   "outputs": [
    {
     "data": {
      "image/png": "[encoded data removed]",
      "text/latex": [
       "$$1.99999999995$$"
      ],
      "text/plain": [
       "1.99999999995"
      ]
     },
     "execution_count": 40,
     "metadata": {},
     "output_type": "execute_result"
    }
   ],
   "source": [
    "sspi2.absolute_monotonicity_radius()"
   ]
  },
  {
   "cell_type": "code",
   "execution_count": 41,
   "metadata": {
    "collapsed": false
   },
   "outputs": [
    {
     "data": {
      "text/plain": [
       "(2.0000000000002727,\n",
       " array([0.499999999999966, -6.81676937119846e-14], dtype=object),\n",
       " array([[0.500000000000034, 0],\n",
       "        [1.00000000000007, 0]], dtype=object),\n",
       " array([[0, 0],\n",
       "        [0, 0]], dtype=object))"
      ]
     },
     "execution_count": 41,
     "metadata": {},
     "output_type": "execute_result"
    }
   ],
   "source": [
    "sspi2.__num__().optimal_perturbed_splitting()"
   ]
  },
  {
   "cell_type": "code",
   "execution_count": 52,
   "metadata": {
    "collapsed": false
   },
   "outputs": [],
   "source": [
    "meths={'sspi3':sspi3,'sspi2':sspi2}"
   ]
  },
  {
   "cell_type": "code",
   "execution_count": 53,
   "metadata": {
    "collapsed": false
   },
   "outputs": [],
   "source": [
    "df2 = pd.DataFrame(index=meths.keys(),columns=['method','LP','Iterated','Single pass','SSP Coeff','1/A bound',\n",
    "                                                'Tihi bound','Column assumption','type'])"
   ]
  },
  {
   "cell_type": "code",
   "execution_count": 54,
   "metadata": {
    "collapsed": false
   },
   "outputs": [
    {
     "data": {
      "text/html": [
       "<div style=\"max-height:1000px;max-width:1500px;overflow:auto;\">\n",
       "<table border=\"1\" class=\"dataframe\">\n",
       "  <thead>\n",
       "    <tr style=\"text-align: right;\">\n",
       "      <th></th>\n",
       "      <th>method</th>\n",
       "      <th>LP</th>\n",
       "      <th>Iterated</th>\n",
       "      <th>Single pass</th>\n",
       "      <th>SSP Coeff</th>\n",
       "      <th>1/A bound</th>\n",
       "      <th>Tihi bound</th>\n",
       "      <th>Column assumption</th>\n",
       "      <th>type</th>\n",
       "    </tr>\n",
       "  </thead>\n",
       "  <tbody>\n",
       "    <tr>\n",
       "      <th>sspi2</th>\n",
       "      <td> NaN</td>\n",
       "      <td> NaN</td>\n",
       "      <td> NaN</td>\n",
       "      <td> NaN</td>\n",
       "      <td> NaN</td>\n",
       "      <td> NaN</td>\n",
       "      <td> NaN</td>\n",
       "      <td> NaN</td>\n",
       "      <td> NaN</td>\n",
       "    </tr>\n",
       "    <tr>\n",
       "      <th>sspi3</th>\n",
       "      <td> NaN</td>\n",
       "      <td> NaN</td>\n",
       "      <td> NaN</td>\n",
       "      <td> NaN</td>\n",
       "      <td> NaN</td>\n",
       "      <td> NaN</td>\n",
       "      <td> NaN</td>\n",
       "      <td> NaN</td>\n",
       "      <td> NaN</td>\n",
       "    </tr>\n",
       "  </tbody>\n",
       "</table>\n",
       "</div>"
      ],
      "text/plain": [
       "      method   LP Iterated Single pass SSP Coeff 1/A bound Tihi bound  \\\n",
       "sspi2    NaN  NaN      NaN         NaN       NaN       NaN        NaN   \n",
       "sspi3    NaN  NaN      NaN         NaN       NaN       NaN        NaN   \n",
       "\n",
       "      Column assumption type  \n",
       "sspi2               NaN  NaN  \n",
       "sspi3               NaN  NaN  "
      ]
     },
     "execution_count": 54,
     "metadata": {},
     "output_type": "execute_result"
    }
   ],
   "source": [
    "df2.head()"
   ]
  },
  {
   "cell_type": "code",
   "execution_count": 57,
   "metadata": {
    "collapsed": false
   },
   "outputs": [
    {
     "name": "stdout",
     "output_type": "stream",
     "text": [
      "SSPIRK12\n",
      "\n",
      " 1/2 | 1/2\n",
      "_____|_____\n",
      "     | 1\n",
      "SSPIRK43\n",
      "\n",
      " -sqrt(15)/10 + 1/2 | -sqrt(15)/10 + 1/2\n",
      " -sqrt(15)/30 + 1/2 | sqrt(15)/15         -sqrt(15)/10 + 1/2\n",
      " sqrt(15)/30 + 1/2  | sqrt(15)/15         sqrt(15)/15         -sqrt(15)/10 + 1/2\n",
      " sqrt(15)/10 + 1/2  | sqrt(15)/15         sqrt(15)/15         sqrt(15)/15         -sqrt(15)/10 + 1/2\n",
      "____________________|________________________________________________________________________________\n",
      "                    | 1/4                 1/4                 1/4                 1/4\n"
     ]
    }
   ],
   "source": [
    "for name, method in meths.iteritems():\n",
    "    df2.loc[name]['method'] = method\n",
    "    \n",
    "for index, row in df2.iterrows():\n",
    "    method = row['method']\n",
    "    row['SSP Coeff'] = method.absolute_monotonicity_radius()\n",
    "    row['1/A bound'] = 1./sympy.N(max(np.max(np.abs(method.A)),np.max(np.abs(method.b))))\n",
    "    row['Tihi bound'] = linear_bound(method.p,len(method))\n",
    "\n",
    "df2.rename(columns={'Column assumption':'sp Column assumption'},inplace=True)\n",
    "df2['iter Column assumption']=np.nan\n",
    "for index, row in df2.iterrows():\n",
    "    method = row['method']\n",
    "    r, gamma, alphaup, alphadown = method.__num__().optimal_perturbed_splitting(acc=1.e-5,iterate=False)\n",
    "    df2.loc[index,'Single pass'] = r\n",
    "    inds_up = np.where(alphaup>1.e-14)\n",
    "    cols_up = set(inds_up[1])\n",
    "    inds_down = np.where(alphadown>1.e-14)\n",
    "    cols_down = set(inds_down[1])\n",
    "    df2.loc[index,'sp Column assumption'] = not any(set.intersection(cols_up,cols_down)) # Assumption satisfied if only column zero is common\n",
    "for index, row in df2.iterrows():\n",
    "    method = row['method']\n",
    "    print method\n",
    "    r, gamma, alphaup, alphadown = method.__num__().optimal_perturbed_splitting(acc=1.e-5,iterate=True)\n",
    "    df2.loc[index,'Iterated'] = r\n",
    "    inds_up = np.where(alphaup>1.e-14)\n",
    "    cols_up = set(inds_up[1])\n",
    "    inds_down = np.where(alphadown>1.e-14)\n",
    "    cols_down = set(inds_down[1])\n",
    "    df2.loc[index,'iter Column assumption'] = not any(set.intersection(cols_up,cols_down)) # Assumption satisfied if only column zero is common"
   ]
  },
  {
   "cell_type": "code",
   "execution_count": 58,
   "metadata": {
    "collapsed": false
   },
   "outputs": [
    {
     "data": {
      "text/html": [
       "<div style=\"max-height:1000px;max-width:1500px;overflow:auto;\">\n",
       "<table border=\"1\" class=\"dataframe\">\n",
       "  <thead>\n",
       "    <tr style=\"text-align: right;\">\n",
       "      <th></th>\n",
       "      <th>method</th>\n",
       "      <th>LP</th>\n",
       "      <th>Iterated</th>\n",
       "      <th>Single pass</th>\n",
       "      <th>SSP Coeff</th>\n",
       "      <th>1/A bound</th>\n",
       "      <th>Tihi bound</th>\n",
       "      <th>sp Column assumption</th>\n",
       "      <th>type</th>\n",
       "      <th>iter Column assumption</th>\n",
       "    </tr>\n",
       "  </thead>\n",
       "  <tbody>\n",
       "    <tr>\n",
       "      <th>sspi2</th>\n",
       "      <td>     SSPIRK12\\n\\n 1/2 | 1/2\\n_____|_____\\n     | 1</td>\n",
       "      <td> NaN</td>\n",
       "      <td> 1.999999</td>\n",
       "      <td> 1.999999</td>\n",
       "      <td>        2</td>\n",
       "      <td> 1.00000000000000</td>\n",
       "      <td>        0</td>\n",
       "      <td> True</td>\n",
       "      <td> NaN</td>\n",
       "      <td> True</td>\n",
       "    </tr>\n",
       "    <tr>\n",
       "      <th>sspi3</th>\n",
       "      <td> SSPIRK43\\n\\n -sqrt(15)/10 + 1/2 | -sqrt(15)/10...</td>\n",
       "      <td> NaN</td>\n",
       "      <td> 6.872979</td>\n",
       "      <td> 6.872979</td>\n",
       "      <td> 6.872983</td>\n",
       "      <td> 3.87298334620742</td>\n",
       "      <td> 2.884499</td>\n",
       "      <td> True</td>\n",
       "      <td> NaN</td>\n",
       "      <td> True</td>\n",
       "    </tr>\n",
       "  </tbody>\n",
       "</table>\n",
       "</div>"
      ],
      "text/plain": [
       "                                                  method   LP  Iterated  \\\n",
       "sspi2      SSPIRK12\\n\\n 1/2 | 1/2\\n_____|_____\\n     | 1  NaN  1.999999   \n",
       "sspi3  SSPIRK43\\n\\n -sqrt(15)/10 + 1/2 | -sqrt(15)/10...  NaN  6.872979   \n",
       "\n",
       "      Single pass SSP Coeff         1/A bound Tihi bound sp Column assumption  \\\n",
       "sspi2    1.999999         2  1.00000000000000          0                 True   \n",
       "sspi3    6.872979  6.872983  3.87298334620742   2.884499                 True   \n",
       "\n",
       "      type iter Column assumption  \n",
       "sspi2  NaN                   True  \n",
       "sspi3  NaN                   True  "
      ]
     },
     "execution_count": 58,
     "metadata": {},
     "output_type": "execute_result"
    }
   ],
   "source": [
    "df2.head()"
   ]
  },
  {
   "cell_type": "code",
   "execution_count": 86,
   "metadata": {
    "collapsed": false
   },
   "outputs": [],
   "source": [
    "df=df.append(df2)\n",
    "df.loc['sspi2','type']='implicit'\n",
    "df.loc['sspi3','type']='implicit'"
   ]
  },
  {
   "cell_type": "code",
   "execution_count": 90,
   "metadata": {
    "collapsed": false
   },
   "outputs": [
    {
     "data": {
      "text/html": [
       "<div style=\"max-height:1000px;max-width:1500px;overflow:auto;\">\n",
       "<table border=\"1\" class=\"dataframe\">\n",
       "  <thead>\n",
       "    <tr style=\"text-align: right;\">\n",
       "      <th></th>\n",
       "      <th>1/A bound</th>\n",
       "      <th>Iterated</th>\n",
       "      <th>LP</th>\n",
       "      <th>SSP Coeff</th>\n",
       "      <th>Single pass</th>\n",
       "      <th>Tihi bound</th>\n",
       "      <th>iter Column assumption</th>\n",
       "      <th>method</th>\n",
       "      <th>order</th>\n",
       "      <th>sp Column assumption</th>\n",
       "      <th>stages</th>\n",
       "      <th>type</th>\n",
       "      <th>name</th>\n",
       "    </tr>\n",
       "  </thead>\n",
       "  <tbody>\n",
       "    <tr>\n",
       "      <th>LobattoIIIC3</th>\n",
       "      <td> 1.50000000000000</td>\n",
       "      <td> 0.008149585</td>\n",
       "      <td>                                               NaN</td>\n",
       "      <td>        0</td>\n",
       "      <td>         0</td>\n",
       "      <td>        0</td>\n",
       "      <td> False</td>\n",
       "      <td> LobattoIIIC3\\nThe LobattoIIIC method with 3 st...</td>\n",
       "      <td> 4</td>\n",
       "      <td> True</td>\n",
       "      <td> 3</td>\n",
       "      <td> implicit</td>\n",
       "      <td> LobattoIIIC3</td>\n",
       "    </tr>\n",
       "    <tr>\n",
       "      <th>LobattoIIIC2</th>\n",
       "      <td> 2.00000000000000</td>\n",
       "      <td> 0.007654767</td>\n",
       "      <td>                                               NaN</td>\n",
       "      <td>        0</td>\n",
       "      <td>         0</td>\n",
       "      <td> 1.414214</td>\n",
       "      <td> False</td>\n",
       "      <td> LobattoIIIC2\\nThe LobattoIIIC method with 2 st...</td>\n",
       "      <td> 2</td>\n",
       "      <td> True</td>\n",
       "      <td> 2</td>\n",
       "      <td> implicit</td>\n",
       "      <td> LobattoIIIC2</td>\n",
       "    </tr>\n",
       "    <tr>\n",
       "      <th>Mid22</th>\n",
       "      <td> 1.00000000000000</td>\n",
       "      <td>   0.7320508</td>\n",
       "      <td> (0.732050847971, [1.00000000000000, 0.0, 0.0],...</td>\n",
       "      <td>        0</td>\n",
       "      <td> 0.7320508</td>\n",
       "      <td> 1.414214</td>\n",
       "      <td>  True</td>\n",
       "      <td> Midpoint Runge-Kutta\\n\\n 0   |\\n 1/2 | 1/2\\n__...</td>\n",
       "      <td> 2</td>\n",
       "      <td> True</td>\n",
       "      <td> 2</td>\n",
       "      <td> explicit</td>\n",
       "      <td>        Mid22</td>\n",
       "    </tr>\n",
       "    <tr>\n",
       "      <th>sspi2</th>\n",
       "      <td> 1.00000000000000</td>\n",
       "      <td>    1.999999</td>\n",
       "      <td>                                               NaN</td>\n",
       "      <td>        2</td>\n",
       "      <td>  1.999999</td>\n",
       "      <td>        0</td>\n",
       "      <td>  True</td>\n",
       "      <td>     SSPIRK12\\n\\n 1/2 | 1/2\\n_____|_____\\n     | 1</td>\n",
       "      <td> 2</td>\n",
       "      <td> True</td>\n",
       "      <td> 1</td>\n",
       "      <td> implicit</td>\n",
       "      <td>        sspi2</td>\n",
       "    </tr>\n",
       "    <tr>\n",
       "      <th>sspi3</th>\n",
       "      <td> 3.87298334620742</td>\n",
       "      <td>    6.872979</td>\n",
       "      <td>                                               NaN</td>\n",
       "      <td> 6.872983</td>\n",
       "      <td>  6.872979</td>\n",
       "      <td> 2.884499</td>\n",
       "      <td>  True</td>\n",
       "      <td> SSPIRK43\\n\\n -sqrt(15)/10 + 1/2 | -sqrt(15)/10...</td>\n",
       "      <td> 3</td>\n",
       "      <td> True</td>\n",
       "      <td> 4</td>\n",
       "      <td> implicit</td>\n",
       "      <td>        sspi3</td>\n",
       "    </tr>\n",
       "  </tbody>\n",
       "</table>\n",
       "</div>"
      ],
      "text/plain": [
       "                     1/A bound     Iterated  \\\n",
       "LobattoIIIC3  1.50000000000000  0.008149585   \n",
       "LobattoIIIC2  2.00000000000000  0.007654767   \n",
       "Mid22         1.00000000000000    0.7320508   \n",
       "sspi2         1.00000000000000     1.999999   \n",
       "sspi3         3.87298334620742     6.872979   \n",
       "\n",
       "                                                             LP SSP Coeff  \\\n",
       "LobattoIIIC3                                                NaN         0   \n",
       "LobattoIIIC2                                                NaN         0   \n",
       "Mid22         (0.732050847971, [1.00000000000000, 0.0, 0.0],...         0   \n",
       "sspi2                                                       NaN         2   \n",
       "sspi3                                                       NaN  6.872983   \n",
       "\n",
       "             Single pass Tihi bound iter Column assumption  \\\n",
       "LobattoIIIC3           0          0                  False   \n",
       "LobattoIIIC2           0   1.414214                  False   \n",
       "Mid22          0.7320508   1.414214                   True   \n",
       "sspi2           1.999999          0                   True   \n",
       "sspi3           6.872979   2.884499                   True   \n",
       "\n",
       "                                                         method  order  \\\n",
       "LobattoIIIC3  LobattoIIIC3\\nThe LobattoIIIC method with 3 st...      4   \n",
       "LobattoIIIC2  LobattoIIIC2\\nThe LobattoIIIC method with 2 st...      2   \n",
       "Mid22         Midpoint Runge-Kutta\\n\\n 0   |\\n 1/2 | 1/2\\n__...      2   \n",
       "sspi2             SSPIRK12\\n\\n 1/2 | 1/2\\n_____|_____\\n     | 1      2   \n",
       "sspi3         SSPIRK43\\n\\n -sqrt(15)/10 + 1/2 | -sqrt(15)/10...      3   \n",
       "\n",
       "             sp Column assumption  stages      type          name  \n",
       "LobattoIIIC3                 True       3  implicit  LobattoIIIC3  \n",
       "LobattoIIIC2                 True       2  implicit  LobattoIIIC2  \n",
       "Mid22                        True       2  explicit         Mid22  \n",
       "sspi2                        True       1  implicit         sspi2  \n",
       "sspi3                        True       4  implicit         sspi3  "
      ]
     },
     "execution_count": 90,
     "metadata": {},
     "output_type": "execute_result"
    }
   ],
   "source": [
    "df['name'] = df.index\n",
    "df = df.drop_duplicates(subset='name')\n",
    "df.tail()"
   ]
  },
  {
   "cell_type": "markdown",
   "metadata": {},
   "source": [
    "## Save to file and write to latex"
   ]
  },
  {
   "cell_type": "code",
   "execution_count": 91,
   "metadata": {
    "collapsed": false
   },
   "outputs": [],
   "source": [
    "df_compact = df.drop('method', 1)"
   ]
  },
  {
   "cell_type": "code",
   "execution_count": 92,
   "metadata": {
    "collapsed": false
   },
   "outputs": [],
   "source": [
    "df_compact.to_csv('method_properties.csv')"
   ]
  },
  {
   "cell_type": "code",
   "execution_count": 93,
   "metadata": {
    "collapsed": false
   },
   "outputs": [],
   "source": [
    "df.to_csv('method_props.csv')"
   ]
  },
  {
   "cell_type": "code",
   "execution_count": 94,
   "metadata": {
    "collapsed": false
   },
   "outputs": [
    {
     "data": {
      "text/html": [
       "<div style=\"max-height:1000px;max-width:1500px;overflow:auto;\">\n",
       "<table border=\"1\" class=\"dataframe\">\n",
       "  <thead>\n",
       "    <tr style=\"text-align: right;\">\n",
       "      <th></th>\n",
       "      <th>1/A bound</th>\n",
       "      <th>Iterated</th>\n",
       "      <th>LP</th>\n",
       "      <th>SSP Coeff</th>\n",
       "      <th>Single pass</th>\n",
       "      <th>Tihi bound</th>\n",
       "      <th>iter Column assumption</th>\n",
       "      <th>order</th>\n",
       "      <th>sp Column assumption</th>\n",
       "      <th>stages</th>\n",
       "      <th>type</th>\n",
       "      <th>name</th>\n",
       "    </tr>\n",
       "  </thead>\n",
       "  <tbody>\n",
       "    <tr>\n",
       "      <th>BE</th>\n",
       "      <td>   1.00000000000000</td>\n",
       "      <td>    50.00999</td>\n",
       "      <td>                                               NaN</td>\n",
       "      <td>       inf</td>\n",
       "      <td>     50.00999</td>\n",
       "      <td>        1</td>\n",
       "      <td>  True</td>\n",
       "      <td> 1</td>\n",
       "      <td>  True</td>\n",
       "      <td>  1</td>\n",
       "      <td> implicit</td>\n",
       "      <td>           BE</td>\n",
       "    </tr>\n",
       "    <tr>\n",
       "      <th>SSP75</th>\n",
       "      <td>   1.79244055420630</td>\n",
       "      <td>    1.396016</td>\n",
       "      <td> (1.39601635844, [1.00000000000000, 0.0, 0.0, 0...</td>\n",
       "      <td>         0</td>\n",
       "      <td>     1.178508</td>\n",
       "      <td> 4.789389</td>\n",
       "      <td> False</td>\n",
       "      <td> 5</td>\n",
       "      <td>  True</td>\n",
       "      <td>  7</td>\n",
       "      <td> explicit</td>\n",
       "      <td>        SSP75</td>\n",
       "    </tr>\n",
       "    <tr>\n",
       "      <th>Lambert65</th>\n",
       "      <td>  0.583333333333333</td>\n",
       "      <td>   0.2378329</td>\n",
       "      <td> (0.237833002627, [1.00000000000000, 0.0, 0.0, ...</td>\n",
       "      <td>         0</td>\n",
       "      <td> 7.756481e-05</td>\n",
       "      <td> 5.477226</td>\n",
       "      <td> False</td>\n",
       "      <td> 2</td>\n",
       "      <td> False</td>\n",
       "      <td>  6</td>\n",
       "      <td> explicit</td>\n",
       "      <td>    Lambert65</td>\n",
       "    </tr>\n",
       "    <tr>\n",
       "      <th>Fehlberg45</th>\n",
       "      <td>  0.125000000000000</td>\n",
       "      <td>  0.05785941</td>\n",
       "      <td> (0.0578594219191, [1.00000000000000, 0.0, 0.0,...</td>\n",
       "      <td>         0</td>\n",
       "      <td> 1.507554e-07</td>\n",
       "      <td> 3.727919</td>\n",
       "      <td> False</td>\n",
       "      <td> 5</td>\n",
       "      <td> False</td>\n",
       "      <td>  6</td>\n",
       "      <td> explicit</td>\n",
       "      <td>   Fehlberg45</td>\n",
       "    </tr>\n",
       "    <tr>\n",
       "      <th>FE</th>\n",
       "      <td>   1.00000000000000</td>\n",
       "      <td>           1</td>\n",
       "      <td> (1.00000003584, [1.00000000000000, 0.0], [[0, ...</td>\n",
       "      <td>         1</td>\n",
       "      <td>            1</td>\n",
       "      <td>        1</td>\n",
       "      <td>  True</td>\n",
       "      <td> 1</td>\n",
       "      <td>  True</td>\n",
       "      <td>  1</td>\n",
       "      <td> explicit</td>\n",
       "      <td>           FE</td>\n",
       "    </tr>\n",
       "    <tr>\n",
       "      <th>Merson43</th>\n",
       "      <td>  0.500000000000000</td>\n",
       "      <td>   0.2429566</td>\n",
       "      <td> (0.242956631012, [1.00000000000000, 0.0, 0.0, ...</td>\n",
       "      <td>         0</td>\n",
       "      <td> 6.324548e-07</td>\n",
       "      <td> 3.309751</td>\n",
       "      <td> False</td>\n",
       "      <td> 4</td>\n",
       "      <td> False</td>\n",
       "      <td>  5</td>\n",
       "      <td> explicit</td>\n",
       "      <td>     Merson43</td>\n",
       "    </tr>\n",
       "    <tr>\n",
       "      <th>SSP33</th>\n",
       "      <td>   1.00000000000000</td>\n",
       "      <td>           1</td>\n",
       "      <td> (1.00000005884, [1.00000000000000, 0.0, 0.0, 0...</td>\n",
       "      <td>         1</td>\n",
       "      <td>            1</td>\n",
       "      <td> 1.817121</td>\n",
       "      <td>  True</td>\n",
       "      <td> 3</td>\n",
       "      <td>  True</td>\n",
       "      <td>  3</td>\n",
       "      <td> explicit</td>\n",
       "      <td>        SSP33</td>\n",
       "    </tr>\n",
       "    <tr>\n",
       "      <th>MTE22</th>\n",
       "      <td>   1.33333333333333</td>\n",
       "      <td>           1</td>\n",
       "      <td> (1.00000005178, [1.00000000000000, 0.0, 0.0], ...</td>\n",
       "      <td>       0.5</td>\n",
       "      <td>            1</td>\n",
       "      <td> 1.414214</td>\n",
       "      <td>  True</td>\n",
       "      <td> 2</td>\n",
       "      <td>  True</td>\n",
       "      <td>  2</td>\n",
       "      <td> explicit</td>\n",
       "      <td>        MTE22</td>\n",
       "    </tr>\n",
       "    <tr>\n",
       "      <th>SSP95</th>\n",
       "      <td>   3.19809961201033</td>\n",
       "      <td>    2.738403</td>\n",
       "      <td> (2.73840429164, [1.00000000000000, 0.0, 0.0, 0...</td>\n",
       "      <td>         0</td>\n",
       "      <td>     2.695788</td>\n",
       "      <td> 6.853468</td>\n",
       "      <td> False</td>\n",
       "      <td> 5</td>\n",
       "      <td> False</td>\n",
       "      <td>  9</td>\n",
       "      <td> explicit</td>\n",
       "      <td>        SSP95</td>\n",
       "    </tr>\n",
       "    <tr>\n",
       "      <th>RK44</th>\n",
       "      <td>   1.00000000000000</td>\n",
       "      <td>   0.6850161</td>\n",
       "      <td> (0.685016119681, [1.00000000000000, 0.0, 0.0, ...</td>\n",
       "      <td>         0</td>\n",
       "      <td>    0.6850161</td>\n",
       "      <td> 2.213364</td>\n",
       "      <td> False</td>\n",
       "      <td> 4</td>\n",
       "      <td> False</td>\n",
       "      <td>  4</td>\n",
       "      <td> explicit</td>\n",
       "      <td>         RK44</td>\n",
       "    </tr>\n",
       "    <tr>\n",
       "      <th>SSP22star</th>\n",
       "      <td>   1.21525043702143</td>\n",
       "      <td>     1.21525</td>\n",
       "      <td> (1.21525046825, [1.00000000000000, 0.0, 0.0], ...</td>\n",
       "      <td> 0.7847496</td>\n",
       "      <td>      1.21525</td>\n",
       "      <td> 1.414214</td>\n",
       "      <td>  True</td>\n",
       "      <td> 2</td>\n",
       "      <td>  True</td>\n",
       "      <td>  2</td>\n",
       "      <td> explicit</td>\n",
       "      <td>    SSP22star</td>\n",
       "    </tr>\n",
       "    <tr>\n",
       "      <th>RadauIIA3</th>\n",
       "      <td>   1.95127347703922</td>\n",
       "      <td>  0.01479683</td>\n",
       "      <td>                                               NaN</td>\n",
       "      <td>         0</td>\n",
       "      <td>            0</td>\n",
       "      <td>        0</td>\n",
       "      <td> False</td>\n",
       "      <td> 5</td>\n",
       "      <td>  True</td>\n",
       "      <td>  3</td>\n",
       "      <td> implicit</td>\n",
       "      <td>    RadauIIA3</td>\n",
       "    </tr>\n",
       "    <tr>\n",
       "      <th>RadauIIA2</th>\n",
       "      <td>   1.33333333333333</td>\n",
       "      <td>  0.01840363</td>\n",
       "      <td>                                               NaN</td>\n",
       "      <td>         0</td>\n",
       "      <td>            0</td>\n",
       "      <td>        0</td>\n",
       "      <td> False</td>\n",
       "      <td> 3</td>\n",
       "      <td>  True</td>\n",
       "      <td>  2</td>\n",
       "      <td> implicit</td>\n",
       "      <td>    RadauIIA2</td>\n",
       "    </tr>\n",
       "    <tr>\n",
       "      <th>BS5</th>\n",
       "      <td>  0.859289946229421</td>\n",
       "      <td>   0.3132545</td>\n",
       "      <td> (0.313254572241, [1.00000000000000, 0.0, 0.0, ...</td>\n",
       "      <td>         0</td>\n",
       "      <td>    0.3132545</td>\n",
       "      <td> 5.827387</td>\n",
       "      <td> False</td>\n",
       "      <td> 5</td>\n",
       "      <td> False</td>\n",
       "      <td>  8</td>\n",
       "      <td> explicit</td>\n",
       "      <td>          BS5</td>\n",
       "    </tr>\n",
       "    <tr>\n",
       "      <th>Heun33</th>\n",
       "      <td>   1.33333333333333</td>\n",
       "      <td>   0.7765379</td>\n",
       "      <td> (0.77653798689, [1.00000000000000, 0.0, 0.0, 0...</td>\n",
       "      <td>         0</td>\n",
       "      <td>    0.7765379</td>\n",
       "      <td> 1.817121</td>\n",
       "      <td> False</td>\n",
       "      <td> 3</td>\n",
       "      <td> False</td>\n",
       "      <td>  3</td>\n",
       "      <td> explicit</td>\n",
       "      <td>       Heun33</td>\n",
       "    </tr>\n",
       "    <tr>\n",
       "      <th>SSP22</th>\n",
       "      <td>   1.00000000000000</td>\n",
       "      <td>           1</td>\n",
       "      <td> (1.00000005171, [1.00000000000000, 0.0, 0.0], ...</td>\n",
       "      <td>         1</td>\n",
       "      <td>            1</td>\n",
       "      <td> 1.414214</td>\n",
       "      <td>  True</td>\n",
       "      <td> 2</td>\n",
       "      <td>  True</td>\n",
       "      <td>  2</td>\n",
       "      <td> explicit</td>\n",
       "      <td>        SSP22</td>\n",
       "    </tr>\n",
       "    <tr>\n",
       "      <th>DP5</th>\n",
       "      <td> 0.0862381703470032</td>\n",
       "      <td>   0.0407681</td>\n",
       "      <td> (0.0407681145685, [1.00000000000000, 0.0, 0.0,...</td>\n",
       "      <td>         0</td>\n",
       "      <td> 1.156519e-07</td>\n",
       "      <td> 4.789389</td>\n",
       "      <td> False</td>\n",
       "      <td> 5</td>\n",
       "      <td> False</td>\n",
       "      <td>  7</td>\n",
       "      <td> explicit</td>\n",
       "      <td>          DP5</td>\n",
       "    </tr>\n",
       "    <tr>\n",
       "      <th>LobattoIIIC4</th>\n",
       "      <td>   2.33895552103387</td>\n",
       "      <td>  0.01067733</td>\n",
       "      <td>                                               NaN</td>\n",
       "      <td>         0</td>\n",
       "      <td>            0</td>\n",
       "      <td>        0</td>\n",
       "      <td> False</td>\n",
       "      <td> 6</td>\n",
       "      <td>  True</td>\n",
       "      <td>  4</td>\n",
       "      <td> implicit</td>\n",
       "      <td> LobattoIIIC4</td>\n",
       "    </tr>\n",
       "    <tr>\n",
       "      <th>NSSP33</th>\n",
       "      <td>  0.857142857142857</td>\n",
       "      <td>    0.558422</td>\n",
       "      <td> (0.558422047249, [1.00000000000000, 0.0, 0.0, ...</td>\n",
       "      <td>         0</td>\n",
       "      <td>     0.558422</td>\n",
       "      <td> 1.817121</td>\n",
       "      <td> False</td>\n",
       "      <td> 3</td>\n",
       "      <td> False</td>\n",
       "      <td>  3</td>\n",
       "      <td> explicit</td>\n",
       "      <td>       NSSP33</td>\n",
       "    </tr>\n",
       "    <tr>\n",
       "      <th>NSSP32</th>\n",
       "      <td>   1.00000000000000</td>\n",
       "      <td>   0.7765379</td>\n",
       "      <td> (0.776538021783, [1.00000000000000, 0.0, 0.0, ...</td>\n",
       "      <td>         0</td>\n",
       "      <td>    0.7765379</td>\n",
       "      <td>  2.44949</td>\n",
       "      <td> False</td>\n",
       "      <td> 2</td>\n",
       "      <td> False</td>\n",
       "      <td>  3</td>\n",
       "      <td> explicit</td>\n",
       "      <td>       NSSP32</td>\n",
       "    </tr>\n",
       "    <tr>\n",
       "      <th>SSP85</th>\n",
       "      <td>   1.91911783368484</td>\n",
       "      <td>    1.875685</td>\n",
       "      <td> (1.87568538486, [1.00000000000000, 0.0, 0.0, 0...</td>\n",
       "      <td>         0</td>\n",
       "      <td>     1.875685</td>\n",
       "      <td> 5.827387</td>\n",
       "      <td>  True</td>\n",
       "      <td> 5</td>\n",
       "      <td>  True</td>\n",
       "      <td>  8</td>\n",
       "      <td> explicit</td>\n",
       "      <td>        SSP85</td>\n",
       "    </tr>\n",
       "    <tr>\n",
       "      <th>CMR6</th>\n",
       "      <td> 0.0597169881448335</td>\n",
       "      <td>  0.02151606</td>\n",
       "      <td> (0.0215160725773, [1.00000000000000, 0.0, 0.0,...</td>\n",
       "      <td>         0</td>\n",
       "      <td> 1.170519e-07</td>\n",
       "      <td> 6.265205</td>\n",
       "      <td> False</td>\n",
       "      <td> 6</td>\n",
       "      <td> False</td>\n",
       "      <td>  9</td>\n",
       "      <td> explicit</td>\n",
       "      <td>         CMR6</td>\n",
       "    </tr>\n",
       "    <tr>\n",
       "      <th>BuRK65</th>\n",
       "      <td>  0.583333333333333</td>\n",
       "      <td>   0.1875784</td>\n",
       "      <td> (0.187578480706, [1.00000000000000, 0.0, 0.0, ...</td>\n",
       "      <td>         0</td>\n",
       "      <td> 7.756481e-05</td>\n",
       "      <td> 3.727919</td>\n",
       "      <td> False</td>\n",
       "      <td> 5</td>\n",
       "      <td> False</td>\n",
       "      <td>  6</td>\n",
       "      <td> explicit</td>\n",
       "      <td>       BuRK65</td>\n",
       "    </tr>\n",
       "    <tr>\n",
       "      <th>DP8</th>\n",
       "      <td> 0.0599786164262660</td>\n",
       "      <td>  0.01336717</td>\n",
       "      <td> (0.0133671807294, [1.00000000000000, 0.0, 0.0,...</td>\n",
       "      <td>         0</td>\n",
       "      <td> 6.303988e-08</td>\n",
       "      <td>  9.21271</td>\n",
       "      <td> False</td>\n",
       "      <td> 8</td>\n",
       "      <td> False</td>\n",
       "      <td> 13</td>\n",
       "      <td> explicit</td>\n",
       "      <td>          DP8</td>\n",
       "    </tr>\n",
       "    <tr>\n",
       "      <th>SSP104</th>\n",
       "      <td>   6.00000000000000</td>\n",
       "      <td>           6</td>\n",
       "      <td> (6.00000029398, [1.00000000000000, 0.0, 0.0, 0...</td>\n",
       "      <td>         6</td>\n",
       "      <td>            6</td>\n",
       "      <td> 8.425732</td>\n",
       "      <td> False</td>\n",
       "      <td> 4</td>\n",
       "      <td> False</td>\n",
       "      <td> 10</td>\n",
       "      <td> explicit</td>\n",
       "      <td>       SSP104</td>\n",
       "    </tr>\n",
       "    <tr>\n",
       "      <th>LobattoIIIA2</th>\n",
       "      <td>   2.00000000000000</td>\n",
       "      <td>    1.999999</td>\n",
       "      <td>                                               NaN</td>\n",
       "      <td>         2</td>\n",
       "      <td>     1.999999</td>\n",
       "      <td> 1.414214</td>\n",
       "      <td>  True</td>\n",
       "      <td> 2</td>\n",
       "      <td>  True</td>\n",
       "      <td>  2</td>\n",
       "      <td> implicit</td>\n",
       "      <td> LobattoIIIA2</td>\n",
       "    </tr>\n",
       "    <tr>\n",
       "      <th>GL2</th>\n",
       "      <td>   1.85640646055102</td>\n",
       "      <td>  0.02096715</td>\n",
       "      <td>                                               NaN</td>\n",
       "      <td>         0</td>\n",
       "      <td>            0</td>\n",
       "      <td>        0</td>\n",
       "      <td> False</td>\n",
       "      <td> 4</td>\n",
       "      <td>  True</td>\n",
       "      <td>  2</td>\n",
       "      <td> implicit</td>\n",
       "      <td>          GL2</td>\n",
       "    </tr>\n",
       "    <tr>\n",
       "      <th>GL3</th>\n",
       "      <td>   2.08150719251432</td>\n",
       "      <td>  0.02082407</td>\n",
       "      <td>                                               NaN</td>\n",
       "      <td>         0</td>\n",
       "      <td>            0</td>\n",
       "      <td>        0</td>\n",
       "      <td> False</td>\n",
       "      <td> 6</td>\n",
       "      <td>  True</td>\n",
       "      <td>  3</td>\n",
       "      <td> implicit</td>\n",
       "      <td>          GL3</td>\n",
       "    </tr>\n",
       "    <tr>\n",
       "      <th>LobattoIIIC3</th>\n",
       "      <td>   1.50000000000000</td>\n",
       "      <td> 0.008149585</td>\n",
       "      <td>                                               NaN</td>\n",
       "      <td>         0</td>\n",
       "      <td>            0</td>\n",
       "      <td>        0</td>\n",
       "      <td> False</td>\n",
       "      <td> 4</td>\n",
       "      <td>  True</td>\n",
       "      <td>  3</td>\n",
       "      <td> implicit</td>\n",
       "      <td> LobattoIIIC3</td>\n",
       "    </tr>\n",
       "    <tr>\n",
       "      <th>LobattoIIIC2</th>\n",
       "      <td>   2.00000000000000</td>\n",
       "      <td> 0.007654767</td>\n",
       "      <td>                                               NaN</td>\n",
       "      <td>         0</td>\n",
       "      <td>            0</td>\n",
       "      <td> 1.414214</td>\n",
       "      <td> False</td>\n",
       "      <td> 2</td>\n",
       "      <td>  True</td>\n",
       "      <td>  2</td>\n",
       "      <td> implicit</td>\n",
       "      <td> LobattoIIIC2</td>\n",
       "    </tr>\n",
       "    <tr>\n",
       "      <th>Mid22</th>\n",
       "      <td>   1.00000000000000</td>\n",
       "      <td>   0.7320508</td>\n",
       "      <td> (0.732050847971, [1.00000000000000, 0.0, 0.0],...</td>\n",
       "      <td>         0</td>\n",
       "      <td>    0.7320508</td>\n",
       "      <td> 1.414214</td>\n",
       "      <td>  True</td>\n",
       "      <td> 2</td>\n",
       "      <td>  True</td>\n",
       "      <td>  2</td>\n",
       "      <td> explicit</td>\n",
       "      <td>        Mid22</td>\n",
       "    </tr>\n",
       "    <tr>\n",
       "      <th>sspi2</th>\n",
       "      <td>   1.00000000000000</td>\n",
       "      <td>    1.999999</td>\n",
       "      <td>                                               NaN</td>\n",
       "      <td>         2</td>\n",
       "      <td>     1.999999</td>\n",
       "      <td>        0</td>\n",
       "      <td>  True</td>\n",
       "      <td> 2</td>\n",
       "      <td>  True</td>\n",
       "      <td>  1</td>\n",
       "      <td> implicit</td>\n",
       "      <td>        sspi2</td>\n",
       "    </tr>\n",
       "    <tr>\n",
       "      <th>sspi3</th>\n",
       "      <td>   3.87298334620742</td>\n",
       "      <td>    6.872979</td>\n",
       "      <td>                                               NaN</td>\n",
       "      <td>  6.872983</td>\n",
       "      <td>     6.872979</td>\n",
       "      <td> 2.884499</td>\n",
       "      <td>  True</td>\n",
       "      <td> 3</td>\n",
       "      <td>  True</td>\n",
       "      <td>  4</td>\n",
       "      <td> implicit</td>\n",
       "      <td>        sspi3</td>\n",
       "    </tr>\n",
       "  </tbody>\n",
       "</table>\n",
       "</div>"
      ],
      "text/plain": [
       "                       1/A bound     Iterated  \\\n",
       "BE              1.00000000000000     50.00999   \n",
       "SSP75           1.79244055420630     1.396016   \n",
       "Lambert65      0.583333333333333    0.2378329   \n",
       "Fehlberg45     0.125000000000000   0.05785941   \n",
       "FE              1.00000000000000            1   \n",
       "Merson43       0.500000000000000    0.2429566   \n",
       "SSP33           1.00000000000000            1   \n",
       "MTE22           1.33333333333333            1   \n",
       "SSP95           3.19809961201033     2.738403   \n",
       "RK44            1.00000000000000    0.6850161   \n",
       "SSP22star       1.21525043702143      1.21525   \n",
       "RadauIIA3       1.95127347703922   0.01479683   \n",
       "RadauIIA2       1.33333333333333   0.01840363   \n",
       "BS5            0.859289946229421    0.3132545   \n",
       "Heun33          1.33333333333333    0.7765379   \n",
       "SSP22           1.00000000000000            1   \n",
       "DP5           0.0862381703470032    0.0407681   \n",
       "LobattoIIIC4    2.33895552103387   0.01067733   \n",
       "NSSP33         0.857142857142857     0.558422   \n",
       "NSSP32          1.00000000000000    0.7765379   \n",
       "SSP85           1.91911783368484     1.875685   \n",
       "CMR6          0.0597169881448335   0.02151606   \n",
       "BuRK65         0.583333333333333    0.1875784   \n",
       "DP8           0.0599786164262660   0.01336717   \n",
       "SSP104          6.00000000000000            6   \n",
       "LobattoIIIA2    2.00000000000000     1.999999   \n",
       "GL2             1.85640646055102   0.02096715   \n",
       "GL3             2.08150719251432   0.02082407   \n",
       "LobattoIIIC3    1.50000000000000  0.008149585   \n",
       "LobattoIIIC2    2.00000000000000  0.007654767   \n",
       "Mid22           1.00000000000000    0.7320508   \n",
       "sspi2           1.00000000000000     1.999999   \n",
       "sspi3           3.87298334620742     6.872979   \n",
       "\n",
       "                                                             LP  SSP Coeff  \\\n",
       "BE                                                          NaN        inf   \n",
       "SSP75         (1.39601635844, [1.00000000000000, 0.0, 0.0, 0...          0   \n",
       "Lambert65     (0.237833002627, [1.00000000000000, 0.0, 0.0, ...          0   \n",
       "Fehlberg45    (0.0578594219191, [1.00000000000000, 0.0, 0.0,...          0   \n",
       "FE            (1.00000003584, [1.00000000000000, 0.0], [[0, ...          1   \n",
       "Merson43      (0.242956631012, [1.00000000000000, 0.0, 0.0, ...          0   \n",
       "SSP33         (1.00000005884, [1.00000000000000, 0.0, 0.0, 0...          1   \n",
       "MTE22         (1.00000005178, [1.00000000000000, 0.0, 0.0], ...        0.5   \n",
       "SSP95         (2.73840429164, [1.00000000000000, 0.0, 0.0, 0...          0   \n",
       "RK44          (0.685016119681, [1.00000000000000, 0.0, 0.0, ...          0   \n",
       "SSP22star     (1.21525046825, [1.00000000000000, 0.0, 0.0], ...  0.7847496   \n",
       "RadauIIA3                                                   NaN          0   \n",
       "RadauIIA2                                                   NaN          0   \n",
       "BS5           (0.313254572241, [1.00000000000000, 0.0, 0.0, ...          0   \n",
       "Heun33        (0.77653798689, [1.00000000000000, 0.0, 0.0, 0...          0   \n",
       "SSP22         (1.00000005171, [1.00000000000000, 0.0, 0.0], ...          1   \n",
       "DP5           (0.0407681145685, [1.00000000000000, 0.0, 0.0,...          0   \n",
       "LobattoIIIC4                                                NaN          0   \n",
       "NSSP33        (0.558422047249, [1.00000000000000, 0.0, 0.0, ...          0   \n",
       "NSSP32        (0.776538021783, [1.00000000000000, 0.0, 0.0, ...          0   \n",
       "SSP85         (1.87568538486, [1.00000000000000, 0.0, 0.0, 0...          0   \n",
       "CMR6          (0.0215160725773, [1.00000000000000, 0.0, 0.0,...          0   \n",
       "BuRK65        (0.187578480706, [1.00000000000000, 0.0, 0.0, ...          0   \n",
       "DP8           (0.0133671807294, [1.00000000000000, 0.0, 0.0,...          0   \n",
       "SSP104        (6.00000029398, [1.00000000000000, 0.0, 0.0, 0...          6   \n",
       "LobattoIIIA2                                                NaN          2   \n",
       "GL2                                                         NaN          0   \n",
       "GL3                                                         NaN          0   \n",
       "LobattoIIIC3                                                NaN          0   \n",
       "LobattoIIIC2                                                NaN          0   \n",
       "Mid22         (0.732050847971, [1.00000000000000, 0.0, 0.0],...          0   \n",
       "sspi2                                                       NaN          2   \n",
       "sspi3                                                       NaN   6.872983   \n",
       "\n",
       "               Single pass Tihi bound iter Column assumption  order  \\\n",
       "BE                50.00999          1                   True      1   \n",
       "SSP75             1.178508   4.789389                  False      5   \n",
       "Lambert65     7.756481e-05   5.477226                  False      2   \n",
       "Fehlberg45    1.507554e-07   3.727919                  False      5   \n",
       "FE                       1          1                   True      1   \n",
       "Merson43      6.324548e-07   3.309751                  False      4   \n",
       "SSP33                    1   1.817121                   True      3   \n",
       "MTE22                    1   1.414214                   True      2   \n",
       "SSP95             2.695788   6.853468                  False      5   \n",
       "RK44             0.6850161   2.213364                  False      4   \n",
       "SSP22star          1.21525   1.414214                   True      2   \n",
       "RadauIIA3                0          0                  False      5   \n",
       "RadauIIA2                0          0                  False      3   \n",
       "BS5              0.3132545   5.827387                  False      5   \n",
       "Heun33           0.7765379   1.817121                  False      3   \n",
       "SSP22                    1   1.414214                   True      2   \n",
       "DP5           1.156519e-07   4.789389                  False      5   \n",
       "LobattoIIIC4             0          0                  False      6   \n",
       "NSSP33            0.558422   1.817121                  False      3   \n",
       "NSSP32           0.7765379    2.44949                  False      2   \n",
       "SSP85             1.875685   5.827387                   True      5   \n",
       "CMR6          1.170519e-07   6.265205                  False      6   \n",
       "BuRK65        7.756481e-05   3.727919                  False      5   \n",
       "DP8           6.303988e-08    9.21271                  False      8   \n",
       "SSP104                   6   8.425732                  False      4   \n",
       "LobattoIIIA2      1.999999   1.414214                   True      2   \n",
       "GL2                      0          0                  False      4   \n",
       "GL3                      0          0                  False      6   \n",
       "LobattoIIIC3             0          0                  False      4   \n",
       "LobattoIIIC2             0   1.414214                  False      2   \n",
       "Mid22            0.7320508   1.414214                   True      2   \n",
       "sspi2             1.999999          0                   True      2   \n",
       "sspi3             6.872979   2.884499                   True      3   \n",
       "\n",
       "             sp Column assumption  stages      type          name  \n",
       "BE                           True       1  implicit            BE  \n",
       "SSP75                        True       7  explicit         SSP75  \n",
       "Lambert65                   False       6  explicit     Lambert65  \n",
       "Fehlberg45                  False       6  explicit    Fehlberg45  \n",
       "FE                           True       1  explicit            FE  \n",
       "Merson43                    False       5  explicit      Merson43  \n",
       "SSP33                        True       3  explicit         SSP33  \n",
       "MTE22                        True       2  explicit         MTE22  \n",
       "SSP95                       False       9  explicit         SSP95  \n",
       "RK44                        False       4  explicit          RK44  \n",
       "SSP22star                    True       2  explicit     SSP22star  \n",
       "RadauIIA3                    True       3  implicit     RadauIIA3  \n",
       "RadauIIA2                    True       2  implicit     RadauIIA2  \n",
       "BS5                         False       8  explicit           BS5  \n",
       "Heun33                      False       3  explicit        Heun33  \n",
       "SSP22                        True       2  explicit         SSP22  \n",
       "DP5                         False       7  explicit           DP5  \n",
       "LobattoIIIC4                 True       4  implicit  LobattoIIIC4  \n",
       "NSSP33                      False       3  explicit        NSSP33  \n",
       "NSSP32                      False       3  explicit        NSSP32  \n",
       "SSP85                        True       8  explicit         SSP85  \n",
       "CMR6                        False       9  explicit          CMR6  \n",
       "BuRK65                      False       6  explicit        BuRK65  \n",
       "DP8                         False      13  explicit           DP8  \n",
       "SSP104                      False      10  explicit        SSP104  \n",
       "LobattoIIIA2                 True       2  implicit  LobattoIIIA2  \n",
       "GL2                          True       2  implicit           GL2  \n",
       "GL3                          True       3  implicit           GL3  \n",
       "LobattoIIIC3                 True       3  implicit  LobattoIIIC3  \n",
       "LobattoIIIC2                 True       2  implicit  LobattoIIIC2  \n",
       "Mid22                        True       2  explicit         Mid22  \n",
       "sspi2                        True       1  implicit         sspi2  \n",
       "sspi3                        True       4  implicit         sspi3  "
      ]
     },
     "execution_count": 94,
     "metadata": {},
     "output_type": "execute_result"
    }
   ],
   "source": [
    "df_compact"
   ]
  },
  {
   "cell_type": "code",
   "execution_count": 95,
   "metadata": {
    "collapsed": false
   },
   "outputs": [
    {
     "ename": "OverflowError",
     "evalue": "Maximum recursion level reached",
     "output_type": "error",
     "traceback": [
      "\u001b[0;31m---------------------------------------------------------------------------\u001b[0m\n\u001b[0;31mOverflowError\u001b[0m                             Traceback (most recent call last)",
      "\u001b[0;32m<ipython-input-95-af3a26b569d4>\u001b[0m in \u001b[0;36m<module>\u001b[0;34m()\u001b[0m\n\u001b[0;32m----> 1\u001b[0;31m \u001b[0mdf_compact\u001b[0m\u001b[0;34m.\u001b[0m\u001b[0mto_json\u001b[0m\u001b[0;34m(\u001b[0m\u001b[0;34m'test.json'\u001b[0m\u001b[0;34m)\u001b[0m\u001b[0;34m\u001b[0m\u001b[0m\n\u001b[0m",
      "\u001b[0;32m/Users/ketch/anaconda/lib/python2.7/site-packages/pandas/core/generic.pyc\u001b[0m in \u001b[0;36mto_json\u001b[0;34m(self, path_or_buf, orient, date_format, double_precision, force_ascii, date_unit, default_handler)\u001b[0m\n\u001b[1;32m    857\u001b[0m             \u001b[0mforce_ascii\u001b[0m\u001b[0;34m=\u001b[0m\u001b[0mforce_ascii\u001b[0m\u001b[0;34m,\u001b[0m\u001b[0;34m\u001b[0m\u001b[0m\n\u001b[1;32m    858\u001b[0m             \u001b[0mdate_unit\u001b[0m\u001b[0;34m=\u001b[0m\u001b[0mdate_unit\u001b[0m\u001b[0;34m,\u001b[0m\u001b[0;34m\u001b[0m\u001b[0m\n\u001b[0;32m--> 859\u001b[0;31m             default_handler=default_handler)\n\u001b[0m\u001b[1;32m    860\u001b[0m \u001b[0;34m\u001b[0m\u001b[0m\n\u001b[1;32m    861\u001b[0m     \u001b[0;32mdef\u001b[0m \u001b[0mto_hdf\u001b[0m\u001b[0;34m(\u001b[0m\u001b[0mself\u001b[0m\u001b[0;34m,\u001b[0m \u001b[0mpath_or_buf\u001b[0m\u001b[0;34m,\u001b[0m \u001b[0mkey\u001b[0m\u001b[0;34m,\u001b[0m \u001b[0;34m**\u001b[0m\u001b[0mkwargs\u001b[0m\u001b[0;34m)\u001b[0m\u001b[0;34m:\u001b[0m\u001b[0;34m\u001b[0m\u001b[0m\n",
      "\u001b[0;32m/Users/ketch/anaconda/lib/python2.7/site-packages/pandas/io/json.pyc\u001b[0m in \u001b[0;36mto_json\u001b[0;34m(path_or_buf, obj, orient, date_format, double_precision, force_ascii, date_unit, default_handler)\u001b[0m\n\u001b[1;32m     32\u001b[0m             \u001b[0mobj\u001b[0m\u001b[0;34m,\u001b[0m \u001b[0morient\u001b[0m\u001b[0;34m=\u001b[0m\u001b[0morient\u001b[0m\u001b[0;34m,\u001b[0m \u001b[0mdate_format\u001b[0m\u001b[0;34m=\u001b[0m\u001b[0mdate_format\u001b[0m\u001b[0;34m,\u001b[0m\u001b[0;34m\u001b[0m\u001b[0m\n\u001b[1;32m     33\u001b[0m             \u001b[0mdouble_precision\u001b[0m\u001b[0;34m=\u001b[0m\u001b[0mdouble_precision\u001b[0m\u001b[0;34m,\u001b[0m \u001b[0mensure_ascii\u001b[0m\u001b[0;34m=\u001b[0m\u001b[0mforce_ascii\u001b[0m\u001b[0;34m,\u001b[0m\u001b[0;34m\u001b[0m\u001b[0m\n\u001b[0;32m---> 34\u001b[0;31m             date_unit=date_unit, default_handler=default_handler).write()\n\u001b[0m\u001b[1;32m     35\u001b[0m     \u001b[0;32melse\u001b[0m\u001b[0;34m:\u001b[0m\u001b[0;34m\u001b[0m\u001b[0m\n\u001b[1;32m     36\u001b[0m         \u001b[0;32mraise\u001b[0m \u001b[0mNotImplementedError\u001b[0m\u001b[0;34m\u001b[0m\u001b[0m\n",
      "\u001b[0;32m/Users/ketch/anaconda/lib/python2.7/site-packages/pandas/io/json.pyc\u001b[0m in \u001b[0;36mwrite\u001b[0;34m(self)\u001b[0m\n\u001b[1;32m     75\u001b[0m             \u001b[0mdate_unit\u001b[0m\u001b[0;34m=\u001b[0m\u001b[0mself\u001b[0m\u001b[0;34m.\u001b[0m\u001b[0mdate_unit\u001b[0m\u001b[0;34m,\u001b[0m\u001b[0;34m\u001b[0m\u001b[0m\n\u001b[1;32m     76\u001b[0m             \u001b[0miso_dates\u001b[0m\u001b[0;34m=\u001b[0m\u001b[0mself\u001b[0m\u001b[0;34m.\u001b[0m\u001b[0mdate_format\u001b[0m \u001b[0;34m==\u001b[0m \u001b[0;34m'iso'\u001b[0m\u001b[0;34m,\u001b[0m\u001b[0;34m\u001b[0m\u001b[0m\n\u001b[0;32m---> 77\u001b[0;31m             default_handler=self.default_handler)\n\u001b[0m\u001b[1;32m     78\u001b[0m \u001b[0;34m\u001b[0m\u001b[0m\n\u001b[1;32m     79\u001b[0m \u001b[0;34m\u001b[0m\u001b[0m\n",
      "\u001b[0;31mOverflowError\u001b[0m: Maximum recursion level reached"
     ]
    }
   ],
   "source": [
    "df_compact.to_json('test.json')"
   ]
  },
  {
   "cell_type": "code",
   "execution_count": 96,
   "metadata": {
    "collapsed": false
   },
   "outputs": [
    {
     "name": "stdout",
     "output_type": "stream",
     "text": [
      "\\begin{tabular}{lllllllrrl}\n",
      "\\toprule\n",
      "{} &           1/A bound &    Iterated &                                                 LP &  SSP Coeff & Tihi bound & iter Column assumption &  order &  stages &        name \\\\\n",
      "\\midrule\n",
      "SSP75      &    1.79244055420630 &    1.396016 &  (1.39601635844, [1.00000000000000, 0.0, 0.0, 0... &          0 &   4.789389 &                  False &      5 &       7 &       SSP75 \\\\\n",
      "Lambert65  &   0.583333333333333 &   0.2378329 &  (0.237833002627, [1.00000000000000, 0.0, 0.0, ... &          0 &   5.477226 &                  False &      2 &       6 &   Lambert65 \\\\\n",
      "Fehlberg45 &   0.125000000000000 &  0.05785941 &  (0.0578594219191, [1.00000000000000, 0.0, 0.0,... &          0 &   3.727919 &                  False &      5 &       6 &  Fehlberg45 \\\\\n",
      "FE         &    1.00000000000000 &           1 &  (1.00000003584, [1.00000000000000, 0.0], [[0, ... &          1 &          1 &                   True &      1 &       1 &          FE \\\\\n",
      "Merson43   &   0.500000000000000 &   0.2429566 &  (0.242956631012, [1.00000000000000, 0.0, 0.0, ... &          0 &   3.309751 &                  False &      4 &       5 &    Merson43 \\\\\n",
      "SSP33      &    1.00000000000000 &           1 &  (1.00000005884, [1.00000000000000, 0.0, 0.0, 0... &          1 &   1.817121 &                   True &      3 &       3 &       SSP33 \\\\\n",
      "MTE22      &    1.33333333333333 &           1 &  (1.00000005178, [1.00000000000000, 0.0, 0.0], ... &        0.5 &   1.414214 &                   True &      2 &       2 &       MTE22 \\\\\n",
      "SSP95      &    3.19809961201033 &    2.738403 &  (2.73840429164, [1.00000000000000, 0.0, 0.0, 0... &          0 &   6.853468 &                  False &      5 &       9 &       SSP95 \\\\\n",
      "RK44       &    1.00000000000000 &   0.6850161 &  (0.685016119681, [1.00000000000000, 0.0, 0.0, ... &          0 &   2.213364 &                  False &      4 &       4 &        RK44 \\\\\n",
      "SSP22star  &    1.21525043702143 &     1.21525 &  (1.21525046825, [1.00000000000000, 0.0, 0.0], ... &  0.7847496 &   1.414214 &                   True &      2 &       2 &   SSP22star \\\\\n",
      "BS5        &   0.859289946229421 &   0.3132545 &  (0.313254572241, [1.00000000000000, 0.0, 0.0, ... &          0 &   5.827387 &                  False &      5 &       8 &         BS5 \\\\\n",
      "Heun33     &    1.33333333333333 &   0.7765379 &  (0.77653798689, [1.00000000000000, 0.0, 0.0, 0... &          0 &   1.817121 &                  False &      3 &       3 &      Heun33 \\\\\n",
      "SSP22      &    1.00000000000000 &           1 &  (1.00000005171, [1.00000000000000, 0.0, 0.0], ... &          1 &   1.414214 &                   True &      2 &       2 &       SSP22 \\\\\n",
      "DP5        &  0.0862381703470032 &   0.0407681 &  (0.0407681145685, [1.00000000000000, 0.0, 0.0,... &          0 &   4.789389 &                  False &      5 &       7 &         DP5 \\\\\n",
      "NSSP33     &   0.857142857142857 &    0.558422 &  (0.558422047249, [1.00000000000000, 0.0, 0.0, ... &          0 &   1.817121 &                  False &      3 &       3 &      NSSP33 \\\\\n",
      "NSSP32     &    1.00000000000000 &   0.7765379 &  (0.776538021783, [1.00000000000000, 0.0, 0.0, ... &          0 &    2.44949 &                  False &      2 &       3 &      NSSP32 \\\\\n",
      "SSP85      &    1.91911783368484 &    1.875685 &  (1.87568538486, [1.00000000000000, 0.0, 0.0, 0... &          0 &   5.827387 &                   True &      5 &       8 &       SSP85 \\\\\n",
      "CMR6       &  0.0597169881448335 &  0.02151606 &  (0.0215160725773, [1.00000000000000, 0.0, 0.0,... &          0 &   6.265205 &                  False &      6 &       9 &        CMR6 \\\\\n",
      "BuRK65     &   0.583333333333333 &   0.1875784 &  (0.187578480706, [1.00000000000000, 0.0, 0.0, ... &          0 &   3.727919 &                  False &      5 &       6 &      BuRK65 \\\\\n",
      "DP8        &  0.0599786164262660 &  0.01336717 &  (0.0133671807294, [1.00000000000000, 0.0, 0.0,... &          0 &    9.21271 &                  False &      8 &      13 &         DP8 \\\\\n",
      "SSP104     &    6.00000000000000 &           6 &  (6.00000029398, [1.00000000000000, 0.0, 0.0, 0... &          6 &   8.425732 &                  False &      4 &      10 &      SSP104 \\\\\n",
      "Mid22      &    1.00000000000000 &   0.7320508 &  (0.732050847971, [1.00000000000000, 0.0, 0.0],... &          0 &   1.414214 &                   True &      2 &       2 &       Mid22 \\\\\n",
      "\\bottomrule\n",
      "\\end{tabular}\n",
      "\n"
     ]
    }
   ],
   "source": [
    "df_explicit = df[df['type']=='explicit']\n",
    "df_forpaper = df_explicit.drop('method', 1)\n",
    "df_forpaper = df_forpaper.drop('sp Column assumption', 1)\n",
    "df_forpaper = df_forpaper.drop('Single pass', 1)\n",
    "df_forpaper = df_forpaper.drop('type', 1)\n",
    "\n",
    "print df_forpaper.to_latex() #want to do something like float_format = '%10.3f' but it doesn't work"
   ]
  },
  {
   "cell_type": "code",
   "execution_count": 97,
   "metadata": {
    "collapsed": false
   },
   "outputs": [
    {
     "name": "stdout",
     "output_type": "stream",
     "text": [
      "\\begin{tabular}{llllrrl}\n",
      "\\toprule\n",
      "{} &     Iterated & SSP Coeff & iter Column assumption &  order &  stages &          name \\\\\n",
      "\\midrule\n",
      "BE           &     50.00999 &       inf &                   True &      1 &       1 &            BE \\\\\n",
      "RadauIIA3    &   0.01479683 &         0 &                  False &      5 &       3 &     RadauIIA3 \\\\\n",
      "RadauIIA2    &   0.01840363 &         0 &                  False &      3 &       2 &     RadauIIA2 \\\\\n",
      "LobattoIIIC4 &   0.01067733 &         0 &                  False &      6 &       4 &  LobattoIIIC4 \\\\\n",
      "LobattoIIIA2 &     1.999999 &         2 &                   True &      2 &       2 &  LobattoIIIA2 \\\\\n",
      "GL2          &   0.02096715 &         0 &                  False &      4 &       2 &           GL2 \\\\\n",
      "GL3          &   0.02082407 &         0 &                  False &      6 &       3 &           GL3 \\\\\n",
      "LobattoIIIC3 &  0.008149585 &         0 &                  False &      4 &       3 &  LobattoIIIC3 \\\\\n",
      "LobattoIIIC2 &  0.007654767 &         0 &                  False &      2 &       2 &  LobattoIIIC2 \\\\\n",
      "sspi2        &     1.999999 &         2 &                   True &      2 &       1 &         sspi2 \\\\\n",
      "sspi3        &     6.872979 &  6.872983 &                   True &      3 &       4 &         sspi3 \\\\\n",
      "\\bottomrule\n",
      "\\end{tabular}\n",
      "\n"
     ]
    }
   ],
   "source": [
    "df_implicit = df[df['type']=='implicit']\n",
    "df_forpaper = df_implicit.drop('method', 1)\n",
    "df_forpaper = df_forpaper.drop('sp Column assumption', 1)\n",
    "df_forpaper = df_forpaper.drop('Single pass', 1)\n",
    "df_forpaper = df_forpaper.drop('type', 1)\n",
    "df_forpaper = df_forpaper.drop('LP', 1)\n",
    "df_forpaper = df_forpaper.drop('1/A bound', 1)\n",
    "df_forpaper = df_forpaper.drop('Tihi bound', 1)\n",
    "\n",
    "print df_forpaper.to_latex() #want to do something like float_format = '%10.3f' but it doesn't work"
   ]
  },
  {
   "cell_type": "code",
   "execution_count": 70,
   "metadata": {
    "collapsed": false
   },
   "outputs": [],
   "source": [
    "df['stages'] = 0\n",
    "df['order'] = 0"
   ]
  },
  {
   "cell_type": "code",
   "execution_count": 72,
   "metadata": {
    "collapsed": false
   },
   "outputs": [],
   "source": [
    "for index, row in df.iterrows():\n",
    "    method = row['method']\n",
    "    df.loc[index,'stages'] = len(method)\n",
    "    df.loc[index,'order'] = method.p"
   ]
  },
  {
   "cell_type": "code",
   "execution_count": 73,
   "metadata": {
    "collapsed": false
   },
   "outputs": [
    {
     "data": {
      "text/html": [
       "<div style=\"max-height:1000px;max-width:1500px;overflow:auto;\">\n",
       "<table border=\"1\" class=\"dataframe\">\n",
       "  <thead>\n",
       "    <tr style=\"text-align: right;\">\n",
       "      <th></th>\n",
       "      <th>method</th>\n",
       "      <th>LP</th>\n",
       "      <th>Iterated</th>\n",
       "      <th>Single pass</th>\n",
       "      <th>SSP Coeff</th>\n",
       "      <th>1/A bound</th>\n",
       "      <th>Tihi bound</th>\n",
       "      <th>sp Column assumption</th>\n",
       "      <th>type</th>\n",
       "      <th>iter Column assumption</th>\n",
       "      <th>stages</th>\n",
       "      <th>order</th>\n",
       "    </tr>\n",
       "  </thead>\n",
       "  <tbody>\n",
       "    <tr>\n",
       "      <th>BE</th>\n",
       "      <td>         Implicit Euler\\n\\n 1 | 1\\n___|___\\n   | 1</td>\n",
       "      <td>                                               NaN</td>\n",
       "      <td>   50.00999</td>\n",
       "      <td>     50.00999</td>\n",
       "      <td> inf</td>\n",
       "      <td>  1.00000000000000</td>\n",
       "      <td>        1</td>\n",
       "      <td>  True</td>\n",
       "      <td> implicit</td>\n",
       "      <td>  True</td>\n",
       "      <td> 1</td>\n",
       "      <td> 1</td>\n",
       "    </tr>\n",
       "    <tr>\n",
       "      <th>SSP75</th>\n",
       "      <td> SSP75\\nFrom Ruuth-Spiteri paper\\n 0.000 |\\n 0....</td>\n",
       "      <td> (1.39601635844, [1.00000000000000, 0.0, 0.0, 0...</td>\n",
       "      <td>   1.396016</td>\n",
       "      <td>     1.178508</td>\n",
       "      <td>   0</td>\n",
       "      <td>  1.79244055420630</td>\n",
       "      <td> 4.789389</td>\n",
       "      <td>  True</td>\n",
       "      <td> explicit</td>\n",
       "      <td> False</td>\n",
       "      <td> 7</td>\n",
       "      <td> 5</td>\n",
       "    </tr>\n",
       "    <tr>\n",
       "      <th>Lambert65</th>\n",
       "      <td> Lambert65\\nFrom Shu-Osher paper\\n 0     |\\n 1/...</td>\n",
       "      <td> (0.237833002627, [1.00000000000000, 0.0, 0.0, ...</td>\n",
       "      <td>  0.2378329</td>\n",
       "      <td> 7.756481e-05</td>\n",
       "      <td>   0</td>\n",
       "      <td> 0.583333333333333</td>\n",
       "      <td> 5.477226</td>\n",
       "      <td> False</td>\n",
       "      <td> explicit</td>\n",
       "      <td> False</td>\n",
       "      <td> 6</td>\n",
       "      <td> 2</td>\n",
       "    </tr>\n",
       "    <tr>\n",
       "      <th>Fehlberg45</th>\n",
       "      <td> Fehlberg RK5(4)6\\n\\n 0           |\\n 1/4      ...</td>\n",
       "      <td> (0.0578594219191, [1.00000000000000, 0.0, 0.0,...</td>\n",
       "      <td> 0.05785941</td>\n",
       "      <td> 1.507554e-07</td>\n",
       "      <td>   0</td>\n",
       "      <td> 0.125000000000000</td>\n",
       "      <td> 3.727919</td>\n",
       "      <td> False</td>\n",
       "      <td> explicit</td>\n",
       "      <td> False</td>\n",
       "      <td> 6</td>\n",
       "      <td> 5</td>\n",
       "    </tr>\n",
       "    <tr>\n",
       "      <th>FE</th>\n",
       "      <td>            Forward Euler\\n\\n 0 |\\n___|___\\n   | 1</td>\n",
       "      <td> (1.00000003584, [1.00000000000000, 0.0], [[0, ...</td>\n",
       "      <td>          1</td>\n",
       "      <td>            1</td>\n",
       "      <td>   1</td>\n",
       "      <td>  1.00000000000000</td>\n",
       "      <td>        1</td>\n",
       "      <td>  True</td>\n",
       "      <td> explicit</td>\n",
       "      <td>  True</td>\n",
       "      <td> 1</td>\n",
       "      <td> 1</td>\n",
       "    </tr>\n",
       "  </tbody>\n",
       "</table>\n",
       "</div>"
      ],
      "text/plain": [
       "                                                       method  \\\n",
       "BE                  Implicit Euler\\n\\n 1 | 1\\n___|___\\n   | 1   \n",
       "SSP75       SSP75\\nFrom Ruuth-Spiteri paper\\n 0.000 |\\n 0....   \n",
       "Lambert65   Lambert65\\nFrom Shu-Osher paper\\n 0     |\\n 1/...   \n",
       "Fehlberg45  Fehlberg RK5(4)6\\n\\n 0           |\\n 1/4      ...   \n",
       "FE                     Forward Euler\\n\\n 0 |\\n___|___\\n   | 1   \n",
       "\n",
       "                                                           LP    Iterated  \\\n",
       "BE                                                        NaN    50.00999   \n",
       "SSP75       (1.39601635844, [1.00000000000000, 0.0, 0.0, 0...    1.396016   \n",
       "Lambert65   (0.237833002627, [1.00000000000000, 0.0, 0.0, ...   0.2378329   \n",
       "Fehlberg45  (0.0578594219191, [1.00000000000000, 0.0, 0.0,...  0.05785941   \n",
       "FE          (1.00000003584, [1.00000000000000, 0.0], [[0, ...           1   \n",
       "\n",
       "             Single pass SSP Coeff          1/A bound Tihi bound  \\\n",
       "BE              50.00999       inf   1.00000000000000          1   \n",
       "SSP75           1.178508         0   1.79244055420630   4.789389   \n",
       "Lambert65   7.756481e-05         0  0.583333333333333   5.477226   \n",
       "Fehlberg45  1.507554e-07         0  0.125000000000000   3.727919   \n",
       "FE                     1         1   1.00000000000000          1   \n",
       "\n",
       "           sp Column assumption      type iter Column assumption  stages  \\\n",
       "BE                         True  implicit                   True       1   \n",
       "SSP75                      True  explicit                  False       7   \n",
       "Lambert65                 False  explicit                  False       6   \n",
       "Fehlberg45                False  explicit                  False       6   \n",
       "FE                         True  explicit                   True       1   \n",
       "\n",
       "            order  \n",
       "BE              1  \n",
       "SSP75           5  \n",
       "Lambert65       2  \n",
       "Fehlberg45      5  \n",
       "FE              1  "
      ]
     },
     "execution_count": 73,
     "metadata": {},
     "output_type": "execute_result"
    }
   ],
   "source": [
    "df.head()"
   ]
  },
  {
   "cell_type": "code",
   "execution_count": null,
   "metadata": {
    "collapsed": false
   },
   "outputs": [],
   "source": []
  }
 ],
 "metadata": {
  "kernelspec": {
   "display_name": "Python 2",
   "language": "python",
   "name": "python2"
  },
  "language_info": {
   "codemirror_mode": {
    "name": "ipython",
    "version": 2
   },
   "file_extension": ".py",
   "mimetype": "text/x-python",
   "name": "python",
   "nbconvert_exporter": "python",
   "pygments_lexer": "ipython2",
   "version": "2.7.9"
  }
 },
 "nbformat": 4,
 "nbformat_minor": 0
}
